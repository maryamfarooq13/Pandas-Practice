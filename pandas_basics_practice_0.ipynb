{
  "cells": [
    {
      "cell_type": "code",
      "execution_count": null,
      "metadata": {
        "id": "c_eVXa9OPtvB"
      },
      "outputs": [],
      "source": [
        "import pandas as pd # A general purpose Python library for data analysis\n",
        "import numpy as np # A library for scientific computing in Python (e.g., provides high-performance multi-dimensional array objects and operations)\n",
        "import files\n",
        "\n",
        "# import matplotlib.pyplot as plt # a plotting library for Python and NumPy (readily customizable)\n",
        "# import seaborn as sns # Another plotting library for Python (fewer syntax, excellent default themes, behind the scenes, it uses matplotlib)\n",
        "# import time"
      ]
    },
    {
      "cell_type": "markdown",
      "metadata": {
        "id": "PSdsojacPtvD"
      },
      "source": [
        "## Knowledge Stream Summer 2023\n",
        "\n",
        "In this notebook, we will learn about the key data structures provided by the Pandas library: **Data Frames, Series, and Indices**.\n",
        "\n",
        "In addition, we will learn about the following operations:\n",
        "* How to access data contained in these structures?\n",
        "* How to read files (e.g., csv, xlsx, sql) to create these structures?\n",
        "* How to carry out different data manipulation tasks using these structures?\n",
        "\n",
        "`Dataset`: US elections with information about candidates, their party, votes won, year of election and the result."
      ]
    },
    {
      "cell_type": "markdown",
      "metadata": {
        "id": "sufDZrcePtvF"
      },
      "source": [
        "## Reading in Data Frames from Files"
      ]
    },
    {
      "cell_type": "markdown",
      "metadata": {
        "id": "SKvAs5UMPtvG"
      },
      "source": [
        "Pandas has a number of useful file reading tools. You can see them enumerated by typing **\"pd.re\"** and pressing `tab`. We'll be using **read_csv** today. Note that these file reading functions do all the *data parsing* for you, which is very useful."
      ]
    },
    {
      "cell_type": "markdown",
      "metadata": {
        "id": "wAchNI6BPtvG"
      },
      "source": [
        "Before loading a file into a dataframe, let's first take a look at the **elections.csv** file"
      ]
    },
    {
      "cell_type": "code",
      "execution_count": null,
      "metadata": {
        "id": "vQruwj5rPtvG",
        "scrolled": true
      },
      "outputs": [],
      "source": [
        "# with open(\"files/elections.csv\", 'r') as file:\n",
        "#     content = file.read()\n",
        "#     print(content)\n",
        "\n",
        "df = pd.read_csv('datafiles/elections.csv')\n",
        "df"
      ]
    },
    {
      "cell_type": "markdown",
      "metadata": {
        "id": "DFG0R-hvPtvH"
      },
      "source": [
        "We can use the **head command** to show only a few rows of a dataframe."
      ]
    },
    {
      "cell_type": "code",
      "execution_count": null,
      "metadata": {
        "id": "ft8isrsOPtvI"
      },
      "outputs": [],
      "source": [
        "df.head()"
      ]
    },
    {
      "cell_type": "markdown",
      "metadata": {
        "id": "k2hQ-7gCPtvI"
      },
      "source": [
        "There is also a **tail command**."
      ]
    },
    {
      "cell_type": "code",
      "execution_count": null,
      "metadata": {
        "id": "Hd90_fIZPtvI"
      },
      "outputs": [],
      "source": [
        "# to check last few observations\n",
        "df.tail()"
      ]
    },
    {
      "cell_type": "markdown",
      "metadata": {
        "id": "rts8fQn7PtvI"
      },
      "source": [
        "The `read_csv` command lets us specify a **column to use an index**. For example, we could have used __Year__ as the index."
      ]
    },
    {
      "cell_type": "code",
      "execution_count": null,
      "metadata": {
        "id": "r3-biPiJPtvI"
      },
      "outputs": [],
      "source": [
        "orgelections = pd.read_csv('datafiles/elections.csv')\n",
        "df.head()"
      ]
    },
    {
      "cell_type": "markdown",
      "metadata": {
        "id": "zWtY3hv5R9B5"
      },
      "source": [
        "Alternately, we could have used the **set_index** commmand on the dataframe."
      ]
    },
    {
      "cell_type": "code",
      "execution_count": null,
      "metadata": {
        "id": "-u_BJi6ZPtvJ"
      },
      "outputs": [],
      "source": [
        "# setting index\n",
        "elections = orgelections.set_index('Year')\n",
        "elections.head()"
      ]
    },
    {
      "cell_type": "code",
      "execution_count": null,
      "metadata": {},
      "outputs": [],
      "source": [
        "# reseting index\n",
        "elections = elections.reset_index()\n",
        "elections.head()"
      ]
    },
    {
      "cell_type": "code",
      "execution_count": null,
      "metadata": {},
      "outputs": [],
      "source": [
        "# again chaning index\n",
        "elections = elections.set_index('Party')\n",
        "elections.head()"
      ]
    },
    {
      "cell_type": "code",
      "execution_count": null,
      "metadata": {},
      "outputs": [],
      "source": [
        "# reseting index\n",
        "elections = elections.reset_index()\n",
        "elections.head()"
      ]
    },
    {
      "cell_type": "markdown",
      "metadata": {},
      "source": [
        "### Learnings for me :P :\n",
        "- do not try to change/modify the original dataframe, perform manupluations on other variable\n",
        "- kep manupulated dataframe variable same along the project when needed change!\n",
        "- do not set/change index without reseting it to default"
      ]
    },
    {
      "cell_type": "markdown",
      "metadata": {
        "id": "kOpP3gBYPtvJ"
      },
      "source": [
        "# Caution:\n",
        "The **set_index command** (along with all other data frame methods) **does not modify the dataframe**, i.e., the original \"elections\" is untouched. Note: There is a flag called \"inplace\" which does modify the calling dataframe (e.g., `elections.set_index(\"Party\",inplace=True)`)."
      ]
    },
    {
      "cell_type": "markdown",
      "metadata": {
        "id": "HYFFeZwRPtvJ"
      },
      "source": [
        "## Duplicate Columns?\n",
        "By contast, column names MUST be unique. For example, if we try to read in a file for which column names are not unique, Pandas will automatically any duplicates. Load duplicate_columns.csv"
      ]
    },
    {
      "cell_type": "code",
      "execution_count": null,
      "metadata": {
        "id": "4VSBA-Y4PtvJ"
      },
      "outputs": [],
      "source": [
        "duplicatedf = pd.read_csv('datafiles/duplicate_columns.csv')\n",
        "duplicatedf.head()\n",
        "# elections"
      ]
    },
    {
      "cell_type": "markdown",
      "metadata": {
        "id": "fUjSXLNhPtvK"
      },
      "source": [
        "## The [ ] Operator & Indexing"
      ]
    },
    {
      "cell_type": "markdown",
      "metadata": {
        "id": "_y0PM7R9PtvK"
      },
      "source": [
        "The DataFrame class has an indexing operator **[ ]** (also known as the 'brack' operator) that lets you do a variety of different things. If your provide a String to the **[ ]** operator, you get back a ***Series*** corresponding to the requested label.\n",
        "\n",
        "1.Use **[ ]** to display different columns\n",
        "\n",
        "2.Use List retrive multiple columns"
      ]
    },
    {
      "cell_type": "code",
      "execution_count": null,
      "metadata": {
        "id": "MpSUIkiHPtvK"
      },
      "outputs": [],
      "source": [
        "# elections\n",
        "\n",
        "# retriving a single column\n",
        "elections['Party']\n",
        "\n",
        "# retreiving columns through list\n",
        "# columntocall = ['Candidate', 'Year']\n",
        "# elections[columntocall]"
      ]
    },
    {
      "cell_type": "markdown",
      "metadata": {
        "id": "DopcbfEpPtvK"
      },
      "source": [
        "The **[ ]** operator also accepts a list of strings. In this case, you get back a **DataFrame** corresponding to the requested strings."
      ]
    },
    {
      "cell_type": "code",
      "execution_count": null,
      "metadata": {
        "id": "lX4YozsZPtvK",
        "scrolled": true
      },
      "outputs": [],
      "source": [
        "elections[['Candidate', 'Year']]"
      ]
    },
    {
      "cell_type": "markdown",
      "metadata": {
        "id": "7pv2JkjRPtvK"
      },
      "source": [
        "A list of one label also returns a DataFrame. This can be handy if you want your results as a DataFrame, not a series."
      ]
    },
    {
      "cell_type": "markdown",
      "metadata": {
        "id": "XqKnvINoPtvL"
      },
      "source": [
        "Note that we can also use the **to_frame** method to turn a Series into a DataFrame.\n",
        "\n",
        "Extract one col name \"Candidates\" from DataFrame it will be a series. Convert series into a DataFrame."
      ]
    },
    {
      "cell_type": "code",
      "execution_count": null,
      "metadata": {
        "id": "XUOtNoVnPtvL"
      },
      "outputs": [],
      "source": [
        "cand_col = elections['Candidate']\n",
        "cand_col"
      ]
    },
    {
      "cell_type": "code",
      "execution_count": null,
      "metadata": {
        "id": "HdHWFzzSPtvL"
      },
      "outputs": [],
      "source": [
        "cand_df = cand_col.to_frame()\n",
        "cand_df"
      ]
    },
    {
      "cell_type": "markdown",
      "metadata": {
        "id": "8l2IdtBwPtvL"
      },
      "source": [
        "### Row Indexing\n",
        "\n",
        "The `[]` operator also accepts numerical slices as arguments. In this case, we are indexing by row, not column!\n",
        "\n",
        "Extract few rows from DataFrame"
      ]
    },
    {
      "cell_type": "code",
      "execution_count": null,
      "metadata": {
        "id": "VrZMcM5rPtvL",
        "scrolled": true
      },
      "outputs": [],
      "source": [
        "few_rows = elections[13:15]\n",
        "few_rows"
      ]
    },
    {
      "cell_type": "markdown",
      "metadata": {
        "id": "BbzS6oI4PtvN"
      },
      "source": [
        "If you provide a single argument to the `[]` operator, it tries to use it as a name. This is true even if the argument passed to **[ ]** is an integer."
      ]
    },
    {
      "cell_type": "code",
      "execution_count": null,
      "metadata": {
        "id": "tw51ccpUPtvN"
      },
      "outputs": [],
      "source": [
        "# elections[0] #this does not work, try uncommenting this to see it fail in action, woo"
      ]
    },
    {
      "cell_type": "markdown",
      "metadata": {
        "id": "EJsBn7uKPtvN"
      },
      "source": [
        "The following cells allow you to **test your understanding**. Let's go over the summary of what we have learnt (see slides).\n",
        "\n",
        "# Creating DataFrames\n",
        "Create DataFrame using List and Columns name."
      ]
    },
    {
      "cell_type": "code",
      "execution_count": null,
      "metadata": {},
      "outputs": [],
      "source": [
        "# Creating lists :\n",
        "l1 = ['john', 'microsoft', 22]\n",
        "l2 = ['smith', 'apple',\t34]\n",
        "l3 = ['max', 'tesla', 32]\n",
        "l4 = ['Naik', 'google', 42]\n",
        "l5 = ['joe', 'apple',\t36]\n",
        "l6 = ['anna', 'unity', 31]\n",
        "\n",
        "# to make dataframe from lists:\n",
        "orgdf = pd.DataFrame([l1, l2, l3, l4, l5, l6], columns=['Name', 'Company', 'Age'])\n",
        "orgdf"
      ]
    },
    {
      "cell_type": "markdown",
      "metadata": {
        "id": "De8I7tdRhSCc"
      },
      "source": [
        "Creating DataFrames using **Dictionary**."
      ]
    },
    {
      "cell_type": "code",
      "execution_count": null,
      "metadata": {
        "id": "YLidbVoJPtvN"
      },
      "outputs": [],
      "source": [
        "# Creating dictionaries:\n",
        "data = {'Name': ['john', 'smith', 'max', 'alex', 'naik'], \n",
        "        'Company': ['microsoft', 'apple', 'tesla', 'microsoft', 'google'], \n",
        "        'Age': [22,34,32,39,29]}\n",
        "\n",
        "orgdf= pd.DataFrame(data)\n",
        "orgdf"
      ]
    },
    {
      "cell_type": "markdown",
      "metadata": {
        "id": "GsX8jyA3PtvO"
      },
      "source": [
        "## Filtering via Boolean Array Selection"
      ]
    },
    {
      "cell_type": "markdown",
      "metadata": {
        "id": "RXDjTannPtvO"
      },
      "source": [
        "The `[]` operator also supports array of booleans as an input. In this case, the array must be exactly as long as the number of rows. The result is a **filtered version of the data frame**, where **only rows corresponding to True appear**."
      ]
    },
    {
      "cell_type": "code",
      "execution_count": null,
      "metadata": {
        "id": "pD79oglhPtvP"
      },
      "outputs": [],
      "source": [
        "# elections\n",
        "elections[[False, False, False, False, False,\n",
        "          False, False, True, False, False,\n",
        "          True, False, False, False, True,\n",
        "          False, False, False, False, False,\n",
        "          False, True, False]]"
      ]
    },
    {
      "cell_type": "markdown",
      "metadata": {
        "id": "0lo-osU2PtvP"
      },
      "source": [
        "One very common task in Data Science is **filtering**. Boolean Array Selection is one way to achieve this in Pandas. We start by observing that **logical operators** like the equality operator can be applied to **Pandas Series data** to generate a **Boolean Array**.\n",
        "\n",
        "Compare the 'Result' column to the String 'win' and Show results"
      ]
    },
    {
      "cell_type": "code",
      "execution_count": null,
      "metadata": {
        "id": "Or9NKO2kPtvP"
      },
      "outputs": [],
      "source": [
        "elections['Result'] == 'win'# to get bool array"
      ]
    },
    {
      "cell_type": "markdown",
      "metadata": {
        "id": "bFEH7w974G63"
      },
      "source": [
        "Compare the 'Party' column to the String 'Democratic' and Show results"
      ]
    },
    {
      "cell_type": "code",
      "execution_count": null,
      "metadata": {
        "id": "BeyIZ48fPtvP"
      },
      "outputs": [],
      "source": [
        "elections['Party'] == 'Democratic' # to get bool array"
      ]
    },
    {
      "cell_type": "markdown",
      "metadata": {
        "id": "TiRu5S1FPtvP"
      },
      "source": [
        "The output of the logical operator applied to the Series is **another Series with the same name and index, but of datatype boolean**."
      ]
    },
    {
      "cell_type": "markdown",
      "metadata": {
        "id": "Avt0U9UBPtvQ"
      },
      "source": [
        "These boolean Series can be used as an argument to the `[]` operator.\n",
        "\n",
        "Creates  DataFrame of all election winners since 1980."
      ]
    },
    {
      "cell_type": "code",
      "execution_count": null,
      "metadata": {
        "id": "UTzXe5syPtvQ"
      },
      "outputs": [],
      "source": [
        "iswin = elections[elections['Result'] == 'win'] # to get specific data"
      ]
    },
    {
      "cell_type": "markdown",
      "metadata": {
        "id": "EEv5yYEhPtvQ"
      },
      "source": [
        "Above, we've assigned the result of the logical operator to a new variable called `iswin`. This is uncommon. Usually, the series is created and used on the same line. Such code is a little tricky to read at first, but you'll get used to it quickly.\n",
        "\n",
        "Show all 'win' results between 1980 to 2000"
      ]
    },
    {
      "cell_type": "code",
      "execution_count": null,
      "metadata": {
        "id": "BBFYJwLwPtvQ"
      },
      "outputs": [],
      "source": [
        "iswin_year = iswin[iswin['Year'] < 2000]\n",
        "iswin_year"
      ]
    },
    {
      "cell_type": "markdown",
      "metadata": {
        "id": "_NW4uODP5C7M"
      },
      "source": [
        "Show all 'Loss' results of Independent party"
      ]
    },
    {
      "cell_type": "code",
      "execution_count": null,
      "metadata": {
        "id": "SucI5W7yPtvQ"
      },
      "outputs": [],
      "source": [
        "# getting the loss results of independent party\n",
        "ind_party_result = elections[(elections['Party'] == 'Independent') & (elections['Result'] == 'loss') ]\n",
        "ind_party_result"
      ]
    },
    {
      "cell_type": "markdown",
      "metadata": {
        "id": "wr9tNNT_PtvQ"
      },
      "source": [
        "We can select multiple criteria by creating multiple boolean Series and combining them using the `&` operator.\n",
        "\n",
        "Show results of win with percentage less than 50%"
      ]
    },
    {
      "cell_type": "code",
      "execution_count": null,
      "metadata": {
        "id": "7VygVujvPtvQ",
        "scrolled": true
      },
      "outputs": [],
      "source": [
        "percent_result = elections[(elections['Result'] == 'win') & (elections['%'] < 50)]\n",
        "percent_result"
      ]
    },
    {
      "cell_type": "markdown",
      "metadata": {
        "id": "ToedM6lA6Bp7"
      },
      "source": [
        "Show all 'win' results between 1980 to 2000"
      ]
    },
    {
      "cell_type": "code",
      "execution_count": null,
      "metadata": {
        "id": "RfqDKcii6Dcs"
      },
      "outputs": [],
      "source": [
        "all_win = elections[(elections['Result'] == 'win') & (elections['Year'] > 1980) & (elections['Year'] < 2000)]\n",
        "all_win"
      ]
    },
    {
      "cell_type": "markdown",
      "metadata": {
        "id": "pkonOW2pPtvR"
      },
      "source": [
        "## Loc and iLoc"
      ]
    },
    {
      "cell_type": "markdown",
      "metadata": {
        "id": "hSiAy9KD5eJk"
      },
      "source": [
        "Show 5 enteries from start"
      ]
    },
    {
      "cell_type": "code",
      "execution_count": null,
      "metadata": {
        "id": "OIwnpgEM6HeI"
      },
      "outputs": [],
      "source": [
        "elections.head(5)"
      ]
    },
    {
      "cell_type": "markdown",
      "metadata": {
        "id": "XHhLGedmPtvR"
      },
      "source": [
        "You can provide `.loc` a list of row labels [0-5] and column labels ['Candidate','Party', 'Year'] as input to return a dataframe"
      ]
    },
    {
      "cell_type": "code",
      "execution_count": null,
      "metadata": {
        "id": "XUZe4G0WPtvR"
      },
      "outputs": [],
      "source": [
        "elections.loc[0:5,['Candidate','Party','Year']]"
      ]
    },
    {
      "cell_type": "markdown",
      "metadata": {
        "id": "Tw5Er1BCPtvR"
      },
      "source": [
        "Loc also supports **slicing** (for all types, including numeric and string labels!). Note that the slicing for loc is **inclusive**, even for numeric slices.\n",
        "\n",
        "Use Slicing on Rows and Columns"
      ]
    },
    {
      "cell_type": "code",
      "execution_count": null,
      "metadata": {
        "id": "SXI38aagPtvR",
        "scrolled": true
      },
      "outputs": [],
      "source": [
        "elections.loc[:,['Party','Result']]"
      ]
    },
    {
      "cell_type": "code",
      "execution_count": null,
      "metadata": {},
      "outputs": [],
      "source": [
        "elections.loc[5:10,:]"
      ]
    },
    {
      "cell_type": "markdown",
      "metadata": {
        "id": "pM5KD0kPPtvR"
      },
      "source": [
        "If we provide only a **single label** for the column argument, we get back a **Series**."
      ]
    },
    {
      "cell_type": "code",
      "execution_count": null,
      "metadata": {
        "id": "Ps6PUX9_PtvS"
      },
      "outputs": [],
      "source": [
        "elections.loc[0:5, 'Result']"
      ]
    },
    {
      "cell_type": "markdown",
      "metadata": {
        "id": "z8qglbBwPtvS"
      },
      "source": [
        "If we want a data frame instead and don't want to use to_frame, we can provide a **list** containing the column name."
      ]
    },
    {
      "cell_type": "code",
      "execution_count": null,
      "metadata": {
        "id": "I9JqZBVMPtvS",
        "scrolled": true
      },
      "outputs": [],
      "source": [
        "# list = ['Result']\n",
        "# elections.loc[0:5, list]\n",
        "\n",
        "elections.loc[0:5, ['Result']]"
      ]
    },
    {
      "cell_type": "markdown",
      "metadata": {
        "id": "QighByBIPtvS"
      },
      "source": [
        "If we give only one row but many column labels, we'll get back a **Series** corresponding to a row of the table. This new Series has a neat index, where **each entry is the name of the column** that the data came from."
      ]
    },
    {
      "cell_type": "code",
      "execution_count": null,
      "metadata": {
        "id": "5XT8-_bpPtvS"
      },
      "outputs": [],
      "source": [
        "elections.loc[1,:]"
      ]
    },
    {
      "cell_type": "markdown",
      "metadata": {
        "id": "oB0GTCT5PtvS"
      },
      "source": [
        "If we omit the column argument altogether, the **default behavior is to retrieve all columns**."
      ]
    },
    {
      "cell_type": "code",
      "execution_count": null,
      "metadata": {
        "id": "cewKbmCYPtvT"
      },
      "outputs": [],
      "source": [
        "elections.loc[1:5]\n"
      ]
    },
    {
      "cell_type": "markdown",
      "metadata": {
        "id": "GIuYoSqH7TYj"
      },
      "source": [
        "Specify Rows and Columns as List to retrive specific enteries"
      ]
    },
    {
      "cell_type": "code",
      "execution_count": null,
      "metadata": {
        "id": "roAnjNt2PtvT",
        "scrolled": true
      },
      "outputs": [],
      "source": [
        "rows = [1,2,10]\n",
        "columns = ['Party', 'Result']\n",
        "elections.loc[rows, columns]"
      ]
    },
    {
      "cell_type": "markdown",
      "metadata": {
        "id": "C7Bfwc6gPtvT"
      },
      "source": [
        "Boolean Series are also boolean arrays, so we can use the Boolean Array Selection from earlier using loc as well."
      ]
    },
    {
      "cell_type": "code",
      "execution_count": null,
      "metadata": {
        "id": "Ub9I30OxPtvT"
      },
      "outputs": [],
      "source": [
        "# creating a bool series\n",
        "# bool_result = elections['Result'] == 'win'\n",
        "# bool_result\n",
        "\n",
        "elections.loc[elections['Result'] == 'win', :]"
      ]
    },
    {
      "cell_type": "markdown",
      "metadata": {
        "id": "533WKwGXPtvT"
      },
      "source": [
        "## String-labeled Rows\n",
        "\n",
        "Let's do a quick example using data with string-labeled rows instead of integer labeled rows, just to make sure we're really understanding loc.\n",
        "\n",
        "Use mottos.csv file"
      ]
    },
    {
      "cell_type": "code",
      "execution_count": null,
      "metadata": {
        "id": "-y7r7wfBPtvT"
      },
      "outputs": [],
      "source": [
        "orgmottos = pd.read_csv(\"datafiles/mottos.csv\")\n",
        "mottos = orgmottos.set_index('State')"
      ]
    },
    {
      "cell_type": "markdown",
      "metadata": {
        "id": "8E1olDerPtvT"
      },
      "source": [
        "Extract slice, can be specified using slice notation, even if the rows have string labels instead of integer labels."
      ]
    },
    {
      "cell_type": "code",
      "execution_count": null,
      "metadata": {},
      "outputs": [],
      "source": [
        "mottos.loc[['Texas','Virginia'],['Language', 'Translation','Motto']]"
      ]
    },
    {
      "cell_type": "markdown",
      "metadata": {
        "id": "9meAs22VPtvU"
      },
      "source": [
        "### iloc"
      ]
    },
    {
      "cell_type": "markdown",
      "metadata": {
        "id": "Kgz9kKXLPtvU"
      },
      "source": [
        "loc's cousin iloc is very similar, but is used to access based on numerical position instead of label. For example, to access to the top 3 rows and top 3 columns of a table, we can use [0:3, 0:3]. 'iloc' slicing is **exclusive**, just like standard Python slicing of numerical values.\n",
        "\n",
        "Use iloc to extract first 3 rows and columns from elections DataFrame"
      ]
    },
    {
      "cell_type": "code",
      "execution_count": null,
      "metadata": {
        "id": "TveQUq2oPtvU"
      },
      "outputs": [],
      "source": [
        "elections.iloc[:4,:4]"
      ]
    },
    {
      "cell_type": "markdown",
      "metadata": {
        "id": "d75cITKiPtvV"
      },
      "source": [
        "We will use both `loc` and `iloc` in the course. `loc` is generally preferred for a number of reasons, for example:\n",
        "\n",
        "1. It is harder to make mistakes since you have to literally write out what you want to get.\n",
        "2. Code is easier to read, because the reader doesn't have to know e.g., what column #17 represents.\n",
        "3. It is robust against permutations of the data, e.g. the social security administration switches the order of two columns.\n",
        "\n",
        "However, iloc is sometimes more convenient. We'll provide examples of when iloc is the superior choice."
      ]
    },
    {
      "cell_type": "markdown",
      "metadata": {
        "id": "Sj-li9oQPtvV"
      },
      "source": [
        "## Handy Properties and Utility Functions for Series and DataFrames"
      ]
    },
    {
      "cell_type": "markdown",
      "metadata": {
        "id": "2D6yrBvcPtvV"
      },
      "source": [
        "The head, shape, size, and describe methods can be used to quickly get a good sense of the data we're working with. For example:"
      ]
    },
    {
      "cell_type": "code",
      "execution_count": null,
      "metadata": {
        "id": "I2c3ON6BPtvV"
      },
      "outputs": [],
      "source": [
        "mottos.info()\n",
        "mottos.index\n"
      ]
    },
    {
      "cell_type": "markdown",
      "metadata": {
        "id": "bQSKGPxTroVf"
      },
      "source": [
        "Size of DataFrame"
      ]
    },
    {
      "cell_type": "code",
      "execution_count": null,
      "metadata": {
        "id": "iGVtW1YEPtvV"
      },
      "outputs": [],
      "source": [
        "mottos.size"
      ]
    },
    {
      "cell_type": "markdown",
      "metadata": {
        "id": "PB4R3k_6PtvW"
      },
      "source": [
        "The fact that the size is 250 means our data file is relatively small, with only 250 total entries.\n",
        "\n",
        "Shape of DataFrame"
      ]
    },
    {
      "cell_type": "code",
      "execution_count": null,
      "metadata": {
        "id": "dBaU7nMNPtvW"
      },
      "outputs": [],
      "source": [
        "mottos.shape"
      ]
    },
    {
      "cell_type": "markdown",
      "metadata": {
        "id": "NevFNt3_PtvW"
      },
      "source": [
        "Use describe function and extract the meaningful information from DataFrame"
      ]
    },
    {
      "cell_type": "code",
      "execution_count": null,
      "metadata": {
        "id": "7T7Xg4wePtvW"
      },
      "outputs": [],
      "source": [
        "mottos.describe()"
      ]
    },
    {
      "cell_type": "markdown",
      "metadata": {
        "id": "jEAxyt57PtvW"
      },
      "source": [
        "Above, we see a quick summary of all the data. For example, the most common language for mottos is Latin, which covers 23 different states. Does anything else seem surprising?"
      ]
    },
    {
      "cell_type": "markdown",
      "metadata": {
        "id": "5Sz84ZcoPtvX"
      },
      "source": [
        "We can get a direct reference to the index using .index."
      ]
    },
    {
      "cell_type": "code",
      "execution_count": null,
      "metadata": {
        "id": "Oc8PNHQSPtvX"
      },
      "outputs": [],
      "source": [
        "mottos.index"
      ]
    },
    {
      "cell_type": "code",
      "execution_count": null,
      "metadata": {
        "id": "fHrsk46BPtvX"
      },
      "outputs": [],
      "source": [
        "mottos.head(2)"
      ]
    },
    {
      "cell_type": "markdown",
      "metadata": {
        "id": "IZRgHL-cPtvX"
      },
      "source": [
        "It turns out the columns also have an Index. We can access this index by using `.columns`."
      ]
    },
    {
      "cell_type": "code",
      "execution_count": null,
      "metadata": {
        "colab": {
          "base_uri": "https://localhost:8080/"
        },
        "id": "b3uXufYwPtvX",
        "outputId": "c97a8be0-cdf1-4ace-da34-8ed493a72928"
      },
      "outputs": [],
      "source": [
        "mottos.columns"
      ]
    },
    {
      "cell_type": "markdown",
      "metadata": {
        "id": "vfqTqtXjPtvY"
      },
      "source": [
        "## Sorting and Value Counts\n",
        "\n",
        "There are also a ton of useful utility methods we can use with Data Frames and Series. For example, we can create a copy of a data frame sorted by a specific column using `sort_values`."
      ]
    },
    {
      "cell_type": "code",
      "execution_count": null,
      "metadata": {
        "id": "ioH43WI_PtvY"
      },
      "outputs": [],
      "source": [
        "mottos.sort_values(by='Date Adopted')"
      ]
    },
    {
      "cell_type": "markdown",
      "metadata": {
        "id": "LwW2YK8gPtvY"
      },
      "source": [
        "As mentioned before, all Data Frame methods return a copy and do **not** modify the original data structure, unless you set inplace to True."
      ]
    },
    {
      "cell_type": "markdown",
      "metadata": {
        "id": "tMqlf3Q8PtvY"
      },
      "source": [
        "If we want to sort in reverse order, we can set `ascending=False`."
      ]
    },
    {
      "cell_type": "code",
      "execution_count": null,
      "metadata": {
        "id": "-Cx7vHzKPtvY"
      },
      "outputs": [],
      "source": [
        "elections.sort_values('%', ascending=False)"
      ]
    },
    {
      "cell_type": "markdown",
      "metadata": {
        "id": "l88QC8yvPtvZ"
      },
      "source": [
        "We can also use `sort_values` on Series objects."
      ]
    },
    {
      "cell_type": "code",
      "execution_count": null,
      "metadata": {
        "id": "4wTi414QPtva"
      },
      "outputs": [],
      "source": [
        "mottos['Language'].sort_values().head(50)"
      ]
    },
    {
      "cell_type": "markdown",
      "metadata": {
        "id": "8_4EHw_lPtvb"
      },
      "source": [
        "For Series, the `value_counts` method is often quite handy."
      ]
    },
    {
      "cell_type": "code",
      "execution_count": null,
      "metadata": {
        "id": "qO1Uxnw3Ptvb"
      },
      "outputs": [],
      "source": [
        "mottos['Language'].value_counts()"
      ]
    },
    {
      "cell_type": "markdown",
      "metadata": {
        "id": "l1fAovTpPtvb"
      },
      "source": [
        "Also commonly used is the `unique` method, which returns **all unique values** as a numpy array."
      ]
    },
    {
      "cell_type": "code",
      "execution_count": null,
      "metadata": {
        "id": "_ToE_vqVPtvb"
      },
      "outputs": [],
      "source": [
        "mottos['Language'].unique()"
      ]
    },
    {
      "cell_type": "code",
      "execution_count": null,
      "metadata": {
        "colab": {
          "base_uri": "https://localhost:8080/"
        },
        "id": "HAYgnI5ZPtvb",
        "outputId": "fe2327f2-b209-45fe-dc98-b866fe139dd9"
      },
      "outputs": [],
      "source": [
        "def fiba(n):\n",
        "    if n < 2:\n",
        "        return n\n",
        "    else:\n",
        "        return fiba(n-1) + fiba(n-2)\n",
        "\n",
        "\n",
        "\n",
        "fiba(5)"
      ]
    },
    {
      "cell_type": "markdown",
      "metadata": {
        "id": "nyvmtSviPtvc"
      },
      "source": [
        "# Thank you!"
      ]
    }
  ],
  "metadata": {
    "colab": {
      "provenance": []
    },
    "kernelspec": {
      "display_name": "Python 3",
      "language": "python",
      "name": "python3"
    },
    "language_info": {
      "codemirror_mode": {
        "name": "ipython",
        "version": 3
      },
      "file_extension": ".py",
      "mimetype": "text/x-python",
      "name": "python",
      "nbconvert_exporter": "python",
      "pygments_lexer": "ipython3",
      "version": "3.12.1"
    },
    "vscode": {
      "interpreter": {
        "hash": "7a3d88c904243d2c3f246166597f86d1c0a39f3d97496d1fe394945d0c6d436d"
      }
    }
  },
  "nbformat": 4,
  "nbformat_minor": 0
}

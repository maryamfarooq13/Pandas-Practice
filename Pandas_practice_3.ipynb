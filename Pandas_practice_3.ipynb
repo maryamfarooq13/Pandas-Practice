{
  "cells": [
    {
      "cell_type": "markdown",
      "metadata": {
        "id": "NIjiNewjikKW"
      },
      "source": [
        "# Lecture 4 –Fall 2023\n",
        "\n",
        "A demonstration of advanced `pandas` syntax to accompany Lecture 4."
      ]
    },
    {
      "cell_type": "code",
      "execution_count": 1,
      "metadata": {
        "colab": {
          "base_uri": "https://localhost:8080/"
        },
        "id": "cgdnHZXjimq0",
        "outputId": "8a53e8e3-790d-45ed-df1e-a97381a64d35"
      },
      "outputs": [],
      "source": [
        "# from google.colab import drive\n",
        "# drive.mount('/content/drive')"
      ]
    },
    {
      "cell_type": "code",
      "execution_count": 2,
      "metadata": {
        "id": "iMMkYGl7ikKa"
      },
      "outputs": [],
      "source": [
        "import numpy as np\n",
        "import pandas as pd\n",
        "import plotly.express as px"
      ]
    },
    {
      "cell_type": "markdown",
      "metadata": {
        "id": "iD2Qu34XikKi"
      },
      "source": [
        "## Dataset: California baby names\n",
        "\n",
        "In today's lecture, we'll work with the `babynames` dataset, which contains information about the names of infants born in California.\n",
        "\n",
        "The cell below pulls census data from a government website and then loads it into a usable form. The code shown here is outside of the scope of Data 100, but you're encouraged to dig into it if you are interested!"
      ]
    },
    {
      "cell_type": "code",
      "execution_count": 3,
      "metadata": {
        "id": "PXW2WryKikKi"
      },
      "outputs": [],
      "source": [
        "# import urllib.request\n",
        "# import os.path\n",
        "# import zipfile\n",
        "\n",
        "# data_url = \"https://www.ssa.gov/oact/babynames/state/namesbystate.zip\"\n",
        "# local_filename = \"/content/drive/MyDrive/data/babynamesbystate.zip\"\n",
        "# if not os.path.exists(local_filename): # If the data exists don't download again\n",
        "#     with urllib.request.urlopen(data_url) as resp, open(local_filename, 'wb') as f:\n",
        "#         f.write(resp.read())\n",
        "\n",
        "# zf = zipfile.ZipFile(local_filename, 'r')\n",
        "\n",
        "# ca_name = 'STATE.CA.TXT'\n",
        "# field_names = ['State', 'Sex', 'Year', 'Name', 'Count']\n",
        "# with zf.open(ca_name) as fh:\n",
        "#     babynames = pd.read_csv(fh, header=None, names=field_names)\n",
        "\n",
        "# babynames.head()"
      ]
    },
    {
      "cell_type": "code",
      "execution_count": 4,
      "metadata": {},
      "outputs": [
        {
          "data": {
            "text/html": [
              "<div>\n",
              "<style scoped>\n",
              "    .dataframe tbody tr th:only-of-type {\n",
              "        vertical-align: middle;\n",
              "    }\n",
              "\n",
              "    .dataframe tbody tr th {\n",
              "        vertical-align: top;\n",
              "    }\n",
              "\n",
              "    .dataframe thead th {\n",
              "        text-align: right;\n",
              "    }\n",
              "</style>\n",
              "<table border=\"1\" class=\"dataframe\">\n",
              "  <thead>\n",
              "    <tr style=\"text-align: right;\">\n",
              "      <th></th>\n",
              "      <th>State</th>\n",
              "      <th>Sex</th>\n",
              "      <th>Year</th>\n",
              "      <th>Name</th>\n",
              "      <th>Count</th>\n",
              "    </tr>\n",
              "  </thead>\n",
              "  <tbody>\n",
              "    <tr>\n",
              "      <th>0</th>\n",
              "      <td>CA</td>\n",
              "      <td>F</td>\n",
              "      <td>1910</td>\n",
              "      <td>Mary</td>\n",
              "      <td>295</td>\n",
              "    </tr>\n",
              "    <tr>\n",
              "      <th>1</th>\n",
              "      <td>CA</td>\n",
              "      <td>F</td>\n",
              "      <td>1910</td>\n",
              "      <td>Helen</td>\n",
              "      <td>239</td>\n",
              "    </tr>\n",
              "    <tr>\n",
              "      <th>2</th>\n",
              "      <td>CA</td>\n",
              "      <td>F</td>\n",
              "      <td>1910</td>\n",
              "      <td>Dorothy</td>\n",
              "      <td>220</td>\n",
              "    </tr>\n",
              "    <tr>\n",
              "      <th>3</th>\n",
              "      <td>CA</td>\n",
              "      <td>F</td>\n",
              "      <td>1910</td>\n",
              "      <td>Margaret</td>\n",
              "      <td>163</td>\n",
              "    </tr>\n",
              "    <tr>\n",
              "      <th>4</th>\n",
              "      <td>CA</td>\n",
              "      <td>F</td>\n",
              "      <td>1910</td>\n",
              "      <td>Frances</td>\n",
              "      <td>134</td>\n",
              "    </tr>\n",
              "    <tr>\n",
              "      <th>5</th>\n",
              "      <td>CA</td>\n",
              "      <td>F</td>\n",
              "      <td>1910</td>\n",
              "      <td>Ruth</td>\n",
              "      <td>128</td>\n",
              "    </tr>\n",
              "    <tr>\n",
              "      <th>6</th>\n",
              "      <td>CA</td>\n",
              "      <td>F</td>\n",
              "      <td>1910</td>\n",
              "      <td>Evelyn</td>\n",
              "      <td>126</td>\n",
              "    </tr>\n",
              "    <tr>\n",
              "      <th>7</th>\n",
              "      <td>CA</td>\n",
              "      <td>F</td>\n",
              "      <td>1910</td>\n",
              "      <td>Alice</td>\n",
              "      <td>118</td>\n",
              "    </tr>\n",
              "    <tr>\n",
              "      <th>8</th>\n",
              "      <td>CA</td>\n",
              "      <td>F</td>\n",
              "      <td>1910</td>\n",
              "      <td>Virginia</td>\n",
              "      <td>101</td>\n",
              "    </tr>\n",
              "    <tr>\n",
              "      <th>9</th>\n",
              "      <td>CA</td>\n",
              "      <td>F</td>\n",
              "      <td>1910</td>\n",
              "      <td>Elizabeth</td>\n",
              "      <td>93</td>\n",
              "    </tr>\n",
              "  </tbody>\n",
              "</table>\n",
              "</div>"
            ],
            "text/plain": [
              "  State Sex  Year       Name  Count\n",
              "0    CA   F  1910       Mary    295\n",
              "1    CA   F  1910      Helen    239\n",
              "2    CA   F  1910    Dorothy    220\n",
              "3    CA   F  1910   Margaret    163\n",
              "4    CA   F  1910    Frances    134\n",
              "5    CA   F  1910       Ruth    128\n",
              "6    CA   F  1910     Evelyn    126\n",
              "7    CA   F  1910      Alice    118\n",
              "8    CA   F  1910   Virginia    101\n",
              "9    CA   F  1910  Elizabeth     93"
            ]
          },
          "execution_count": 4,
          "metadata": {},
          "output_type": "execute_result"
        }
      ],
      "source": [
        "import zipfile\n",
        "\n",
        "# Specify the path to your ZIP file using forward slashes\n",
        "zip_file_path = \"datafiles/babynamesbystate.zip\"\n",
        "\n",
        "# Specify the name of the file you want to read from the ZIP archive\n",
        "ca_name = 'STATE.CA.TXT'\n",
        "\n",
        "# Open the ZIP file\n",
        "with zipfile.ZipFile(zip_file_path, 'r') as zf:\n",
        "    # Check if the specified file exists in the ZIP archive\n",
        "    if ca_name in zf.namelist():\n",
        "        # Read the CSV file directly from the ZIP archive\n",
        "        with zf.open(ca_name) as fh:\n",
        "            # Define field names for the DataFrame\n",
        "            field_names = ['State', 'Sex', 'Year', 'Name', 'Count']\n",
        "            # Read CSV using Pandas\n",
        "            orgbabynames = pd.read_csv(fh, header=None, names=field_names)\n",
        "            # Display the first 15 rows of the DataFrame\n",
        "            # orgbabynames.head(15)\n",
        "    else:\n",
        "        print(f\"File '{ca_name}' not found in the ZIP archive.\")\n",
        "\n",
        "# orgbabynames.head(15)\n",
        "babynames = orgbabynames.copy()\n",
        "babynames.head(10)"
      ]
    },
    {
      "cell_type": "markdown",
      "metadata": {
        "id": "gHIddj3IikKl"
      },
      "source": [
        "### Exercises\n",
        "We want to obtain the first three baby names with `count > 250`.\n",
        "\n",
        "1.Code this using, loc and head()\n",
        "\n",
        "2.Code this using, loc and iloc()\n",
        "\n",
        "3.Code this using [] and head ()\n"
      ]
    },
    {
      "cell_type": "code",
      "execution_count": 5,
      "metadata": {
        "id": "vy62CYWpikKl"
      },
      "outputs": [
        {
          "data": {
            "text/html": [
              "<div>\n",
              "<style scoped>\n",
              "    .dataframe tbody tr th:only-of-type {\n",
              "        vertical-align: middle;\n",
              "    }\n",
              "\n",
              "    .dataframe tbody tr th {\n",
              "        vertical-align: top;\n",
              "    }\n",
              "\n",
              "    .dataframe thead th {\n",
              "        text-align: right;\n",
              "    }\n",
              "</style>\n",
              "<table border=\"1\" class=\"dataframe\">\n",
              "  <thead>\n",
              "    <tr style=\"text-align: right;\">\n",
              "      <th></th>\n",
              "      <th>State</th>\n",
              "      <th>Sex</th>\n",
              "      <th>Year</th>\n",
              "      <th>Name</th>\n",
              "      <th>Count</th>\n",
              "    </tr>\n",
              "  </thead>\n",
              "  <tbody>\n",
              "    <tr>\n",
              "      <th>0</th>\n",
              "      <td>CA</td>\n",
              "      <td>F</td>\n",
              "      <td>1910</td>\n",
              "      <td>Mary</td>\n",
              "      <td>295</td>\n",
              "    </tr>\n",
              "    <tr>\n",
              "      <th>233</th>\n",
              "      <td>CA</td>\n",
              "      <td>F</td>\n",
              "      <td>1911</td>\n",
              "      <td>Mary</td>\n",
              "      <td>390</td>\n",
              "    </tr>\n",
              "    <tr>\n",
              "      <th>484</th>\n",
              "      <td>CA</td>\n",
              "      <td>F</td>\n",
              "      <td>1912</td>\n",
              "      <td>Mary</td>\n",
              "      <td>534</td>\n",
              "    </tr>\n",
              "  </tbody>\n",
              "</table>\n",
              "</div>"
            ],
            "text/plain": [
              "    State Sex  Year  Name  Count\n",
              "0      CA   F  1910  Mary    295\n",
              "233    CA   F  1911  Mary    390\n",
              "484    CA   F  1912  Mary    534"
            ]
          },
          "execution_count": 5,
          "metadata": {},
          "output_type": "execute_result"
        }
      ],
      "source": [
        "# using loc and head():\n",
        "babynames_count = babynames[(babynames['Count'] > 250)]\n",
        "babynames_count.head(3)"
      ]
    },
    {
      "cell_type": "code",
      "execution_count": 6,
      "metadata": {
        "id": "DrXbEdNxpaME"
      },
      "outputs": [
        {
          "data": {
            "text/html": [
              "<div>\n",
              "<style scoped>\n",
              "    .dataframe tbody tr th:only-of-type {\n",
              "        vertical-align: middle;\n",
              "    }\n",
              "\n",
              "    .dataframe tbody tr th {\n",
              "        vertical-align: top;\n",
              "    }\n",
              "\n",
              "    .dataframe thead th {\n",
              "        text-align: right;\n",
              "    }\n",
              "</style>\n",
              "<table border=\"1\" class=\"dataframe\">\n",
              "  <thead>\n",
              "    <tr style=\"text-align: right;\">\n",
              "      <th></th>\n",
              "      <th>index</th>\n",
              "      <th>State</th>\n",
              "      <th>Sex</th>\n",
              "      <th>Year</th>\n",
              "      <th>Name</th>\n",
              "      <th>Count</th>\n",
              "    </tr>\n",
              "  </thead>\n",
              "  <tbody>\n",
              "    <tr>\n",
              "      <th>0</th>\n",
              "      <td>0</td>\n",
              "      <td>CA</td>\n",
              "      <td>F</td>\n",
              "      <td>1910</td>\n",
              "      <td>Mary</td>\n",
              "      <td>295</td>\n",
              "    </tr>\n",
              "    <tr>\n",
              "      <th>1</th>\n",
              "      <td>233</td>\n",
              "      <td>CA</td>\n",
              "      <td>F</td>\n",
              "      <td>1911</td>\n",
              "      <td>Mary</td>\n",
              "      <td>390</td>\n",
              "    </tr>\n",
              "    <tr>\n",
              "      <th>2</th>\n",
              "      <td>484</td>\n",
              "      <td>CA</td>\n",
              "      <td>F</td>\n",
              "      <td>1912</td>\n",
              "      <td>Mary</td>\n",
              "      <td>534</td>\n",
              "    </tr>\n",
              "  </tbody>\n",
              "</table>\n",
              "</div>"
            ],
            "text/plain": [
              "   index State Sex  Year  Name  Count\n",
              "0      0    CA   F  1910  Mary    295\n",
              "1    233    CA   F  1911  Mary    390\n",
              "2    484    CA   F  1912  Mary    534"
            ]
          },
          "execution_count": 6,
          "metadata": {},
          "output_type": "execute_result"
        }
      ],
      "source": [
        "# with loc and iloc\n",
        "babynames_count = babynames[(babynames['Count'] > 250)].reset_index()\n",
        "babynames_count.iloc[0:3] #exclusive in nature\n"
      ]
    },
    {
      "cell_type": "code",
      "execution_count": 7,
      "metadata": {
        "id": "73W1d6o5cFye",
        "scrolled": true
      },
      "outputs": [
        {
          "data": {
            "text/html": [
              "<div>\n",
              "<style scoped>\n",
              "    .dataframe tbody tr th:only-of-type {\n",
              "        vertical-align: middle;\n",
              "    }\n",
              "\n",
              "    .dataframe tbody tr th {\n",
              "        vertical-align: top;\n",
              "    }\n",
              "\n",
              "    .dataframe thead th {\n",
              "        text-align: right;\n",
              "    }\n",
              "</style>\n",
              "<table border=\"1\" class=\"dataframe\">\n",
              "  <thead>\n",
              "    <tr style=\"text-align: right;\">\n",
              "      <th></th>\n",
              "      <th>index</th>\n",
              "      <th>State</th>\n",
              "      <th>Sex</th>\n",
              "      <th>Year</th>\n",
              "      <th>Name</th>\n",
              "      <th>Count</th>\n",
              "    </tr>\n",
              "  </thead>\n",
              "  <tbody>\n",
              "    <tr>\n",
              "      <th>0</th>\n",
              "      <td>0</td>\n",
              "      <td>CA</td>\n",
              "      <td>F</td>\n",
              "      <td>1910</td>\n",
              "      <td>Mary</td>\n",
              "      <td>295</td>\n",
              "    </tr>\n",
              "    <tr>\n",
              "      <th>1</th>\n",
              "      <td>233</td>\n",
              "      <td>CA</td>\n",
              "      <td>F</td>\n",
              "      <td>1911</td>\n",
              "      <td>Mary</td>\n",
              "      <td>390</td>\n",
              "    </tr>\n",
              "    <tr>\n",
              "      <th>2</th>\n",
              "      <td>484</td>\n",
              "      <td>CA</td>\n",
              "      <td>F</td>\n",
              "      <td>1912</td>\n",
              "      <td>Mary</td>\n",
              "      <td>534</td>\n",
              "    </tr>\n",
              "  </tbody>\n",
              "</table>\n",
              "</div>"
            ],
            "text/plain": [
              "   index State Sex  Year  Name  Count\n",
              "0      0    CA   F  1910  Mary    295\n",
              "1    233    CA   F  1911  Mary    390\n",
              "2    484    CA   F  1912  Mary    534"
            ]
          },
          "execution_count": 7,
          "metadata": {},
          "output_type": "execute_result"
        }
      ],
      "source": [
        "# with [] and head()\n",
        "babynames_count = babynames[(babynames['Count'] > 250)].reset_index()\n",
        "babynames_count[0:3] # also exclusive but loc is inclusive"
      ]
    },
    {
      "cell_type": "markdown",
      "metadata": {
        "id": "pKOoifhQikKl"
      },
      "source": [
        "### `.isin` for Selection based on a list, array, or `Series`"
      ]
    },
    {
      "cell_type": "code",
      "execution_count": 8,
      "metadata": {
        "id": "gsZokeo6ikKl"
      },
      "outputs": [
        {
          "data": {
            "text/html": [
              "<div>\n",
              "<style scoped>\n",
              "    .dataframe tbody tr th:only-of-type {\n",
              "        vertical-align: middle;\n",
              "    }\n",
              "\n",
              "    .dataframe tbody tr th {\n",
              "        vertical-align: top;\n",
              "    }\n",
              "\n",
              "    .dataframe thead th {\n",
              "        text-align: right;\n",
              "    }\n",
              "</style>\n",
              "<table border=\"1\" class=\"dataframe\">\n",
              "  <thead>\n",
              "    <tr style=\"text-align: right;\">\n",
              "      <th></th>\n",
              "      <th>State</th>\n",
              "      <th>Sex</th>\n",
              "      <th>Year</th>\n",
              "      <th>Name</th>\n",
              "      <th>Count</th>\n",
              "    </tr>\n",
              "  </thead>\n",
              "  <tbody>\n",
              "    <tr>\n",
              "      <th>6289</th>\n",
              "      <td>CA</td>\n",
              "      <td>F</td>\n",
              "      <td>1923</td>\n",
              "      <td>Bella</td>\n",
              "      <td>5</td>\n",
              "    </tr>\n",
              "    <tr>\n",
              "      <th>7512</th>\n",
              "      <td>CA</td>\n",
              "      <td>F</td>\n",
              "      <td>1925</td>\n",
              "      <td>Bella</td>\n",
              "      <td>8</td>\n",
              "    </tr>\n",
              "    <tr>\n",
              "      <th>12368</th>\n",
              "      <td>CA</td>\n",
              "      <td>F</td>\n",
              "      <td>1932</td>\n",
              "      <td>Lisa</td>\n",
              "      <td>5</td>\n",
              "    </tr>\n",
              "    <tr>\n",
              "      <th>14741</th>\n",
              "      <td>CA</td>\n",
              "      <td>F</td>\n",
              "      <td>1936</td>\n",
              "      <td>Lisa</td>\n",
              "      <td>8</td>\n",
              "    </tr>\n",
              "    <tr>\n",
              "      <th>17084</th>\n",
              "      <td>CA</td>\n",
              "      <td>F</td>\n",
              "      <td>1939</td>\n",
              "      <td>Lisa</td>\n",
              "      <td>5</td>\n",
              "    </tr>\n",
              "    <tr>\n",
              "      <th>...</th>\n",
              "      <td>...</td>\n",
              "      <td>...</td>\n",
              "      <td>...</td>\n",
              "      <td>...</td>\n",
              "      <td>...</td>\n",
              "    </tr>\n",
              "    <tr>\n",
              "      <th>393248</th>\n",
              "      <td>CA</td>\n",
              "      <td>M</td>\n",
              "      <td>2018</td>\n",
              "      <td>Alex</td>\n",
              "      <td>495</td>\n",
              "    </tr>\n",
              "    <tr>\n",
              "      <th>396111</th>\n",
              "      <td>CA</td>\n",
              "      <td>M</td>\n",
              "      <td>2019</td>\n",
              "      <td>Alex</td>\n",
              "      <td>438</td>\n",
              "    </tr>\n",
              "    <tr>\n",
              "      <th>398983</th>\n",
              "      <td>CA</td>\n",
              "      <td>M</td>\n",
              "      <td>2020</td>\n",
              "      <td>Alex</td>\n",
              "      <td>379</td>\n",
              "    </tr>\n",
              "    <tr>\n",
              "      <th>401788</th>\n",
              "      <td>CA</td>\n",
              "      <td>M</td>\n",
              "      <td>2021</td>\n",
              "      <td>Alex</td>\n",
              "      <td>333</td>\n",
              "    </tr>\n",
              "    <tr>\n",
              "      <th>404663</th>\n",
              "      <td>CA</td>\n",
              "      <td>M</td>\n",
              "      <td>2022</td>\n",
              "      <td>Alex</td>\n",
              "      <td>344</td>\n",
              "    </tr>\n",
              "  </tbody>\n",
              "</table>\n",
              "<p>317 rows × 5 columns</p>\n",
              "</div>"
            ],
            "text/plain": [
              "       State Sex  Year   Name  Count\n",
              "6289      CA   F  1923  Bella      5\n",
              "7512      CA   F  1925  Bella      8\n",
              "12368     CA   F  1932   Lisa      5\n",
              "14741     CA   F  1936   Lisa      8\n",
              "17084     CA   F  1939   Lisa      5\n",
              "...      ...  ..   ...    ...    ...\n",
              "393248    CA   M  2018   Alex    495\n",
              "396111    CA   M  2019   Alex    438\n",
              "398983    CA   M  2020   Alex    379\n",
              "401788    CA   M  2021   Alex    333\n",
              "404663    CA   M  2022   Alex    344\n",
              "\n",
              "[317 rows x 5 columns]"
            ]
          },
          "execution_count": 8,
          "metadata": {},
          "output_type": "execute_result"
        }
      ],
      "source": [
        "# Note: The parentheses surrounding the code make it possible to break the code into multiple lines for readability\n",
        "\n",
        "( babynames[(babynames[\"Name\"] == \"Bella\") |\n",
        "              (babynames[\"Name\"] == \"Alex\") |\n",
        "              (babynames[\"Name\"] == \"Narges\") |\n",
        "              (babynames[\"Name\"] == \"Lisa\")])"
      ]
    },
    {
      "cell_type": "code",
      "execution_count": 9,
      "metadata": {
        "id": "MVp7TZUlikKm"
      },
      "outputs": [
        {
          "data": {
            "text/html": [
              "<div>\n",
              "<style scoped>\n",
              "    .dataframe tbody tr th:only-of-type {\n",
              "        vertical-align: middle;\n",
              "    }\n",
              "\n",
              "    .dataframe tbody tr th {\n",
              "        vertical-align: top;\n",
              "    }\n",
              "\n",
              "    .dataframe thead th {\n",
              "        text-align: right;\n",
              "    }\n",
              "</style>\n",
              "<table border=\"1\" class=\"dataframe\">\n",
              "  <thead>\n",
              "    <tr style=\"text-align: right;\">\n",
              "      <th></th>\n",
              "      <th>State</th>\n",
              "      <th>Sex</th>\n",
              "      <th>Year</th>\n",
              "      <th>Name</th>\n",
              "      <th>Count</th>\n",
              "    </tr>\n",
              "  </thead>\n",
              "  <tbody>\n",
              "    <tr>\n",
              "      <th>6289</th>\n",
              "      <td>CA</td>\n",
              "      <td>F</td>\n",
              "      <td>1923</td>\n",
              "      <td>Bella</td>\n",
              "      <td>5</td>\n",
              "    </tr>\n",
              "    <tr>\n",
              "      <th>7512</th>\n",
              "      <td>CA</td>\n",
              "      <td>F</td>\n",
              "      <td>1925</td>\n",
              "      <td>Bella</td>\n",
              "      <td>8</td>\n",
              "    </tr>\n",
              "    <tr>\n",
              "      <th>12368</th>\n",
              "      <td>CA</td>\n",
              "      <td>F</td>\n",
              "      <td>1932</td>\n",
              "      <td>Lisa</td>\n",
              "      <td>5</td>\n",
              "    </tr>\n",
              "    <tr>\n",
              "      <th>14741</th>\n",
              "      <td>CA</td>\n",
              "      <td>F</td>\n",
              "      <td>1936</td>\n",
              "      <td>Lisa</td>\n",
              "      <td>8</td>\n",
              "    </tr>\n",
              "    <tr>\n",
              "      <th>17084</th>\n",
              "      <td>CA</td>\n",
              "      <td>F</td>\n",
              "      <td>1939</td>\n",
              "      <td>Lisa</td>\n",
              "      <td>5</td>\n",
              "    </tr>\n",
              "    <tr>\n",
              "      <th>...</th>\n",
              "      <td>...</td>\n",
              "      <td>...</td>\n",
              "      <td>...</td>\n",
              "      <td>...</td>\n",
              "      <td>...</td>\n",
              "    </tr>\n",
              "    <tr>\n",
              "      <th>393248</th>\n",
              "      <td>CA</td>\n",
              "      <td>M</td>\n",
              "      <td>2018</td>\n",
              "      <td>Alex</td>\n",
              "      <td>495</td>\n",
              "    </tr>\n",
              "    <tr>\n",
              "      <th>396111</th>\n",
              "      <td>CA</td>\n",
              "      <td>M</td>\n",
              "      <td>2019</td>\n",
              "      <td>Alex</td>\n",
              "      <td>438</td>\n",
              "    </tr>\n",
              "    <tr>\n",
              "      <th>398983</th>\n",
              "      <td>CA</td>\n",
              "      <td>M</td>\n",
              "      <td>2020</td>\n",
              "      <td>Alex</td>\n",
              "      <td>379</td>\n",
              "    </tr>\n",
              "    <tr>\n",
              "      <th>401788</th>\n",
              "      <td>CA</td>\n",
              "      <td>M</td>\n",
              "      <td>2021</td>\n",
              "      <td>Alex</td>\n",
              "      <td>333</td>\n",
              "    </tr>\n",
              "    <tr>\n",
              "      <th>404663</th>\n",
              "      <td>CA</td>\n",
              "      <td>M</td>\n",
              "      <td>2022</td>\n",
              "      <td>Alex</td>\n",
              "      <td>344</td>\n",
              "    </tr>\n",
              "  </tbody>\n",
              "</table>\n",
              "<p>317 rows × 5 columns</p>\n",
              "</div>"
            ],
            "text/plain": [
              "       State Sex  Year   Name  Count\n",
              "6289      CA   F  1923  Bella      5\n",
              "7512      CA   F  1925  Bella      8\n",
              "12368     CA   F  1932   Lisa      5\n",
              "14741     CA   F  1936   Lisa      8\n",
              "17084     CA   F  1939   Lisa      5\n",
              "...      ...  ..   ...    ...    ...\n",
              "393248    CA   M  2018   Alex    495\n",
              "396111    CA   M  2019   Alex    438\n",
              "398983    CA   M  2020   Alex    379\n",
              "401788    CA   M  2021   Alex    333\n",
              "404663    CA   M  2022   Alex    344\n",
              "\n",
              "[317 rows x 5 columns]"
            ]
          },
          "execution_count": 9,
          "metadata": {},
          "output_type": "execute_result"
        }
      ],
      "source": [
        "# A more concise method to achieve the above: .isin\n",
        "names = ['Bella', 'Alex', 'Narges', 'Lisa']\n",
        "babynames[(babynames['Name'].isin(names))]"
      ]
    },
    {
      "cell_type": "markdown",
      "metadata": {
        "id": "FAfz6N3qikKm"
      },
      "source": [
        "### `.str` Functions for Defining a Condition"
      ]
    },
    {
      "cell_type": "code",
      "execution_count": 10,
      "metadata": {
        "id": "xYCh8K0qikKm"
      },
      "outputs": [
        {
          "data": {
            "text/html": [
              "<div>\n",
              "<style scoped>\n",
              "    .dataframe tbody tr th:only-of-type {\n",
              "        vertical-align: middle;\n",
              "    }\n",
              "\n",
              "    .dataframe tbody tr th {\n",
              "        vertical-align: top;\n",
              "    }\n",
              "\n",
              "    .dataframe thead th {\n",
              "        text-align: right;\n",
              "    }\n",
              "</style>\n",
              "<table border=\"1\" class=\"dataframe\">\n",
              "  <thead>\n",
              "    <tr style=\"text-align: right;\">\n",
              "      <th></th>\n",
              "      <th>State</th>\n",
              "      <th>Sex</th>\n",
              "      <th>Year</th>\n",
              "      <th>Name</th>\n",
              "      <th>Count</th>\n",
              "    </tr>\n",
              "  </thead>\n",
              "  <tbody>\n",
              "    <tr>\n",
              "      <th>16</th>\n",
              "      <td>CA</td>\n",
              "      <td>F</td>\n",
              "      <td>1910</td>\n",
              "      <td>Josephine</td>\n",
              "      <td>66</td>\n",
              "    </tr>\n",
              "    <tr>\n",
              "      <th>44</th>\n",
              "      <td>CA</td>\n",
              "      <td>F</td>\n",
              "      <td>1910</td>\n",
              "      <td>Jean</td>\n",
              "      <td>35</td>\n",
              "    </tr>\n",
              "    <tr>\n",
              "      <th>46</th>\n",
              "      <td>CA</td>\n",
              "      <td>F</td>\n",
              "      <td>1910</td>\n",
              "      <td>Jessie</td>\n",
              "      <td>32</td>\n",
              "    </tr>\n",
              "    <tr>\n",
              "      <th>59</th>\n",
              "      <td>CA</td>\n",
              "      <td>F</td>\n",
              "      <td>1910</td>\n",
              "      <td>Julia</td>\n",
              "      <td>28</td>\n",
              "    </tr>\n",
              "    <tr>\n",
              "      <th>66</th>\n",
              "      <td>CA</td>\n",
              "      <td>F</td>\n",
              "      <td>1910</td>\n",
              "      <td>Juanita</td>\n",
              "      <td>25</td>\n",
              "    </tr>\n",
              "    <tr>\n",
              "      <th>...</th>\n",
              "      <td>...</td>\n",
              "      <td>...</td>\n",
              "      <td>...</td>\n",
              "      <td>...</td>\n",
              "      <td>...</td>\n",
              "    </tr>\n",
              "    <tr>\n",
              "      <th>407245</th>\n",
              "      <td>CA</td>\n",
              "      <td>M</td>\n",
              "      <td>2022</td>\n",
              "      <td>Jibreel</td>\n",
              "      <td>5</td>\n",
              "    </tr>\n",
              "    <tr>\n",
              "      <th>407246</th>\n",
              "      <td>CA</td>\n",
              "      <td>M</td>\n",
              "      <td>2022</td>\n",
              "      <td>Joseangel</td>\n",
              "      <td>5</td>\n",
              "    </tr>\n",
              "    <tr>\n",
              "      <th>407247</th>\n",
              "      <td>CA</td>\n",
              "      <td>M</td>\n",
              "      <td>2022</td>\n",
              "      <td>Josejulian</td>\n",
              "      <td>5</td>\n",
              "    </tr>\n",
              "    <tr>\n",
              "      <th>407248</th>\n",
              "      <td>CA</td>\n",
              "      <td>M</td>\n",
              "      <td>2022</td>\n",
              "      <td>Juelz</td>\n",
              "      <td>5</td>\n",
              "    </tr>\n",
              "    <tr>\n",
              "      <th>407249</th>\n",
              "      <td>CA</td>\n",
              "      <td>M</td>\n",
              "      <td>2022</td>\n",
              "      <td>Jujhar</td>\n",
              "      <td>5</td>\n",
              "    </tr>\n",
              "  </tbody>\n",
              "</table>\n",
              "<p>34751 rows × 5 columns</p>\n",
              "</div>"
            ],
            "text/plain": [
              "       State Sex  Year        Name  Count\n",
              "16        CA   F  1910   Josephine     66\n",
              "44        CA   F  1910        Jean     35\n",
              "46        CA   F  1910      Jessie     32\n",
              "59        CA   F  1910       Julia     28\n",
              "66        CA   F  1910     Juanita     25\n",
              "...      ...  ..   ...         ...    ...\n",
              "407245    CA   M  2022     Jibreel      5\n",
              "407246    CA   M  2022   Joseangel      5\n",
              "407247    CA   M  2022  Josejulian      5\n",
              "407248    CA   M  2022       Juelz      5\n",
              "407249    CA   M  2022      Jujhar      5\n",
              "\n",
              "[34751 rows x 5 columns]"
            ]
          },
          "execution_count": 10,
          "metadata": {},
          "output_type": "execute_result"
        }
      ],
      "source": [
        "# What if we only want names that start with \"J\"?\n",
        "babynames[babynames[\"Name\"].str.startswith('J')]"
      ]
    },
    {
      "cell_type": "markdown",
      "metadata": {
        "id": "4HleKnmwikKm"
      },
      "source": [
        "## Adding, Removing, and Modifying Columns"
      ]
    },
    {
      "cell_type": "markdown",
      "metadata": {
        "id": "XqWTQM1hikKm"
      },
      "source": [
        "### Add a Column\n",
        "To add a column, use `[]` to reference the desired new column, then assign it to a `Series` or array of appropriate length."
      ]
    },
    {
      "cell_type": "code",
      "execution_count": 11,
      "metadata": {
        "id": "-MmB453QikKm"
      },
      "outputs": [
        {
          "data": {
            "text/html": [
              "<div>\n",
              "<style scoped>\n",
              "    .dataframe tbody tr th:only-of-type {\n",
              "        vertical-align: middle;\n",
              "    }\n",
              "\n",
              "    .dataframe tbody tr th {\n",
              "        vertical-align: top;\n",
              "    }\n",
              "\n",
              "    .dataframe thead th {\n",
              "        text-align: right;\n",
              "    }\n",
              "</style>\n",
              "<table border=\"1\" class=\"dataframe\">\n",
              "  <thead>\n",
              "    <tr style=\"text-align: right;\">\n",
              "      <th></th>\n",
              "      <th>State</th>\n",
              "      <th>Sex</th>\n",
              "      <th>Year</th>\n",
              "      <th>Name</th>\n",
              "      <th>Count</th>\n",
              "      <th>name_lengths</th>\n",
              "    </tr>\n",
              "  </thead>\n",
              "  <tbody>\n",
              "    <tr>\n",
              "      <th>0</th>\n",
              "      <td>CA</td>\n",
              "      <td>F</td>\n",
              "      <td>1910</td>\n",
              "      <td>Mary</td>\n",
              "      <td>295</td>\n",
              "      <td>4</td>\n",
              "    </tr>\n",
              "    <tr>\n",
              "      <th>1</th>\n",
              "      <td>CA</td>\n",
              "      <td>F</td>\n",
              "      <td>1910</td>\n",
              "      <td>Helen</td>\n",
              "      <td>239</td>\n",
              "      <td>5</td>\n",
              "    </tr>\n",
              "    <tr>\n",
              "      <th>2</th>\n",
              "      <td>CA</td>\n",
              "      <td>F</td>\n",
              "      <td>1910</td>\n",
              "      <td>Dorothy</td>\n",
              "      <td>220</td>\n",
              "      <td>7</td>\n",
              "    </tr>\n",
              "    <tr>\n",
              "      <th>3</th>\n",
              "      <td>CA</td>\n",
              "      <td>F</td>\n",
              "      <td>1910</td>\n",
              "      <td>Margaret</td>\n",
              "      <td>163</td>\n",
              "      <td>8</td>\n",
              "    </tr>\n",
              "    <tr>\n",
              "      <th>4</th>\n",
              "      <td>CA</td>\n",
              "      <td>F</td>\n",
              "      <td>1910</td>\n",
              "      <td>Frances</td>\n",
              "      <td>134</td>\n",
              "      <td>7</td>\n",
              "    </tr>\n",
              "    <tr>\n",
              "      <th>...</th>\n",
              "      <td>...</td>\n",
              "      <td>...</td>\n",
              "      <td>...</td>\n",
              "      <td>...</td>\n",
              "      <td>...</td>\n",
              "      <td>...</td>\n",
              "    </tr>\n",
              "    <tr>\n",
              "      <th>407423</th>\n",
              "      <td>CA</td>\n",
              "      <td>M</td>\n",
              "      <td>2022</td>\n",
              "      <td>Zayvier</td>\n",
              "      <td>5</td>\n",
              "      <td>7</td>\n",
              "    </tr>\n",
              "    <tr>\n",
              "      <th>407424</th>\n",
              "      <td>CA</td>\n",
              "      <td>M</td>\n",
              "      <td>2022</td>\n",
              "      <td>Zia</td>\n",
              "      <td>5</td>\n",
              "      <td>3</td>\n",
              "    </tr>\n",
              "    <tr>\n",
              "      <th>407425</th>\n",
              "      <td>CA</td>\n",
              "      <td>M</td>\n",
              "      <td>2022</td>\n",
              "      <td>Zora</td>\n",
              "      <td>5</td>\n",
              "      <td>4</td>\n",
              "    </tr>\n",
              "    <tr>\n",
              "      <th>407426</th>\n",
              "      <td>CA</td>\n",
              "      <td>M</td>\n",
              "      <td>2022</td>\n",
              "      <td>Zuriel</td>\n",
              "      <td>5</td>\n",
              "      <td>6</td>\n",
              "    </tr>\n",
              "    <tr>\n",
              "      <th>407427</th>\n",
              "      <td>CA</td>\n",
              "      <td>M</td>\n",
              "      <td>2022</td>\n",
              "      <td>Zylo</td>\n",
              "      <td>5</td>\n",
              "      <td>4</td>\n",
              "    </tr>\n",
              "  </tbody>\n",
              "</table>\n",
              "<p>407428 rows × 6 columns</p>\n",
              "</div>"
            ],
            "text/plain": [
              "       State Sex  Year      Name  Count  name_lengths\n",
              "0         CA   F  1910      Mary    295             4\n",
              "1         CA   F  1910     Helen    239             5\n",
              "2         CA   F  1910   Dorothy    220             7\n",
              "3         CA   F  1910  Margaret    163             8\n",
              "4         CA   F  1910   Frances    134             7\n",
              "...      ...  ..   ...       ...    ...           ...\n",
              "407423    CA   M  2022   Zayvier      5             7\n",
              "407424    CA   M  2022       Zia      5             3\n",
              "407425    CA   M  2022      Zora      5             4\n",
              "407426    CA   M  2022    Zuriel      5             6\n",
              "407427    CA   M  2022      Zylo      5             4\n",
              "\n",
              "[407428 rows x 6 columns]"
            ]
          },
          "execution_count": 11,
          "metadata": {},
          "output_type": "execute_result"
        }
      ],
      "source": [
        "# Create a Series of the length of each name\n",
        "name_length = babynames['Name'].str.len()\n",
        "\n",
        "# Add a column named \"name_lengths\" that includes the length of each name\n",
        "babynames['name_lengths'] = babynames['Name'].str.len()\n",
        "babynames"
      ]
    },
    {
      "cell_type": "markdown",
      "metadata": {
        "id": "MrBTd9bZikKn"
      },
      "source": [
        "### Modify a Column\n",
        "To modify a column, use `[]` to access the desired column, then re-assign it to a new array or Series."
      ]
    },
    {
      "cell_type": "code",
      "execution_count": 12,
      "metadata": {
        "id": "s2nh2MkYikKn"
      },
      "outputs": [
        {
          "data": {
            "text/html": [
              "<div>\n",
              "<style scoped>\n",
              "    .dataframe tbody tr th:only-of-type {\n",
              "        vertical-align: middle;\n",
              "    }\n",
              "\n",
              "    .dataframe tbody tr th {\n",
              "        vertical-align: top;\n",
              "    }\n",
              "\n",
              "    .dataframe thead th {\n",
              "        text-align: right;\n",
              "    }\n",
              "</style>\n",
              "<table border=\"1\" class=\"dataframe\">\n",
              "  <thead>\n",
              "    <tr style=\"text-align: right;\">\n",
              "      <th></th>\n",
              "      <th>State</th>\n",
              "      <th>Sex</th>\n",
              "      <th>Year</th>\n",
              "      <th>Name</th>\n",
              "      <th>Count</th>\n",
              "      <th>name_lengths</th>\n",
              "    </tr>\n",
              "  </thead>\n",
              "  <tbody>\n",
              "    <tr>\n",
              "      <th>0</th>\n",
              "      <td>CA</td>\n",
              "      <td>F</td>\n",
              "      <td>1910</td>\n",
              "      <td>Mary</td>\n",
              "      <td>295</td>\n",
              "      <td>3</td>\n",
              "    </tr>\n",
              "    <tr>\n",
              "      <th>1</th>\n",
              "      <td>CA</td>\n",
              "      <td>F</td>\n",
              "      <td>1910</td>\n",
              "      <td>Helen</td>\n",
              "      <td>239</td>\n",
              "      <td>4</td>\n",
              "    </tr>\n",
              "    <tr>\n",
              "      <th>2</th>\n",
              "      <td>CA</td>\n",
              "      <td>F</td>\n",
              "      <td>1910</td>\n",
              "      <td>Dorothy</td>\n",
              "      <td>220</td>\n",
              "      <td>6</td>\n",
              "    </tr>\n",
              "    <tr>\n",
              "      <th>3</th>\n",
              "      <td>CA</td>\n",
              "      <td>F</td>\n",
              "      <td>1910</td>\n",
              "      <td>Margaret</td>\n",
              "      <td>163</td>\n",
              "      <td>7</td>\n",
              "    </tr>\n",
              "    <tr>\n",
              "      <th>4</th>\n",
              "      <td>CA</td>\n",
              "      <td>F</td>\n",
              "      <td>1910</td>\n",
              "      <td>Frances</td>\n",
              "      <td>134</td>\n",
              "      <td>6</td>\n",
              "    </tr>\n",
              "    <tr>\n",
              "      <th>...</th>\n",
              "      <td>...</td>\n",
              "      <td>...</td>\n",
              "      <td>...</td>\n",
              "      <td>...</td>\n",
              "      <td>...</td>\n",
              "      <td>...</td>\n",
              "    </tr>\n",
              "    <tr>\n",
              "      <th>407423</th>\n",
              "      <td>CA</td>\n",
              "      <td>M</td>\n",
              "      <td>2022</td>\n",
              "      <td>Zayvier</td>\n",
              "      <td>5</td>\n",
              "      <td>6</td>\n",
              "    </tr>\n",
              "    <tr>\n",
              "      <th>407424</th>\n",
              "      <td>CA</td>\n",
              "      <td>M</td>\n",
              "      <td>2022</td>\n",
              "      <td>Zia</td>\n",
              "      <td>5</td>\n",
              "      <td>2</td>\n",
              "    </tr>\n",
              "    <tr>\n",
              "      <th>407425</th>\n",
              "      <td>CA</td>\n",
              "      <td>M</td>\n",
              "      <td>2022</td>\n",
              "      <td>Zora</td>\n",
              "      <td>5</td>\n",
              "      <td>3</td>\n",
              "    </tr>\n",
              "    <tr>\n",
              "      <th>407426</th>\n",
              "      <td>CA</td>\n",
              "      <td>M</td>\n",
              "      <td>2022</td>\n",
              "      <td>Zuriel</td>\n",
              "      <td>5</td>\n",
              "      <td>5</td>\n",
              "    </tr>\n",
              "    <tr>\n",
              "      <th>407427</th>\n",
              "      <td>CA</td>\n",
              "      <td>M</td>\n",
              "      <td>2022</td>\n",
              "      <td>Zylo</td>\n",
              "      <td>5</td>\n",
              "      <td>3</td>\n",
              "    </tr>\n",
              "  </tbody>\n",
              "</table>\n",
              "<p>407428 rows × 6 columns</p>\n",
              "</div>"
            ],
            "text/plain": [
              "       State Sex  Year      Name  Count  name_lengths\n",
              "0         CA   F  1910      Mary    295             3\n",
              "1         CA   F  1910     Helen    239             4\n",
              "2         CA   F  1910   Dorothy    220             6\n",
              "3         CA   F  1910  Margaret    163             7\n",
              "4         CA   F  1910   Frances    134             6\n",
              "...      ...  ..   ...       ...    ...           ...\n",
              "407423    CA   M  2022   Zayvier      5             6\n",
              "407424    CA   M  2022       Zia      5             2\n",
              "407425    CA   M  2022      Zora      5             3\n",
              "407426    CA   M  2022    Zuriel      5             5\n",
              "407427    CA   M  2022      Zylo      5             3\n",
              "\n",
              "[407428 rows x 6 columns]"
            ]
          },
          "execution_count": 12,
          "metadata": {},
          "output_type": "execute_result"
        }
      ],
      "source": [
        "# Modify the \"name_lengths\" column to be one less than its original value\n",
        "#modifying the name_length column by adding 1\n",
        "babynames['name_lengths'] -= 1\n",
        "\n",
        "# Display the updated DataFrame\n",
        "babynames"
      ]
    },
    {
      "cell_type": "markdown",
      "metadata": {
        "id": "ZNgIZDavikKn"
      },
      "source": [
        "### Rename a Column Name\n",
        "Rename a column using the `.rename()` method."
      ]
    },
    {
      "cell_type": "code",
      "execution_count": 13,
      "metadata": {
        "id": "SucypH9likKn"
      },
      "outputs": [
        {
          "data": {
            "text/html": [
              "<div>\n",
              "<style scoped>\n",
              "    .dataframe tbody tr th:only-of-type {\n",
              "        vertical-align: middle;\n",
              "    }\n",
              "\n",
              "    .dataframe tbody tr th {\n",
              "        vertical-align: top;\n",
              "    }\n",
              "\n",
              "    .dataframe thead th {\n",
              "        text-align: right;\n",
              "    }\n",
              "</style>\n",
              "<table border=\"1\" class=\"dataframe\">\n",
              "  <thead>\n",
              "    <tr style=\"text-align: right;\">\n",
              "      <th></th>\n",
              "      <th>State</th>\n",
              "      <th>Sex</th>\n",
              "      <th>Year</th>\n",
              "      <th>Name</th>\n",
              "      <th>Count</th>\n",
              "      <th>Length</th>\n",
              "    </tr>\n",
              "  </thead>\n",
              "  <tbody>\n",
              "    <tr>\n",
              "      <th>0</th>\n",
              "      <td>CA</td>\n",
              "      <td>F</td>\n",
              "      <td>1910</td>\n",
              "      <td>Mary</td>\n",
              "      <td>295</td>\n",
              "      <td>3</td>\n",
              "    </tr>\n",
              "    <tr>\n",
              "      <th>1</th>\n",
              "      <td>CA</td>\n",
              "      <td>F</td>\n",
              "      <td>1910</td>\n",
              "      <td>Helen</td>\n",
              "      <td>239</td>\n",
              "      <td>4</td>\n",
              "    </tr>\n",
              "    <tr>\n",
              "      <th>2</th>\n",
              "      <td>CA</td>\n",
              "      <td>F</td>\n",
              "      <td>1910</td>\n",
              "      <td>Dorothy</td>\n",
              "      <td>220</td>\n",
              "      <td>6</td>\n",
              "    </tr>\n",
              "    <tr>\n",
              "      <th>3</th>\n",
              "      <td>CA</td>\n",
              "      <td>F</td>\n",
              "      <td>1910</td>\n",
              "      <td>Margaret</td>\n",
              "      <td>163</td>\n",
              "      <td>7</td>\n",
              "    </tr>\n",
              "    <tr>\n",
              "      <th>4</th>\n",
              "      <td>CA</td>\n",
              "      <td>F</td>\n",
              "      <td>1910</td>\n",
              "      <td>Frances</td>\n",
              "      <td>134</td>\n",
              "      <td>6</td>\n",
              "    </tr>\n",
              "    <tr>\n",
              "      <th>...</th>\n",
              "      <td>...</td>\n",
              "      <td>...</td>\n",
              "      <td>...</td>\n",
              "      <td>...</td>\n",
              "      <td>...</td>\n",
              "      <td>...</td>\n",
              "    </tr>\n",
              "    <tr>\n",
              "      <th>407423</th>\n",
              "      <td>CA</td>\n",
              "      <td>M</td>\n",
              "      <td>2022</td>\n",
              "      <td>Zayvier</td>\n",
              "      <td>5</td>\n",
              "      <td>6</td>\n",
              "    </tr>\n",
              "    <tr>\n",
              "      <th>407424</th>\n",
              "      <td>CA</td>\n",
              "      <td>M</td>\n",
              "      <td>2022</td>\n",
              "      <td>Zia</td>\n",
              "      <td>5</td>\n",
              "      <td>2</td>\n",
              "    </tr>\n",
              "    <tr>\n",
              "      <th>407425</th>\n",
              "      <td>CA</td>\n",
              "      <td>M</td>\n",
              "      <td>2022</td>\n",
              "      <td>Zora</td>\n",
              "      <td>5</td>\n",
              "      <td>3</td>\n",
              "    </tr>\n",
              "    <tr>\n",
              "      <th>407426</th>\n",
              "      <td>CA</td>\n",
              "      <td>M</td>\n",
              "      <td>2022</td>\n",
              "      <td>Zuriel</td>\n",
              "      <td>5</td>\n",
              "      <td>5</td>\n",
              "    </tr>\n",
              "    <tr>\n",
              "      <th>407427</th>\n",
              "      <td>CA</td>\n",
              "      <td>M</td>\n",
              "      <td>2022</td>\n",
              "      <td>Zylo</td>\n",
              "      <td>5</td>\n",
              "      <td>3</td>\n",
              "    </tr>\n",
              "  </tbody>\n",
              "</table>\n",
              "<p>407428 rows × 6 columns</p>\n",
              "</div>"
            ],
            "text/plain": [
              "       State Sex  Year      Name  Count  Length\n",
              "0         CA   F  1910      Mary    295       3\n",
              "1         CA   F  1910     Helen    239       4\n",
              "2         CA   F  1910   Dorothy    220       6\n",
              "3         CA   F  1910  Margaret    163       7\n",
              "4         CA   F  1910   Frances    134       6\n",
              "...      ...  ..   ...       ...    ...     ...\n",
              "407423    CA   M  2022   Zayvier      5       6\n",
              "407424    CA   M  2022       Zia      5       2\n",
              "407425    CA   M  2022      Zora      5       3\n",
              "407426    CA   M  2022    Zuriel      5       5\n",
              "407427    CA   M  2022      Zylo      5       3\n",
              "\n",
              "[407428 rows x 6 columns]"
            ]
          },
          "execution_count": 13,
          "metadata": {},
          "output_type": "execute_result"
        }
      ],
      "source": [
        "# Rename \"name_lengths\" to \"Length\"\n",
        "babynames = babynames.rename(columns= {'name_lengths':'Length'})\n",
        "babynames"
      ]
    },
    {
      "cell_type": "markdown",
      "metadata": {
        "id": "irQLkFH5ikKn"
      },
      "source": [
        "### Delete a Column\n",
        "Remove a column using `.drop()`."
      ]
    },
    {
      "cell_type": "code",
      "execution_count": 14,
      "metadata": {
        "id": "mR6hEqODikKn"
      },
      "outputs": [
        {
          "data": {
            "text/html": [
              "<div>\n",
              "<style scoped>\n",
              "    .dataframe tbody tr th:only-of-type {\n",
              "        vertical-align: middle;\n",
              "    }\n",
              "\n",
              "    .dataframe tbody tr th {\n",
              "        vertical-align: top;\n",
              "    }\n",
              "\n",
              "    .dataframe thead th {\n",
              "        text-align: right;\n",
              "    }\n",
              "</style>\n",
              "<table border=\"1\" class=\"dataframe\">\n",
              "  <thead>\n",
              "    <tr style=\"text-align: right;\">\n",
              "      <th></th>\n",
              "      <th>State</th>\n",
              "      <th>Sex</th>\n",
              "      <th>Year</th>\n",
              "      <th>Name</th>\n",
              "      <th>Count</th>\n",
              "    </tr>\n",
              "  </thead>\n",
              "  <tbody>\n",
              "    <tr>\n",
              "      <th>0</th>\n",
              "      <td>CA</td>\n",
              "      <td>F</td>\n",
              "      <td>1910</td>\n",
              "      <td>Mary</td>\n",
              "      <td>295</td>\n",
              "    </tr>\n",
              "    <tr>\n",
              "      <th>1</th>\n",
              "      <td>CA</td>\n",
              "      <td>F</td>\n",
              "      <td>1910</td>\n",
              "      <td>Helen</td>\n",
              "      <td>239</td>\n",
              "    </tr>\n",
              "    <tr>\n",
              "      <th>2</th>\n",
              "      <td>CA</td>\n",
              "      <td>F</td>\n",
              "      <td>1910</td>\n",
              "      <td>Dorothy</td>\n",
              "      <td>220</td>\n",
              "    </tr>\n",
              "    <tr>\n",
              "      <th>3</th>\n",
              "      <td>CA</td>\n",
              "      <td>F</td>\n",
              "      <td>1910</td>\n",
              "      <td>Margaret</td>\n",
              "      <td>163</td>\n",
              "    </tr>\n",
              "    <tr>\n",
              "      <th>4</th>\n",
              "      <td>CA</td>\n",
              "      <td>F</td>\n",
              "      <td>1910</td>\n",
              "      <td>Frances</td>\n",
              "      <td>134</td>\n",
              "    </tr>\n",
              "    <tr>\n",
              "      <th>...</th>\n",
              "      <td>...</td>\n",
              "      <td>...</td>\n",
              "      <td>...</td>\n",
              "      <td>...</td>\n",
              "      <td>...</td>\n",
              "    </tr>\n",
              "    <tr>\n",
              "      <th>407423</th>\n",
              "      <td>CA</td>\n",
              "      <td>M</td>\n",
              "      <td>2022</td>\n",
              "      <td>Zayvier</td>\n",
              "      <td>5</td>\n",
              "    </tr>\n",
              "    <tr>\n",
              "      <th>407424</th>\n",
              "      <td>CA</td>\n",
              "      <td>M</td>\n",
              "      <td>2022</td>\n",
              "      <td>Zia</td>\n",
              "      <td>5</td>\n",
              "    </tr>\n",
              "    <tr>\n",
              "      <th>407425</th>\n",
              "      <td>CA</td>\n",
              "      <td>M</td>\n",
              "      <td>2022</td>\n",
              "      <td>Zora</td>\n",
              "      <td>5</td>\n",
              "    </tr>\n",
              "    <tr>\n",
              "      <th>407426</th>\n",
              "      <td>CA</td>\n",
              "      <td>M</td>\n",
              "      <td>2022</td>\n",
              "      <td>Zuriel</td>\n",
              "      <td>5</td>\n",
              "    </tr>\n",
              "    <tr>\n",
              "      <th>407427</th>\n",
              "      <td>CA</td>\n",
              "      <td>M</td>\n",
              "      <td>2022</td>\n",
              "      <td>Zylo</td>\n",
              "      <td>5</td>\n",
              "    </tr>\n",
              "  </tbody>\n",
              "</table>\n",
              "<p>407428 rows × 5 columns</p>\n",
              "</div>"
            ],
            "text/plain": [
              "       State Sex  Year      Name  Count\n",
              "0         CA   F  1910      Mary    295\n",
              "1         CA   F  1910     Helen    239\n",
              "2         CA   F  1910   Dorothy    220\n",
              "3         CA   F  1910  Margaret    163\n",
              "4         CA   F  1910   Frances    134\n",
              "...      ...  ..   ...       ...    ...\n",
              "407423    CA   M  2022   Zayvier      5\n",
              "407424    CA   M  2022       Zia      5\n",
              "407425    CA   M  2022      Zora      5\n",
              "407426    CA   M  2022    Zuriel      5\n",
              "407427    CA   M  2022      Zylo      5\n",
              "\n",
              "[407428 rows x 5 columns]"
            ]
          },
          "execution_count": 14,
          "metadata": {},
          "output_type": "execute_result"
        }
      ],
      "source": [
        "# Remove our new \"Length\" column\n",
        "babynames = babynames.drop(columns=['Length'])\n",
        "babynames"
      ]
    },
    {
      "cell_type": "markdown",
      "metadata": {
        "id": "mrW_x6kdikKq"
      },
      "source": [
        "## Custom sorting"
      ]
    },
    {
      "cell_type": "code",
      "execution_count": 15,
      "metadata": {
        "id": "_jngqWCtrvTe"
      },
      "outputs": [
        {
          "data": {
            "text/plain": [
              "366001      Aadan\n",
              "384005      Aadan\n",
              "369120      Aadan\n",
              "398211    Aadarsh\n",
              "370306      Aaden\n",
              "           ...   \n",
              "220691      Zyrah\n",
              "197529      Zyrah\n",
              "217429      Zyrah\n",
              "232167      Zyrah\n",
              "404544      Zyrus\n",
              "Name: Name, Length: 407428, dtype: object"
            ]
          },
          "execution_count": 15,
          "metadata": {},
          "output_type": "execute_result"
        }
      ],
      "source": [
        "# Sort a Series Containing Names\n",
        "sorted_names_series = babynames['Name'].sort_values()\n",
        "sorted_names_series"
      ]
    },
    {
      "cell_type": "code",
      "execution_count": 16,
      "metadata": {
        "id": "XdXTg7pDikKq"
      },
      "outputs": [
        {
          "data": {
            "text/html": [
              "<div>\n",
              "<style scoped>\n",
              "    .dataframe tbody tr th:only-of-type {\n",
              "        vertical-align: middle;\n",
              "    }\n",
              "\n",
              "    .dataframe tbody tr th {\n",
              "        vertical-align: top;\n",
              "    }\n",
              "\n",
              "    .dataframe thead th {\n",
              "        text-align: right;\n",
              "    }\n",
              "</style>\n",
              "<table border=\"1\" class=\"dataframe\">\n",
              "  <thead>\n",
              "    <tr style=\"text-align: right;\">\n",
              "      <th></th>\n",
              "      <th>State</th>\n",
              "      <th>Sex</th>\n",
              "      <th>Year</th>\n",
              "      <th>Name</th>\n",
              "      <th>Count</th>\n",
              "    </tr>\n",
              "  </thead>\n",
              "  <tbody>\n",
              "    <tr>\n",
              "      <th>366001</th>\n",
              "      <td>CA</td>\n",
              "      <td>M</td>\n",
              "      <td>2008</td>\n",
              "      <td>Aadan</td>\n",
              "      <td>7</td>\n",
              "    </tr>\n",
              "    <tr>\n",
              "      <th>384005</th>\n",
              "      <td>CA</td>\n",
              "      <td>M</td>\n",
              "      <td>2014</td>\n",
              "      <td>Aadan</td>\n",
              "      <td>5</td>\n",
              "    </tr>\n",
              "    <tr>\n",
              "      <th>369120</th>\n",
              "      <td>CA</td>\n",
              "      <td>M</td>\n",
              "      <td>2009</td>\n",
              "      <td>Aadan</td>\n",
              "      <td>6</td>\n",
              "    </tr>\n",
              "    <tr>\n",
              "      <th>398211</th>\n",
              "      <td>CA</td>\n",
              "      <td>M</td>\n",
              "      <td>2019</td>\n",
              "      <td>Aadarsh</td>\n",
              "      <td>6</td>\n",
              "    </tr>\n",
              "    <tr>\n",
              "      <th>370306</th>\n",
              "      <td>CA</td>\n",
              "      <td>M</td>\n",
              "      <td>2010</td>\n",
              "      <td>Aaden</td>\n",
              "      <td>62</td>\n",
              "    </tr>\n",
              "    <tr>\n",
              "      <th>...</th>\n",
              "      <td>...</td>\n",
              "      <td>...</td>\n",
              "      <td>...</td>\n",
              "      <td>...</td>\n",
              "      <td>...</td>\n",
              "    </tr>\n",
              "    <tr>\n",
              "      <th>220691</th>\n",
              "      <td>CA</td>\n",
              "      <td>F</td>\n",
              "      <td>2017</td>\n",
              "      <td>Zyrah</td>\n",
              "      <td>6</td>\n",
              "    </tr>\n",
              "    <tr>\n",
              "      <th>197529</th>\n",
              "      <td>CA</td>\n",
              "      <td>F</td>\n",
              "      <td>2011</td>\n",
              "      <td>Zyrah</td>\n",
              "      <td>5</td>\n",
              "    </tr>\n",
              "    <tr>\n",
              "      <th>217429</th>\n",
              "      <td>CA</td>\n",
              "      <td>F</td>\n",
              "      <td>2016</td>\n",
              "      <td>Zyrah</td>\n",
              "      <td>5</td>\n",
              "    </tr>\n",
              "    <tr>\n",
              "      <th>232167</th>\n",
              "      <td>CA</td>\n",
              "      <td>F</td>\n",
              "      <td>2020</td>\n",
              "      <td>Zyrah</td>\n",
              "      <td>5</td>\n",
              "    </tr>\n",
              "    <tr>\n",
              "      <th>404544</th>\n",
              "      <td>CA</td>\n",
              "      <td>M</td>\n",
              "      <td>2021</td>\n",
              "      <td>Zyrus</td>\n",
              "      <td>5</td>\n",
              "    </tr>\n",
              "  </tbody>\n",
              "</table>\n",
              "<p>407428 rows × 5 columns</p>\n",
              "</div>"
            ],
            "text/plain": [
              "       State Sex  Year     Name  Count\n",
              "366001    CA   M  2008    Aadan      7\n",
              "384005    CA   M  2014    Aadan      5\n",
              "369120    CA   M  2009    Aadan      6\n",
              "398211    CA   M  2019  Aadarsh      6\n",
              "370306    CA   M  2010    Aaden     62\n",
              "...      ...  ..   ...      ...    ...\n",
              "220691    CA   F  2017    Zyrah      6\n",
              "197529    CA   F  2011    Zyrah      5\n",
              "217429    CA   F  2016    Zyrah      5\n",
              "232167    CA   F  2020    Zyrah      5\n",
              "404544    CA   M  2021    Zyrus      5\n",
              "\n",
              "[407428 rows x 5 columns]"
            ]
          },
          "execution_count": 16,
          "metadata": {},
          "output_type": "execute_result"
        }
      ],
      "source": [
        "# Sort a DataFrame – there are lots of Michaels in California\n",
        "sorted_names_df = babynames.sort_values(by='Name')\n",
        "sorted_names_df"
      ]
    },
    {
      "cell_type": "markdown",
      "metadata": {
        "id": "_ZVFY3dHsfOb"
      },
      "source": [
        "### Approach 1: Create a temporary column"
      ]
    },
    {
      "cell_type": "code",
      "execution_count": 17,
      "metadata": {
        "id": "C3-jQTR7ikKr"
      },
      "outputs": [
        {
          "data": {
            "text/html": [
              "<div>\n",
              "<style scoped>\n",
              "    .dataframe tbody tr th:only-of-type {\n",
              "        vertical-align: middle;\n",
              "    }\n",
              "\n",
              "    .dataframe tbody tr th {\n",
              "        vertical-align: top;\n",
              "    }\n",
              "\n",
              "    .dataframe thead th {\n",
              "        text-align: right;\n",
              "    }\n",
              "</style>\n",
              "<table border=\"1\" class=\"dataframe\">\n",
              "  <thead>\n",
              "    <tr style=\"text-align: right;\">\n",
              "      <th></th>\n",
              "      <th>State</th>\n",
              "      <th>Sex</th>\n",
              "      <th>Year</th>\n",
              "      <th>Name</th>\n",
              "      <th>Count</th>\n",
              "      <th>name_lengths</th>\n",
              "    </tr>\n",
              "  </thead>\n",
              "  <tbody>\n",
              "    <tr>\n",
              "      <th>326570</th>\n",
              "      <td>CA</td>\n",
              "      <td>M</td>\n",
              "      <td>1993</td>\n",
              "      <td>An</td>\n",
              "      <td>8</td>\n",
              "      <td>2</td>\n",
              "    </tr>\n",
              "    <tr>\n",
              "      <th>292150</th>\n",
              "      <td>CA</td>\n",
              "      <td>M</td>\n",
              "      <td>1976</td>\n",
              "      <td>Al</td>\n",
              "      <td>13</td>\n",
              "      <td>2</td>\n",
              "    </tr>\n",
              "    <tr>\n",
              "      <th>252556</th>\n",
              "      <td>CA</td>\n",
              "      <td>M</td>\n",
              "      <td>1937</td>\n",
              "      <td>Al</td>\n",
              "      <td>21</td>\n",
              "      <td>2</td>\n",
              "    </tr>\n",
              "    <tr>\n",
              "      <th>401470</th>\n",
              "      <td>CA</td>\n",
              "      <td>M</td>\n",
              "      <td>2020</td>\n",
              "      <td>Jr</td>\n",
              "      <td>5</td>\n",
              "      <td>2</td>\n",
              "    </tr>\n",
              "    <tr>\n",
              "      <th>260022</th>\n",
              "      <td>CA</td>\n",
              "      <td>M</td>\n",
              "      <td>1948</td>\n",
              "      <td>Ed</td>\n",
              "      <td>43</td>\n",
              "      <td>2</td>\n",
              "    </tr>\n",
              "    <tr>\n",
              "      <th>...</th>\n",
              "      <td>...</td>\n",
              "      <td>...</td>\n",
              "      <td>...</td>\n",
              "      <td>...</td>\n",
              "      <td>...</td>\n",
              "      <td>...</td>\n",
              "    </tr>\n",
              "    <tr>\n",
              "      <th>339472</th>\n",
              "      <td>CA</td>\n",
              "      <td>M</td>\n",
              "      <td>1998</td>\n",
              "      <td>Franciscojavier</td>\n",
              "      <td>6</td>\n",
              "      <td>15</td>\n",
              "    </tr>\n",
              "    <tr>\n",
              "      <th>327358</th>\n",
              "      <td>CA</td>\n",
              "      <td>M</td>\n",
              "      <td>1993</td>\n",
              "      <td>Johnchristopher</td>\n",
              "      <td>5</td>\n",
              "      <td>15</td>\n",
              "    </tr>\n",
              "    <tr>\n",
              "      <th>337477</th>\n",
              "      <td>CA</td>\n",
              "      <td>M</td>\n",
              "      <td>1997</td>\n",
              "      <td>Ryanchristopher</td>\n",
              "      <td>5</td>\n",
              "      <td>15</td>\n",
              "    </tr>\n",
              "    <tr>\n",
              "      <th>312543</th>\n",
              "      <td>CA</td>\n",
              "      <td>M</td>\n",
              "      <td>1987</td>\n",
              "      <td>Franciscojavier</td>\n",
              "      <td>5</td>\n",
              "      <td>15</td>\n",
              "    </tr>\n",
              "    <tr>\n",
              "      <th>321792</th>\n",
              "      <td>CA</td>\n",
              "      <td>M</td>\n",
              "      <td>1991</td>\n",
              "      <td>Ryanchristopher</td>\n",
              "      <td>7</td>\n",
              "      <td>15</td>\n",
              "    </tr>\n",
              "  </tbody>\n",
              "</table>\n",
              "<p>407428 rows × 6 columns</p>\n",
              "</div>"
            ],
            "text/plain": [
              "       State Sex  Year             Name  Count  name_lengths\n",
              "326570    CA   M  1993               An      8             2\n",
              "292150    CA   M  1976               Al     13             2\n",
              "252556    CA   M  1937               Al     21             2\n",
              "401470    CA   M  2020               Jr      5             2\n",
              "260022    CA   M  1948               Ed     43             2\n",
              "...      ...  ..   ...              ...    ...           ...\n",
              "339472    CA   M  1998  Franciscojavier      6            15\n",
              "327358    CA   M  1993  Johnchristopher      5            15\n",
              "337477    CA   M  1997  Ryanchristopher      5            15\n",
              "312543    CA   M  1987  Franciscojavier      5            15\n",
              "321792    CA   M  1991  Ryanchristopher      7            15\n",
              "\n",
              "[407428 rows x 6 columns]"
            ]
          },
          "execution_count": 17,
          "metadata": {},
          "output_type": "execute_result"
        }
      ],
      "source": [
        "# Create a Series of the length of each name\n",
        "name_lengths = babynames['Name'].str.len()\n",
        "# name_length\n",
        "\n",
        "# Add a column named \"name_lengths\" that includes the length of each name\n",
        "babynames['name_lengths'] = name_lengths\n",
        "# babynames\n",
        "\n",
        "# Sort by the temporary column\n",
        "sorted_length = babynames.sort_values(by='name_lengths')\n",
        "sorted_length"
      ]
    },
    {
      "cell_type": "code",
      "execution_count": 18,
      "metadata": {
        "id": "ahtA1iWrikKr",
        "tags": []
      },
      "outputs": [
        {
          "data": {
            "text/html": [
              "<div>\n",
              "<style scoped>\n",
              "    .dataframe tbody tr th:only-of-type {\n",
              "        vertical-align: middle;\n",
              "    }\n",
              "\n",
              "    .dataframe tbody tr th {\n",
              "        vertical-align: top;\n",
              "    }\n",
              "\n",
              "    .dataframe thead th {\n",
              "        text-align: right;\n",
              "    }\n",
              "</style>\n",
              "<table border=\"1\" class=\"dataframe\">\n",
              "  <thead>\n",
              "    <tr style=\"text-align: right;\">\n",
              "      <th></th>\n",
              "      <th>State</th>\n",
              "      <th>Sex</th>\n",
              "      <th>Year</th>\n",
              "      <th>Name</th>\n",
              "      <th>Count</th>\n",
              "    </tr>\n",
              "  </thead>\n",
              "  <tbody>\n",
              "    <tr>\n",
              "      <th>0</th>\n",
              "      <td>CA</td>\n",
              "      <td>F</td>\n",
              "      <td>1910</td>\n",
              "      <td>Mary</td>\n",
              "      <td>295</td>\n",
              "    </tr>\n",
              "    <tr>\n",
              "      <th>1</th>\n",
              "      <td>CA</td>\n",
              "      <td>F</td>\n",
              "      <td>1910</td>\n",
              "      <td>Helen</td>\n",
              "      <td>239</td>\n",
              "    </tr>\n",
              "    <tr>\n",
              "      <th>2</th>\n",
              "      <td>CA</td>\n",
              "      <td>F</td>\n",
              "      <td>1910</td>\n",
              "      <td>Dorothy</td>\n",
              "      <td>220</td>\n",
              "    </tr>\n",
              "    <tr>\n",
              "      <th>3</th>\n",
              "      <td>CA</td>\n",
              "      <td>F</td>\n",
              "      <td>1910</td>\n",
              "      <td>Margaret</td>\n",
              "      <td>163</td>\n",
              "    </tr>\n",
              "    <tr>\n",
              "      <th>4</th>\n",
              "      <td>CA</td>\n",
              "      <td>F</td>\n",
              "      <td>1910</td>\n",
              "      <td>Frances</td>\n",
              "      <td>134</td>\n",
              "    </tr>\n",
              "    <tr>\n",
              "      <th>...</th>\n",
              "      <td>...</td>\n",
              "      <td>...</td>\n",
              "      <td>...</td>\n",
              "      <td>...</td>\n",
              "      <td>...</td>\n",
              "    </tr>\n",
              "    <tr>\n",
              "      <th>407423</th>\n",
              "      <td>CA</td>\n",
              "      <td>M</td>\n",
              "      <td>2022</td>\n",
              "      <td>Zayvier</td>\n",
              "      <td>5</td>\n",
              "    </tr>\n",
              "    <tr>\n",
              "      <th>407424</th>\n",
              "      <td>CA</td>\n",
              "      <td>M</td>\n",
              "      <td>2022</td>\n",
              "      <td>Zia</td>\n",
              "      <td>5</td>\n",
              "    </tr>\n",
              "    <tr>\n",
              "      <th>407425</th>\n",
              "      <td>CA</td>\n",
              "      <td>M</td>\n",
              "      <td>2022</td>\n",
              "      <td>Zora</td>\n",
              "      <td>5</td>\n",
              "    </tr>\n",
              "    <tr>\n",
              "      <th>407426</th>\n",
              "      <td>CA</td>\n",
              "      <td>M</td>\n",
              "      <td>2022</td>\n",
              "      <td>Zuriel</td>\n",
              "      <td>5</td>\n",
              "    </tr>\n",
              "    <tr>\n",
              "      <th>407427</th>\n",
              "      <td>CA</td>\n",
              "      <td>M</td>\n",
              "      <td>2022</td>\n",
              "      <td>Zylo</td>\n",
              "      <td>5</td>\n",
              "    </tr>\n",
              "  </tbody>\n",
              "</table>\n",
              "<p>407428 rows × 5 columns</p>\n",
              "</div>"
            ],
            "text/plain": [
              "       State Sex  Year      Name  Count\n",
              "0         CA   F  1910      Mary    295\n",
              "1         CA   F  1910     Helen    239\n",
              "2         CA   F  1910   Dorothy    220\n",
              "3         CA   F  1910  Margaret    163\n",
              "4         CA   F  1910   Frances    134\n",
              "...      ...  ..   ...       ...    ...\n",
              "407423    CA   M  2022   Zayvier      5\n",
              "407424    CA   M  2022       Zia      5\n",
              "407425    CA   M  2022      Zora      5\n",
              "407426    CA   M  2022    Zuriel      5\n",
              "407427    CA   M  2022      Zylo      5\n",
              "\n",
              "[407428 rows x 5 columns]"
            ]
          },
          "execution_count": 18,
          "metadata": {},
          "output_type": "execute_result"
        }
      ],
      "source": [
        "# Drop the 'name_length' column\n",
        "babynames = babynames.drop(columns=['name_lengths'])\n",
        "babynames"
      ]
    },
    {
      "cell_type": "markdown",
      "metadata": {
        "id": "yRv15FHqikKr"
      },
      "source": [
        "### Approach 2: Sorting using the `key` argument"
      ]
    },
    {
      "cell_type": "code",
      "execution_count": 19,
      "metadata": {
        "id": "AQYcQ_hRikKr"
      },
      "outputs": [
        {
          "data": {
            "text/html": [
              "<div>\n",
              "<style scoped>\n",
              "    .dataframe tbody tr th:only-of-type {\n",
              "        vertical-align: middle;\n",
              "    }\n",
              "\n",
              "    .dataframe tbody tr th {\n",
              "        vertical-align: top;\n",
              "    }\n",
              "\n",
              "    .dataframe thead th {\n",
              "        text-align: right;\n",
              "    }\n",
              "</style>\n",
              "<table border=\"1\" class=\"dataframe\">\n",
              "  <thead>\n",
              "    <tr style=\"text-align: right;\">\n",
              "      <th></th>\n",
              "      <th>State</th>\n",
              "      <th>Sex</th>\n",
              "      <th>Year</th>\n",
              "      <th>Name</th>\n",
              "      <th>Count</th>\n",
              "    </tr>\n",
              "  </thead>\n",
              "  <tbody>\n",
              "    <tr>\n",
              "      <th>407427</th>\n",
              "      <td>CA</td>\n",
              "      <td>M</td>\n",
              "      <td>2022</td>\n",
              "      <td>Zylo</td>\n",
              "      <td>5</td>\n",
              "    </tr>\n",
              "    <tr>\n",
              "      <th>300815</th>\n",
              "      <td>CA</td>\n",
              "      <td>M</td>\n",
              "      <td>1981</td>\n",
              "      <td>Broderick</td>\n",
              "      <td>5</td>\n",
              "    </tr>\n",
              "    <tr>\n",
              "      <th>300816</th>\n",
              "      <td>CA</td>\n",
              "      <td>M</td>\n",
              "      <td>1981</td>\n",
              "      <td>Brooke</td>\n",
              "      <td>5</td>\n",
              "    </tr>\n",
              "    <tr>\n",
              "      <th>300817</th>\n",
              "      <td>CA</td>\n",
              "      <td>M</td>\n",
              "      <td>1981</td>\n",
              "      <td>Bud</td>\n",
              "      <td>5</td>\n",
              "    </tr>\n",
              "    <tr>\n",
              "      <th>300818</th>\n",
              "      <td>CA</td>\n",
              "      <td>M</td>\n",
              "      <td>1981</td>\n",
              "      <td>Cha</td>\n",
              "      <td>5</td>\n",
              "    </tr>\n",
              "    <tr>\n",
              "      <th>...</th>\n",
              "      <td>...</td>\n",
              "      <td>...</td>\n",
              "      <td>...</td>\n",
              "      <td>...</td>\n",
              "      <td>...</td>\n",
              "    </tr>\n",
              "    <tr>\n",
              "      <th>283146</th>\n",
              "      <td>CA</td>\n",
              "      <td>M</td>\n",
              "      <td>1970</td>\n",
              "      <td>Michael</td>\n",
              "      <td>8196</td>\n",
              "    </tr>\n",
              "    <tr>\n",
              "      <th>281850</th>\n",
              "      <td>CA</td>\n",
              "      <td>M</td>\n",
              "      <td>1969</td>\n",
              "      <td>Michael</td>\n",
              "      <td>8245</td>\n",
              "    </tr>\n",
              "    <tr>\n",
              "      <th>317387</th>\n",
              "      <td>CA</td>\n",
              "      <td>M</td>\n",
              "      <td>1990</td>\n",
              "      <td>Michael</td>\n",
              "      <td>8246</td>\n",
              "    </tr>\n",
              "    <tr>\n",
              "      <th>267017</th>\n",
              "      <td>CA</td>\n",
              "      <td>M</td>\n",
              "      <td>1956</td>\n",
              "      <td>Michael</td>\n",
              "      <td>8258</td>\n",
              "    </tr>\n",
              "    <tr>\n",
              "      <th>268041</th>\n",
              "      <td>CA</td>\n",
              "      <td>M</td>\n",
              "      <td>1957</td>\n",
              "      <td>Michael</td>\n",
              "      <td>8260</td>\n",
              "    </tr>\n",
              "  </tbody>\n",
              "</table>\n",
              "<p>407428 rows × 5 columns</p>\n",
              "</div>"
            ],
            "text/plain": [
              "       State Sex  Year       Name  Count\n",
              "407427    CA   M  2022       Zylo      5\n",
              "300815    CA   M  1981  Broderick      5\n",
              "300816    CA   M  1981     Brooke      5\n",
              "300817    CA   M  1981        Bud      5\n",
              "300818    CA   M  1981        Cha      5\n",
              "...      ...  ..   ...        ...    ...\n",
              "283146    CA   M  1970    Michael   8196\n",
              "281850    CA   M  1969    Michael   8245\n",
              "317387    CA   M  1990    Michael   8246\n",
              "267017    CA   M  1956    Michael   8258\n",
              "268041    CA   M  1957    Michael   8260\n",
              "\n",
              "[407428 rows x 5 columns]"
            ]
          },
          "execution_count": 19,
          "metadata": {},
          "output_type": "execute_result"
        }
      ],
      "source": [
        "def custom_key(x):\n",
        "    return x - 1\n",
        "\n",
        "# babynames\n",
        "key_sort = babynames.sort_values(by='Count', key=lambda x:x-1)\n",
        "key_sort\n",
        "\n",
        "# '''\n",
        "# The key argument in the sort_values method of a Pandas DataFrame is intended to transform the data before sorting, \n",
        "# not to change the data itself. The lambda function you’ve provided, lambda x: x-1, is subtracting 1 from each element in the ‘Count’ column, \n",
        "# but this transformed data is only used for sorting purposes and does not alter the original data in the DataFrame.\n",
        "# '''"
      ]
    },
    {
      "cell_type": "markdown",
      "metadata": {
        "id": "g0cmkQEOikKr"
      },
      "source": [
        "### Approach 3: Sorting Using the `map` Function\n",
        "\n",
        "We can also use the Python map function if we want to use an arbitrarily defined function. Suppose we want to sort by the number of occurrences of \"dr\" plus the number of occurences of \"ea\"."
      ]
    },
    {
      "cell_type": "code",
      "execution_count": 20,
      "metadata": {
        "id": "cK1AbRrCikKr"
      },
      "outputs": [
        {
          "data": {
            "text/html": [
              "<div>\n",
              "<style scoped>\n",
              "    .dataframe tbody tr th:only-of-type {\n",
              "        vertical-align: middle;\n",
              "    }\n",
              "\n",
              "    .dataframe tbody tr th {\n",
              "        vertical-align: top;\n",
              "    }\n",
              "\n",
              "    .dataframe thead th {\n",
              "        text-align: right;\n",
              "    }\n",
              "</style>\n",
              "<table border=\"1\" class=\"dataframe\">\n",
              "  <thead>\n",
              "    <tr style=\"text-align: right;\">\n",
              "      <th></th>\n",
              "      <th>State</th>\n",
              "      <th>Sex</th>\n",
              "      <th>Year</th>\n",
              "      <th>Name</th>\n",
              "      <th>Count</th>\n",
              "      <th>dr_ea</th>\n",
              "    </tr>\n",
              "  </thead>\n",
              "  <tbody>\n",
              "    <tr>\n",
              "      <th>131029</th>\n",
              "      <td>CA</td>\n",
              "      <td>F</td>\n",
              "      <td>1994</td>\n",
              "      <td>Leandrea</td>\n",
              "      <td>5</td>\n",
              "      <td>3</td>\n",
              "    </tr>\n",
              "    <tr>\n",
              "      <th>101976</th>\n",
              "      <td>CA</td>\n",
              "      <td>F</td>\n",
              "      <td>1986</td>\n",
              "      <td>Deandrea</td>\n",
              "      <td>6</td>\n",
              "      <td>3</td>\n",
              "    </tr>\n",
              "    <tr>\n",
              "      <th>308131</th>\n",
              "      <td>CA</td>\n",
              "      <td>M</td>\n",
              "      <td>1985</td>\n",
              "      <td>Deandrea</td>\n",
              "      <td>6</td>\n",
              "      <td>3</td>\n",
              "    </tr>\n",
              "    <tr>\n",
              "      <th>115957</th>\n",
              "      <td>CA</td>\n",
              "      <td>F</td>\n",
              "      <td>1990</td>\n",
              "      <td>Deandrea</td>\n",
              "      <td>5</td>\n",
              "      <td>3</td>\n",
              "    </tr>\n",
              "    <tr>\n",
              "      <th>108731</th>\n",
              "      <td>CA</td>\n",
              "      <td>F</td>\n",
              "      <td>1988</td>\n",
              "      <td>Deandrea</td>\n",
              "      <td>5</td>\n",
              "      <td>3</td>\n",
              "    </tr>\n",
              "    <tr>\n",
              "      <th>...</th>\n",
              "      <td>...</td>\n",
              "      <td>...</td>\n",
              "      <td>...</td>\n",
              "      <td>...</td>\n",
              "      <td>...</td>\n",
              "      <td>...</td>\n",
              "    </tr>\n",
              "    <tr>\n",
              "      <th>139084</th>\n",
              "      <td>CA</td>\n",
              "      <td>F</td>\n",
              "      <td>1997</td>\n",
              "      <td>Areli</td>\n",
              "      <td>49</td>\n",
              "      <td>0</td>\n",
              "    </tr>\n",
              "    <tr>\n",
              "      <th>139083</th>\n",
              "      <td>CA</td>\n",
              "      <td>F</td>\n",
              "      <td>1997</td>\n",
              "      <td>Xena</td>\n",
              "      <td>50</td>\n",
              "      <td>0</td>\n",
              "    </tr>\n",
              "    <tr>\n",
              "      <th>139082</th>\n",
              "      <td>CA</td>\n",
              "      <td>F</td>\n",
              "      <td>1997</td>\n",
              "      <td>Unique</td>\n",
              "      <td>50</td>\n",
              "      <td>0</td>\n",
              "    </tr>\n",
              "    <tr>\n",
              "      <th>139081</th>\n",
              "      <td>CA</td>\n",
              "      <td>F</td>\n",
              "      <td>1997</td>\n",
              "      <td>Tierra</td>\n",
              "      <td>50</td>\n",
              "      <td>0</td>\n",
              "    </tr>\n",
              "    <tr>\n",
              "      <th>407427</th>\n",
              "      <td>CA</td>\n",
              "      <td>M</td>\n",
              "      <td>2022</td>\n",
              "      <td>Zylo</td>\n",
              "      <td>5</td>\n",
              "      <td>0</td>\n",
              "    </tr>\n",
              "  </tbody>\n",
              "</table>\n",
              "<p>407428 rows × 6 columns</p>\n",
              "</div>"
            ],
            "text/plain": [
              "       State Sex  Year      Name  Count  dr_ea\n",
              "131029    CA   F  1994  Leandrea      5      3\n",
              "101976    CA   F  1986  Deandrea      6      3\n",
              "308131    CA   M  1985  Deandrea      6      3\n",
              "115957    CA   F  1990  Deandrea      5      3\n",
              "108731    CA   F  1988  Deandrea      5      3\n",
              "...      ...  ..   ...       ...    ...    ...\n",
              "139084    CA   F  1997     Areli     49      0\n",
              "139083    CA   F  1997      Xena     50      0\n",
              "139082    CA   F  1997    Unique     50      0\n",
              "139081    CA   F  1997    Tierra     50      0\n",
              "407427    CA   M  2022      Zylo      5      0\n",
              "\n",
              "[407428 rows x 6 columns]"
            ]
          },
          "execution_count": 20,
          "metadata": {},
          "output_type": "execute_result"
        }
      ],
      "source": [
        "# First, define a function to count the number of times \"sa\" or \"me\" appear in each name\n",
        "def dr_ea_count(string):\n",
        "    return string.count('dr') + string.count('ea')\n",
        "\n",
        "# Then, use `map` to apply `dr_ea_count` to each name in the \"Name\" column\n",
        "babynames['dr_ea'] = babynames['Name'].map(dr_ea_count)\n",
        "\n",
        "# Sort the DataFrame by the new \"dr_ea_count\" column so we can see our handiwork\n",
        "babynames.sort_values(by= 'dr_ea', ascending=False)\n"
      ]
    },
    {
      "cell_type": "code",
      "execution_count": 21,
      "metadata": {
        "id": "asoXYCpNikKs"
      },
      "outputs": [
        {
          "data": {
            "text/html": [
              "<div>\n",
              "<style scoped>\n",
              "    .dataframe tbody tr th:only-of-type {\n",
              "        vertical-align: middle;\n",
              "    }\n",
              "\n",
              "    .dataframe tbody tr th {\n",
              "        vertical-align: top;\n",
              "    }\n",
              "\n",
              "    .dataframe thead th {\n",
              "        text-align: right;\n",
              "    }\n",
              "</style>\n",
              "<table border=\"1\" class=\"dataframe\">\n",
              "  <thead>\n",
              "    <tr style=\"text-align: right;\">\n",
              "      <th></th>\n",
              "      <th>State</th>\n",
              "      <th>Sex</th>\n",
              "      <th>Year</th>\n",
              "      <th>Name</th>\n",
              "      <th>Count</th>\n",
              "    </tr>\n",
              "  </thead>\n",
              "  <tbody>\n",
              "    <tr>\n",
              "      <th>0</th>\n",
              "      <td>CA</td>\n",
              "      <td>F</td>\n",
              "      <td>1910</td>\n",
              "      <td>Mary</td>\n",
              "      <td>295</td>\n",
              "    </tr>\n",
              "    <tr>\n",
              "      <th>1</th>\n",
              "      <td>CA</td>\n",
              "      <td>F</td>\n",
              "      <td>1910</td>\n",
              "      <td>Helen</td>\n",
              "      <td>239</td>\n",
              "    </tr>\n",
              "    <tr>\n",
              "      <th>2</th>\n",
              "      <td>CA</td>\n",
              "      <td>F</td>\n",
              "      <td>1910</td>\n",
              "      <td>Dorothy</td>\n",
              "      <td>220</td>\n",
              "    </tr>\n",
              "    <tr>\n",
              "      <th>3</th>\n",
              "      <td>CA</td>\n",
              "      <td>F</td>\n",
              "      <td>1910</td>\n",
              "      <td>Margaret</td>\n",
              "      <td>163</td>\n",
              "    </tr>\n",
              "    <tr>\n",
              "      <th>4</th>\n",
              "      <td>CA</td>\n",
              "      <td>F</td>\n",
              "      <td>1910</td>\n",
              "      <td>Frances</td>\n",
              "      <td>134</td>\n",
              "    </tr>\n",
              "    <tr>\n",
              "      <th>...</th>\n",
              "      <td>...</td>\n",
              "      <td>...</td>\n",
              "      <td>...</td>\n",
              "      <td>...</td>\n",
              "      <td>...</td>\n",
              "    </tr>\n",
              "    <tr>\n",
              "      <th>407423</th>\n",
              "      <td>CA</td>\n",
              "      <td>M</td>\n",
              "      <td>2022</td>\n",
              "      <td>Zayvier</td>\n",
              "      <td>5</td>\n",
              "    </tr>\n",
              "    <tr>\n",
              "      <th>407424</th>\n",
              "      <td>CA</td>\n",
              "      <td>M</td>\n",
              "      <td>2022</td>\n",
              "      <td>Zia</td>\n",
              "      <td>5</td>\n",
              "    </tr>\n",
              "    <tr>\n",
              "      <th>407425</th>\n",
              "      <td>CA</td>\n",
              "      <td>M</td>\n",
              "      <td>2022</td>\n",
              "      <td>Zora</td>\n",
              "      <td>5</td>\n",
              "    </tr>\n",
              "    <tr>\n",
              "      <th>407426</th>\n",
              "      <td>CA</td>\n",
              "      <td>M</td>\n",
              "      <td>2022</td>\n",
              "      <td>Zuriel</td>\n",
              "      <td>5</td>\n",
              "    </tr>\n",
              "    <tr>\n",
              "      <th>407427</th>\n",
              "      <td>CA</td>\n",
              "      <td>M</td>\n",
              "      <td>2022</td>\n",
              "      <td>Zylo</td>\n",
              "      <td>5</td>\n",
              "    </tr>\n",
              "  </tbody>\n",
              "</table>\n",
              "<p>407428 rows × 5 columns</p>\n",
              "</div>"
            ],
            "text/plain": [
              "       State Sex  Year      Name  Count\n",
              "0         CA   F  1910      Mary    295\n",
              "1         CA   F  1910     Helen    239\n",
              "2         CA   F  1910   Dorothy    220\n",
              "3         CA   F  1910  Margaret    163\n",
              "4         CA   F  1910   Frances    134\n",
              "...      ...  ..   ...       ...    ...\n",
              "407423    CA   M  2022   Zayvier      5\n",
              "407424    CA   M  2022       Zia      5\n",
              "407425    CA   M  2022      Zora      5\n",
              "407426    CA   M  2022    Zuriel      5\n",
              "407427    CA   M  2022      Zylo      5\n",
              "\n",
              "[407428 rows x 5 columns]"
            ]
          },
          "execution_count": 21,
          "metadata": {},
          "output_type": "execute_result"
        }
      ],
      "source": [
        "babynames = babynames.drop(columns='dr_ea')\n",
        "babynames\n"
      ]
    },
    {
      "cell_type": "markdown",
      "metadata": {
        "id": "1b5vXusiikKs"
      },
      "source": [
        "## Grouping\n",
        "\n",
        "Group rows that share a common feature, then aggregate data across the group.\n",
        "\n",
        "In this example, we count the total number of babies born in each year (considering only a small subset of the data, for simplicity).\n",
        "\n",
        "<img src=\"images/groupby.png\" width=\"800\"/>"
      ]
    },
    {
      "cell_type": "code",
      "execution_count": 22,
      "metadata": {
        "id": "cfXzYMSB1EIM"
      },
      "outputs": [
        {
          "name": "stderr",
          "output_type": "stream",
          "text": [
            "C:\\Users\\Maaz PC\\AppData\\Local\\Temp\\ipykernel_17788\\3612818393.py:6: FutureWarning: The provided callable <built-in function sum> is currently using DataFrameGroupBy.sum. In a future version of pandas, the provided callable will be used directly. To keep current behavior pass the string \"sum\" instead.\n",
            "  grouped_by_year = f_babynames.groupby('Year')[['Count']].agg(sum)\n"
          ]
        },
        {
          "data": {
            "text/html": [
              "<div>\n",
              "<style scoped>\n",
              "    .dataframe tbody tr th:only-of-type {\n",
              "        vertical-align: middle;\n",
              "    }\n",
              "\n",
              "    .dataframe tbody tr th {\n",
              "        vertical-align: top;\n",
              "    }\n",
              "\n",
              "    .dataframe thead th {\n",
              "        text-align: right;\n",
              "    }\n",
              "</style>\n",
              "<table border=\"1\" class=\"dataframe\">\n",
              "  <thead>\n",
              "    <tr style=\"text-align: right;\">\n",
              "      <th></th>\n",
              "      <th>Count</th>\n",
              "    </tr>\n",
              "    <tr>\n",
              "      <th>Year</th>\n",
              "      <th></th>\n",
              "    </tr>\n",
              "  </thead>\n",
              "  <tbody>\n",
              "    <tr>\n",
              "      <th>1910</th>\n",
              "      <td>5950</td>\n",
              "    </tr>\n",
              "    <tr>\n",
              "      <th>1911</th>\n",
              "      <td>6602</td>\n",
              "    </tr>\n",
              "    <tr>\n",
              "      <th>1912</th>\n",
              "      <td>9804</td>\n",
              "    </tr>\n",
              "    <tr>\n",
              "      <th>1913</th>\n",
              "      <td>11860</td>\n",
              "    </tr>\n",
              "    <tr>\n",
              "      <th>1914</th>\n",
              "      <td>13815</td>\n",
              "    </tr>\n",
              "    <tr>\n",
              "      <th>...</th>\n",
              "      <td>...</td>\n",
              "    </tr>\n",
              "    <tr>\n",
              "      <th>2018</th>\n",
              "      <td>189208</td>\n",
              "    </tr>\n",
              "    <tr>\n",
              "      <th>2019</th>\n",
              "      <td>184228</td>\n",
              "    </tr>\n",
              "    <tr>\n",
              "      <th>2020</th>\n",
              "      <td>173763</td>\n",
              "    </tr>\n",
              "    <tr>\n",
              "      <th>2021</th>\n",
              "      <td>173913</td>\n",
              "    </tr>\n",
              "    <tr>\n",
              "      <th>2022</th>\n",
              "      <td>172454</td>\n",
              "    </tr>\n",
              "  </tbody>\n",
              "</table>\n",
              "<p>113 rows × 1 columns</p>\n",
              "</div>"
            ],
            "text/plain": [
              "       Count\n",
              "Year        \n",
              "1910    5950\n",
              "1911    6602\n",
              "1912    9804\n",
              "1913   11860\n",
              "1914   13815\n",
              "...      ...\n",
              "2018  189208\n",
              "2019  184228\n",
              "2020  173763\n",
              "2021  173913\n",
              "2022  172454\n",
              "\n",
              "[113 rows x 1 columns]"
            ]
          },
          "execution_count": 22,
          "metadata": {},
          "output_type": "execute_result"
        }
      ],
      "source": [
        "# DataFrame with baby gril names only\n",
        "f_babynames = babynames[(babynames['Sex'] == 'F')]\n",
        "# f_babynames\n",
        "\n",
        "#Groupby similar features like year and apply aggregate\n",
        "grouped_by_year = f_babynames.groupby('Year')[['Count']].agg(sum)\n",
        "\n",
        "# Sort by Count\n",
        "grouped_by_year.sort_values(by='Count')\n",
        "grouped_by_year\n"
      ]
    },
    {
      "cell_type": "code",
      "execution_count": 23,
      "metadata": {
        "id": "9EGgvBXG4ii4"
      },
      "outputs": [
        {
          "data": {
            "text/html": [
              "<div>\n",
              "<style scoped>\n",
              "    .dataframe tbody tr th:only-of-type {\n",
              "        vertical-align: middle;\n",
              "    }\n",
              "\n",
              "    .dataframe tbody tr th {\n",
              "        vertical-align: top;\n",
              "    }\n",
              "\n",
              "    .dataframe thead th {\n",
              "        text-align: right;\n",
              "    }\n",
              "</style>\n",
              "<table border=\"1\" class=\"dataframe\">\n",
              "  <thead>\n",
              "    <tr style=\"text-align: right;\">\n",
              "      <th></th>\n",
              "      <th>Count</th>\n",
              "    </tr>\n",
              "    <tr>\n",
              "      <th>Year</th>\n",
              "      <th></th>\n",
              "    </tr>\n",
              "  </thead>\n",
              "  <tbody>\n",
              "    <tr>\n",
              "      <th>1910</th>\n",
              "      <td>5950</td>\n",
              "    </tr>\n",
              "    <tr>\n",
              "      <th>1911</th>\n",
              "      <td>6602</td>\n",
              "    </tr>\n",
              "    <tr>\n",
              "      <th>1912</th>\n",
              "      <td>9804</td>\n",
              "    </tr>\n",
              "    <tr>\n",
              "      <th>1913</th>\n",
              "      <td>11860</td>\n",
              "    </tr>\n",
              "    <tr>\n",
              "      <th>1914</th>\n",
              "      <td>13815</td>\n",
              "    </tr>\n",
              "    <tr>\n",
              "      <th>1915</th>\n",
              "      <td>18643</td>\n",
              "    </tr>\n",
              "    <tr>\n",
              "      <th>1916</th>\n",
              "      <td>19555</td>\n",
              "    </tr>\n",
              "    <tr>\n",
              "      <th>1917</th>\n",
              "      <td>20864</td>\n",
              "    </tr>\n",
              "    <tr>\n",
              "      <th>1918</th>\n",
              "      <td>23052</td>\n",
              "    </tr>\n",
              "    <tr>\n",
              "      <th>1919</th>\n",
              "      <td>23288</td>\n",
              "    </tr>\n",
              "  </tbody>\n",
              "</table>\n",
              "</div>"
            ],
            "text/plain": [
              "      Count\n",
              "Year       \n",
              "1910   5950\n",
              "1911   6602\n",
              "1912   9804\n",
              "1913  11860\n",
              "1914  13815\n",
              "1915  18643\n",
              "1916  19555\n",
              "1917  20864\n",
              "1918  23052\n",
              "1919  23288"
            ]
          },
          "execution_count": 23,
          "metadata": {},
          "output_type": "execute_result"
        }
      ],
      "source": [
        "# print first 10 entries\n",
        "grouped_by_year.head(10)"
      ]
    },
    {
      "cell_type": "code",
      "execution_count": 24,
      "metadata": {
        "id": "MeZ7klFJikKs"
      },
      "outputs": [
        {
          "data": {
            "text/html": [
              "<div>\n",
              "<style scoped>\n",
              "    .dataframe tbody tr th:only-of-type {\n",
              "        vertical-align: middle;\n",
              "    }\n",
              "\n",
              "    .dataframe tbody tr th {\n",
              "        vertical-align: top;\n",
              "    }\n",
              "\n",
              "    .dataframe thead th {\n",
              "        text-align: right;\n",
              "    }\n",
              "</style>\n",
              "<table border=\"1\" class=\"dataframe\">\n",
              "  <thead>\n",
              "    <tr style=\"text-align: right;\">\n",
              "      <th></th>\n",
              "      <th>Count</th>\n",
              "    </tr>\n",
              "    <tr>\n",
              "      <th>Year</th>\n",
              "      <th></th>\n",
              "    </tr>\n",
              "  </thead>\n",
              "  <tbody>\n",
              "    <tr>\n",
              "      <th>1910</th>\n",
              "      <td>5950</td>\n",
              "    </tr>\n",
              "    <tr>\n",
              "      <th>1911</th>\n",
              "      <td>6602</td>\n",
              "    </tr>\n",
              "    <tr>\n",
              "      <th>1912</th>\n",
              "      <td>9804</td>\n",
              "    </tr>\n",
              "    <tr>\n",
              "      <th>1913</th>\n",
              "      <td>11860</td>\n",
              "    </tr>\n",
              "    <tr>\n",
              "      <th>1914</th>\n",
              "      <td>13815</td>\n",
              "    </tr>\n",
              "    <tr>\n",
              "      <th>...</th>\n",
              "      <td>...</td>\n",
              "    </tr>\n",
              "    <tr>\n",
              "      <th>2018</th>\n",
              "      <td>189208</td>\n",
              "    </tr>\n",
              "    <tr>\n",
              "      <th>2019</th>\n",
              "      <td>184228</td>\n",
              "    </tr>\n",
              "    <tr>\n",
              "      <th>2020</th>\n",
              "      <td>173763</td>\n",
              "    </tr>\n",
              "    <tr>\n",
              "      <th>2021</th>\n",
              "      <td>173913</td>\n",
              "    </tr>\n",
              "    <tr>\n",
              "      <th>2022</th>\n",
              "      <td>172454</td>\n",
              "    </tr>\n",
              "  </tbody>\n",
              "</table>\n",
              "<p>113 rows × 1 columns</p>\n",
              "</div>"
            ],
            "text/plain": [
              "       Count\n",
              "Year        \n",
              "1910    5950\n",
              "1911    6602\n",
              "1912    9804\n",
              "1913   11860\n",
              "1914   13815\n",
              "...      ...\n",
              "2018  189208\n",
              "2019  184228\n",
              "2020  173763\n",
              "2021  173913\n",
              "2022  172454\n",
              "\n",
              "[113 rows x 1 columns]"
            ]
          },
          "execution_count": 24,
          "metadata": {},
          "output_type": "execute_result"
        }
      ],
      "source": [
        "#the total baby count in each year\n",
        "grouped_by_year\n"
      ]
    },
    {
      "cell_type": "markdown",
      "metadata": {
        "id": "dgGxE-GJikKs"
      },
      "source": [
        "There are many different aggregation functions we can use, all of which are useful in different applications."
      ]
    },
    {
      "cell_type": "code",
      "execution_count": 25,
      "metadata": {
        "id": "Bf_9Eu1XikKs"
      },
      "outputs": [
        {
          "data": {
            "text/html": [
              "<div>\n",
              "<style scoped>\n",
              "    .dataframe tbody tr th:only-of-type {\n",
              "        vertical-align: middle;\n",
              "    }\n",
              "\n",
              "    .dataframe tbody tr th {\n",
              "        vertical-align: top;\n",
              "    }\n",
              "\n",
              "    .dataframe thead th {\n",
              "        text-align: right;\n",
              "    }\n",
              "</style>\n",
              "<table border=\"1\" class=\"dataframe\">\n",
              "  <thead>\n",
              "    <tr style=\"text-align: right;\">\n",
              "      <th></th>\n",
              "      <th>Year</th>\n",
              "    </tr>\n",
              "    <tr>\n",
              "      <th>Name</th>\n",
              "      <th></th>\n",
              "    </tr>\n",
              "  </thead>\n",
              "  <tbody>\n",
              "    <tr>\n",
              "      <th>Lena</th>\n",
              "      <td>1910</td>\n",
              "    </tr>\n",
              "    <tr>\n",
              "      <th>Clarice</th>\n",
              "      <td>1910</td>\n",
              "    </tr>\n",
              "    <tr>\n",
              "      <th>Mamie</th>\n",
              "      <td>1910</td>\n",
              "    </tr>\n",
              "    <tr>\n",
              "      <th>Rosie</th>\n",
              "      <td>1910</td>\n",
              "    </tr>\n",
              "    <tr>\n",
              "      <th>Jeanette</th>\n",
              "      <td>1910</td>\n",
              "    </tr>\n",
              "    <tr>\n",
              "      <th>...</th>\n",
              "      <td>...</td>\n",
              "    </tr>\n",
              "    <tr>\n",
              "      <th>Nainika</th>\n",
              "      <td>2022</td>\n",
              "    </tr>\n",
              "    <tr>\n",
              "      <th>Naliah</th>\n",
              "      <td>2022</td>\n",
              "    </tr>\n",
              "    <tr>\n",
              "      <th>Namari</th>\n",
              "      <td>2022</td>\n",
              "    </tr>\n",
              "    <tr>\n",
              "      <th>Asenat</th>\n",
              "      <td>2022</td>\n",
              "    </tr>\n",
              "    <tr>\n",
              "      <th>Aadhini</th>\n",
              "      <td>2022</td>\n",
              "    </tr>\n",
              "  </tbody>\n",
              "</table>\n",
              "<p>13782 rows × 1 columns</p>\n",
              "</div>"
            ],
            "text/plain": [
              "          Year\n",
              "Name          \n",
              "Lena      1910\n",
              "Clarice   1910\n",
              "Mamie     1910\n",
              "Rosie     1910\n",
              "Jeanette  1910\n",
              "...        ...\n",
              "Nainika   2022\n",
              "Naliah    2022\n",
              "Namari    2022\n",
              "Asenat    2022\n",
              "Aadhini   2022\n",
              "\n",
              "[13782 rows x 1 columns]"
            ]
          },
          "execution_count": 25,
          "metadata": {},
          "output_type": "execute_result"
        }
      ],
      "source": [
        "# What is the earliest year in which each name appeared?\n",
        "f_babynames = f_babynames.sort_values(by='Year')\n",
        "grouped_by_name = f_babynames.groupby('Name')[['Year']].first()\n",
        "grouped_by_name.sort_values(by='Year')"
      ]
    },
    {
      "cell_type": "code",
      "execution_count": 26,
      "metadata": {
        "id": "ZYRMSMWQikKs"
      },
      "outputs": [
        {
          "data": {
            "text/html": [
              "<div>\n",
              "<style scoped>\n",
              "    .dataframe tbody tr th:only-of-type {\n",
              "        vertical-align: middle;\n",
              "    }\n",
              "\n",
              "    .dataframe tbody tr th {\n",
              "        vertical-align: top;\n",
              "    }\n",
              "\n",
              "    .dataframe thead th {\n",
              "        text-align: right;\n",
              "    }\n",
              "</style>\n",
              "<table border=\"1\" class=\"dataframe\">\n",
              "  <thead>\n",
              "    <tr style=\"text-align: right;\">\n",
              "      <th></th>\n",
              "      <th>Count</th>\n",
              "    </tr>\n",
              "    <tr>\n",
              "      <th>Name</th>\n",
              "      <th></th>\n",
              "    </tr>\n",
              "  </thead>\n",
              "  <tbody>\n",
              "    <tr>\n",
              "      <th>Jessica</th>\n",
              "      <td>6951</td>\n",
              "    </tr>\n",
              "    <tr>\n",
              "      <th>Linda</th>\n",
              "      <td>6759</td>\n",
              "    </tr>\n",
              "    <tr>\n",
              "      <th>Jennifer</th>\n",
              "      <td>6065</td>\n",
              "    </tr>\n",
              "    <tr>\n",
              "      <th>Ashley</th>\n",
              "      <td>4979</td>\n",
              "    </tr>\n",
              "    <tr>\n",
              "      <th>Lisa</th>\n",
              "      <td>4939</td>\n",
              "    </tr>\n",
              "    <tr>\n",
              "      <th>...</th>\n",
              "      <td>...</td>\n",
              "    </tr>\n",
              "    <tr>\n",
              "      <th>Jemimah</th>\n",
              "      <td>5</td>\n",
              "    </tr>\n",
              "    <tr>\n",
              "      <th>Jema</th>\n",
              "      <td>5</td>\n",
              "    </tr>\n",
              "    <tr>\n",
              "      <th>Jeilyn</th>\n",
              "      <td>5</td>\n",
              "    </tr>\n",
              "    <tr>\n",
              "      <th>Shailee</th>\n",
              "      <td>5</td>\n",
              "    </tr>\n",
              "    <tr>\n",
              "      <th>Greicy</th>\n",
              "      <td>5</td>\n",
              "    </tr>\n",
              "  </tbody>\n",
              "</table>\n",
              "<p>13782 rows × 1 columns</p>\n",
              "</div>"
            ],
            "text/plain": [
              "          Count\n",
              "Name           \n",
              "Jessica    6951\n",
              "Linda      6759\n",
              "Jennifer   6065\n",
              "Ashley     4979\n",
              "Lisa       4939\n",
              "...         ...\n",
              "Jemimah       5\n",
              "Jema          5\n",
              "Jeilyn        5\n",
              "Shailee       5\n",
              "Greicy        5\n",
              "\n",
              "[13782 rows x 1 columns]"
            ]
          },
          "execution_count": 26,
          "metadata": {},
          "output_type": "execute_result"
        }
      ],
      "source": [
        "# What is the largest single-year count of each name?\n",
        "f_babynames = f_babynames.sort_values(by='Count', ascending= False)\n",
        "grouped_by_name = f_babynames.groupby('Name')[['Count']].max()\n",
        "grouped_by_name.sort_values(by='Count', ascending=False)"
      ]
    },
    {
      "cell_type": "code",
      "execution_count": 27,
      "metadata": {
        "id": "mxMhwEIGtqJ8"
      },
      "outputs": [
        {
          "data": {
            "text/plain": [
              "Year\n",
              "1910         0\n",
              "1911       233\n",
              "1912       484\n",
              "1913    240064\n",
              "1914      1120\n",
              "         ...  \n",
              "2018    221194\n",
              "2019    396004\n",
              "2020    398869\n",
              "2021    401665\n",
              "2022    404545\n",
              "Name: Count, Length: 113, dtype: int64"
            ]
          },
          "execution_count": 27,
          "metadata": {},
          "output_type": "execute_result"
        }
      ],
      "source": [
        "#Can you find the most popular baby name in the state of California (CA) for each year? use idxmax function.\n",
        "#Provide a list of years along with the corresponding most popular names.\"\n",
        "result = babynames.groupby(\"Year\")['Count'].idxmax()\n",
        "result\n",
        "#Answer Here"
      ]
    },
    {
      "cell_type": "markdown",
      "metadata": {
        "id": "xnszvDOfikKt"
      },
      "source": [
        "## Case Study: Name \"Popularity\""
      ]
    },
    {
      "cell_type": "markdown",
      "metadata": {
        "id": "tbOi1sfmikKt"
      },
      "source": [
        "In this exercise, let's find the name with sex \"F\" that has dropped most in popularity since its peak usage. We'll start by filtering `babynames` to only include names corresponding to sex \"F\"."
      ]
    },
    {
      "cell_type": "code",
      "execution_count": 28,
      "metadata": {
        "id": "BIMyQ0W9ikKt"
      },
      "outputs": [],
      "source": [
        "# Extracting the female babyname data\n",
        "f_babynames = babynames[(babynames['Sex'] == 'F')]\n",
        "f_babynames = f_babynames[['Name','Year','Count']].sort_values(by='Year')"
      ]
    },
    {
      "cell_type": "markdown",
      "metadata": {
        "id": "g9qc5bgGikKt"
      },
      "source": [
        "To build our intuition on how to answer our research question, let's visualize the prevalence of the name \"Jennifer\" over time."
      ]
    },
    {
      "cell_type": "code",
      "execution_count": 29,
      "metadata": {
        "id": "FLZPoz0sikKt"
      },
      "outputs": [],
      "source": [
        "# # We'll talk about how to generate plots in a later lecture\n",
        "# fig = px.line(f_babynames[f_babynames[\"Name\"] == \"Jennifer\"],\n",
        "#               x = \"Year\", y = \"Count\")\n",
        "# fig.update_layout(font_size = 18,\n",
        "#                   autosize=False,\n",
        "#                  width=1000,\n",
        "#                   height=400)"
      ]
    },
    {
      "cell_type": "markdown",
      "metadata": {
        "id": "SrSXOygjikKt"
      },
      "source": [
        "We'll need a mathematical definition for the change in popularity of a name.\n",
        "\n",
        "Define the metric \"ratio to peak\" (RTP). We'll calculate this as the count of the name in 2022 (the most recent year for which we have data) divided by the largest count of this name in *any* year.\n",
        "\n",
        "A demo calculation for Jennifer:"
      ]
    },
    {
      "cell_type": "code",
      "execution_count": 30,
      "metadata": {
        "id": "IVsnEdtiikKu"
      },
      "outputs": [
        {
          "data": {
            "text/plain": [
              "6065"
            ]
          },
          "execution_count": 30,
          "metadata": {},
          "output_type": "execute_result"
        }
      ],
      "source": [
        "# Find the highest Jennifer 'count'\n",
        "# f_babynames[f_babynames['Name'] == 'Jennifer']\n",
        "peak_jenn_count = f_babynames[(f_babynames['Name'] == 'Jennifer')]['Count'].max()\n",
        "peak_jenn_count\n"
      ]
    },
    {
      "cell_type": "code",
      "execution_count": 31,
      "metadata": {
        "id": "b9tFhrtYikKu",
        "tags": []
      },
      "outputs": [
        {
          "data": {
            "text/plain": [
              "114"
            ]
          },
          "execution_count": 31,
          "metadata": {},
          "output_type": "execute_result"
        }
      ],
      "source": [
        "# Remember that we sorted f_babynames by year.\n",
        "# This means that grabbing the final entry gives us the most recent count of Jennifers: 114\n",
        "# In 2022, the most recent year for which we have data, 114 Jennifers were born\n",
        "recent_jenn_count = f_babynames[(f_babynames['Name'] == 'Jennifer')]['Count'].iloc[-1]\n",
        "recent_jenn_count"
      ]
    },
    {
      "cell_type": "code",
      "execution_count": 32,
      "metadata": {
        "id": "EPykMViiikKu",
        "tags": []
      },
      "outputs": [
        {
          "data": {
            "text/plain": [
              "0.018796372629843364"
            ]
          },
          "execution_count": 32,
          "metadata": {},
          "output_type": "execute_result"
        }
      ],
      "source": [
        "# Compute the RTP\n",
        "rtp = recent_jenn_count / peak_jenn_count\n",
        "rtp\n"
      ]
    },
    {
      "cell_type": "markdown",
      "metadata": {
        "id": "GzWdNXmiikKu"
      },
      "source": [
        "We can also write a function that produces the `ratio_to_peak`for a given `Series`. This will allow us to use `.groupby` to speed up our computation for all names in the dataset."
      ]
    },
    {
      "cell_type": "code",
      "execution_count": 33,
      "metadata": {
        "id": "kAuuKE8gikKu"
      },
      "outputs": [],
      "source": [
        "# define the function for RTP\n",
        "# \"\"\"\n",
        "# Compute the RTP for a Series containing the counts per year for a single name\n",
        "# \"\"\"\n",
        "def rtp(series):\n",
        "    return series.iloc[-1] / series.max()\n"
      ]
    },
    {
      "cell_type": "code",
      "execution_count": 34,
      "metadata": {
        "id": "-EV_VpRAikKu"
      },
      "outputs": [
        {
          "data": {
            "text/plain": [
              "Year\n",
              "1934    1.0\n",
              "1938    1.0\n",
              "1939    1.0\n",
              "1940    1.0\n",
              "1941    1.0\n",
              "       ... \n",
              "2018    1.0\n",
              "2019    1.0\n",
              "2020    1.0\n",
              "2021    1.0\n",
              "2022    1.0\n",
              "Name: Count, Length: 86, dtype: float64"
            ]
          },
          "execution_count": 34,
          "metadata": {},
          "output_type": "execute_result"
        }
      ],
      "source": [
        "# Construct a Series containing our Jennifer count data\n",
        "jenn_names = f_babynames[(f_babynames['Name'] == 'Jennifer')]\n",
        "\n",
        "# Then, find the RTP using the function define above\n",
        "rtp_series = jenn_names.groupby('Year')['Count'].agg(rtp)\n",
        "rtp_series"
      ]
    },
    {
      "cell_type": "markdown",
      "metadata": {
        "id": "DCLu7luhikKv"
      },
      "source": [
        "Now, let's use `.groupby` to compute the RTPs for *all* names in the dataset.\n",
        "\n",
        "You may see a warning message when running the cell below. As discussed in lecture, `pandas` can't apply an aggregation function to non-numeric data (it doens't make sense to divide \"CA\" by a number). By default, `.groupby` will drop any columns that cannot be aggregated."
      ]
    },
    {
      "cell_type": "code",
      "execution_count": 35,
      "metadata": {
        "id": "Ce_dpVKjbhFv"
      },
      "outputs": [
        {
          "data": {
            "text/html": [
              "<div>\n",
              "<style scoped>\n",
              "    .dataframe tbody tr th:only-of-type {\n",
              "        vertical-align: middle;\n",
              "    }\n",
              "\n",
              "    .dataframe tbody tr th {\n",
              "        vertical-align: top;\n",
              "    }\n",
              "\n",
              "    .dataframe thead th {\n",
              "        text-align: right;\n",
              "    }\n",
              "</style>\n",
              "<table border=\"1\" class=\"dataframe\">\n",
              "  <thead>\n",
              "    <tr style=\"text-align: right;\">\n",
              "      <th></th>\n",
              "      <th>Year</th>\n",
              "      <th>Count</th>\n",
              "    </tr>\n",
              "    <tr>\n",
              "      <th>Name</th>\n",
              "      <th></th>\n",
              "      <th></th>\n",
              "    </tr>\n",
              "  </thead>\n",
              "  <tbody>\n",
              "    <tr>\n",
              "      <th>Aadhini</th>\n",
              "      <td>1.0</td>\n",
              "      <td>1.000000</td>\n",
              "    </tr>\n",
              "    <tr>\n",
              "      <th>Aadhira</th>\n",
              "      <td>1.0</td>\n",
              "      <td>0.500000</td>\n",
              "    </tr>\n",
              "    <tr>\n",
              "      <th>Aadhya</th>\n",
              "      <td>1.0</td>\n",
              "      <td>0.660000</td>\n",
              "    </tr>\n",
              "    <tr>\n",
              "      <th>Aadya</th>\n",
              "      <td>1.0</td>\n",
              "      <td>0.586207</td>\n",
              "    </tr>\n",
              "    <tr>\n",
              "      <th>Aahana</th>\n",
              "      <td>1.0</td>\n",
              "      <td>0.269231</td>\n",
              "    </tr>\n",
              "    <tr>\n",
              "      <th>...</th>\n",
              "      <td>...</td>\n",
              "      <td>...</td>\n",
              "    </tr>\n",
              "    <tr>\n",
              "      <th>Zyanya</th>\n",
              "      <td>1.0</td>\n",
              "      <td>0.466667</td>\n",
              "    </tr>\n",
              "    <tr>\n",
              "      <th>Zyla</th>\n",
              "      <td>1.0</td>\n",
              "      <td>1.000000</td>\n",
              "    </tr>\n",
              "    <tr>\n",
              "      <th>Zylah</th>\n",
              "      <td>1.0</td>\n",
              "      <td>1.000000</td>\n",
              "    </tr>\n",
              "    <tr>\n",
              "      <th>Zyra</th>\n",
              "      <td>1.0</td>\n",
              "      <td>1.000000</td>\n",
              "    </tr>\n",
              "    <tr>\n",
              "      <th>Zyrah</th>\n",
              "      <td>1.0</td>\n",
              "      <td>0.833333</td>\n",
              "    </tr>\n",
              "  </tbody>\n",
              "</table>\n",
              "<p>13782 rows × 2 columns</p>\n",
              "</div>"
            ],
            "text/plain": [
              "         Year     Count\n",
              "Name                   \n",
              "Aadhini   1.0  1.000000\n",
              "Aadhira   1.0  0.500000\n",
              "Aadhya    1.0  0.660000\n",
              "Aadya     1.0  0.586207\n",
              "Aahana    1.0  0.269231\n",
              "...       ...       ...\n",
              "Zyanya    1.0  0.466667\n",
              "Zyla      1.0  1.000000\n",
              "Zylah     1.0  1.000000\n",
              "Zyra      1.0  1.000000\n",
              "Zyrah     1.0  0.833333\n",
              "\n",
              "[13782 rows x 2 columns]"
            ]
          },
          "execution_count": 35,
          "metadata": {},
          "output_type": "execute_result"
        }
      ],
      "source": [
        "# Results in a TypeError\n",
        "rtp_table = f_babynames.groupby(\"Name\").agg(rtp) # count coloumn should be specified here\n",
        "rtp_table"
      ]
    },
    {
      "cell_type": "code",
      "execution_count": 36,
      "metadata": {
        "id": "AUa5jCLFikKv",
        "tags": []
      },
      "outputs": [
        {
          "data": {
            "text/plain": [
              "Name\n",
              "Aadhini    1.000000\n",
              "Aadhira    0.500000\n",
              "Aadhya     0.660000\n",
              "Aadya      0.586207\n",
              "Aahana     0.269231\n",
              "             ...   \n",
              "Zyanya     0.466667\n",
              "Zyla       1.000000\n",
              "Zylah      1.000000\n",
              "Zyra       1.000000\n",
              "Zyrah      0.833333\n",
              "Name: Count, Length: 13782, dtype: float64"
            ]
          },
          "execution_count": 36,
          "metadata": {},
          "output_type": "execute_result"
        }
      ],
      "source": [
        "# Find the RTP fro all names at once using groupby as describe in lec slides\n",
        "rtp_table = f_babynames.groupby(\"Name\")['Count'].agg(rtp)\n",
        "rtp_table"
      ]
    },
    {
      "cell_type": "markdown",
      "metadata": {
        "id": "eghHkFWEikKv"
      },
      "source": [
        "To avoid the warning message above, we explicitly extract only the columns relevant to our analysis before using `.agg`."
      ]
    },
    {
      "cell_type": "code",
      "execution_count": 37,
      "metadata": {
        "id": "2M1wSROKikKv"
      },
      "outputs": [],
      "source": [
        "# Recompute the RTPs, but only performing the calculation on the \"Count\" column\n",
        "rtp_table = f_babynames.groupby(\"Name\")['Count'].agg(rtp)\n",
        "rtp_table = rtp_table.to_frame()"
      ]
    },
    {
      "cell_type": "code",
      "execution_count": 38,
      "metadata": {
        "id": "ZxH-gi2TikKv"
      },
      "outputs": [
        {
          "data": {
            "text/html": [
              "<div>\n",
              "<style scoped>\n",
              "    .dataframe tbody tr th:only-of-type {\n",
              "        vertical-align: middle;\n",
              "    }\n",
              "\n",
              "    .dataframe tbody tr th {\n",
              "        vertical-align: top;\n",
              "    }\n",
              "\n",
              "    .dataframe thead th {\n",
              "        text-align: right;\n",
              "    }\n",
              "</style>\n",
              "<table border=\"1\" class=\"dataframe\">\n",
              "  <thead>\n",
              "    <tr style=\"text-align: right;\">\n",
              "      <th></th>\n",
              "      <th>RTP Count</th>\n",
              "    </tr>\n",
              "    <tr>\n",
              "      <th>Name</th>\n",
              "      <th></th>\n",
              "    </tr>\n",
              "  </thead>\n",
              "  <tbody>\n",
              "    <tr>\n",
              "      <th>Aadhini</th>\n",
              "      <td>1.000000</td>\n",
              "    </tr>\n",
              "    <tr>\n",
              "      <th>Aadhira</th>\n",
              "      <td>0.500000</td>\n",
              "    </tr>\n",
              "    <tr>\n",
              "      <th>Aadhya</th>\n",
              "      <td>0.660000</td>\n",
              "    </tr>\n",
              "    <tr>\n",
              "      <th>Aadya</th>\n",
              "      <td>0.586207</td>\n",
              "    </tr>\n",
              "    <tr>\n",
              "      <th>Aahana</th>\n",
              "      <td>0.269231</td>\n",
              "    </tr>\n",
              "    <tr>\n",
              "      <th>...</th>\n",
              "      <td>...</td>\n",
              "    </tr>\n",
              "    <tr>\n",
              "      <th>Zyanya</th>\n",
              "      <td>0.466667</td>\n",
              "    </tr>\n",
              "    <tr>\n",
              "      <th>Zyla</th>\n",
              "      <td>1.000000</td>\n",
              "    </tr>\n",
              "    <tr>\n",
              "      <th>Zylah</th>\n",
              "      <td>1.000000</td>\n",
              "    </tr>\n",
              "    <tr>\n",
              "      <th>Zyra</th>\n",
              "      <td>1.000000</td>\n",
              "    </tr>\n",
              "    <tr>\n",
              "      <th>Zyrah</th>\n",
              "      <td>0.833333</td>\n",
              "    </tr>\n",
              "  </tbody>\n",
              "</table>\n",
              "<p>13782 rows × 1 columns</p>\n",
              "</div>"
            ],
            "text/plain": [
              "         RTP Count\n",
              "Name              \n",
              "Aadhini   1.000000\n",
              "Aadhira   0.500000\n",
              "Aadhya    0.660000\n",
              "Aadya     0.586207\n",
              "Aahana    0.269231\n",
              "...            ...\n",
              "Zyanya    0.466667\n",
              "Zyla      1.000000\n",
              "Zylah     1.000000\n",
              "Zyra      1.000000\n",
              "Zyrah     0.833333\n",
              "\n",
              "[13782 rows x 1 columns]"
            ]
          },
          "execution_count": 38,
          "metadata": {},
          "output_type": "execute_result"
        }
      ],
      "source": [
        "# Rename \"Count\" to \"Count RTP\" for clarity\n",
        "rtp_table = rtp_table.rename(columns= {'Count' : 'RTP Count'})\n",
        "rtp_table"
      ]
    },
    {
      "cell_type": "code",
      "execution_count": 39,
      "metadata": {},
      "outputs": [
        {
          "data": {
            "text/html": [
              "<div>\n",
              "<style scoped>\n",
              "    .dataframe tbody tr th:only-of-type {\n",
              "        vertical-align: middle;\n",
              "    }\n",
              "\n",
              "    .dataframe tbody tr th {\n",
              "        vertical-align: top;\n",
              "    }\n",
              "\n",
              "    .dataframe thead th {\n",
              "        text-align: right;\n",
              "    }\n",
              "</style>\n",
              "<table border=\"1\" class=\"dataframe\">\n",
              "  <thead>\n",
              "    <tr style=\"text-align: right;\">\n",
              "      <th></th>\n",
              "      <th>Name</th>\n",
              "      <th>RTP Count</th>\n",
              "    </tr>\n",
              "  </thead>\n",
              "  <tbody>\n",
              "    <tr>\n",
              "      <th>0</th>\n",
              "      <td>Debra</td>\n",
              "      <td>0.001260</td>\n",
              "    </tr>\n",
              "    <tr>\n",
              "      <th>1</th>\n",
              "      <td>Debbie</td>\n",
              "      <td>0.002815</td>\n",
              "    </tr>\n",
              "    <tr>\n",
              "      <th>2</th>\n",
              "      <td>Carol</td>\n",
              "      <td>0.003180</td>\n",
              "    </tr>\n",
              "    <tr>\n",
              "      <th>3</th>\n",
              "      <td>Tammy</td>\n",
              "      <td>0.003249</td>\n",
              "    </tr>\n",
              "    <tr>\n",
              "      <th>4</th>\n",
              "      <td>Susan</td>\n",
              "      <td>0.003305</td>\n",
              "    </tr>\n",
              "    <tr>\n",
              "      <th>...</th>\n",
              "      <td>...</td>\n",
              "      <td>...</td>\n",
              "    </tr>\n",
              "    <tr>\n",
              "      <th>13777</th>\n",
              "      <td>Fidelia</td>\n",
              "      <td>1.000000</td>\n",
              "    </tr>\n",
              "    <tr>\n",
              "      <th>13778</th>\n",
              "      <td>Naveyah</td>\n",
              "      <td>1.000000</td>\n",
              "    </tr>\n",
              "    <tr>\n",
              "      <th>13779</th>\n",
              "      <td>Finlee</td>\n",
              "      <td>1.000000</td>\n",
              "    </tr>\n",
              "    <tr>\n",
              "      <th>13780</th>\n",
              "      <td>Roseline</td>\n",
              "      <td>1.000000</td>\n",
              "    </tr>\n",
              "    <tr>\n",
              "      <th>13781</th>\n",
              "      <td>Aadhini</td>\n",
              "      <td>1.000000</td>\n",
              "    </tr>\n",
              "  </tbody>\n",
              "</table>\n",
              "<p>13782 rows × 2 columns</p>\n",
              "</div>"
            ],
            "text/plain": [
              "           Name  RTP Count\n",
              "0         Debra   0.001260\n",
              "1        Debbie   0.002815\n",
              "2         Carol   0.003180\n",
              "3         Tammy   0.003249\n",
              "4         Susan   0.003305\n",
              "...         ...        ...\n",
              "13777   Fidelia   1.000000\n",
              "13778   Naveyah   1.000000\n",
              "13779    Finlee   1.000000\n",
              "13780  Roseline   1.000000\n",
              "13781   Aadhini   1.000000\n",
              "\n",
              "[13782 rows x 2 columns]"
            ]
          },
          "execution_count": 39,
          "metadata": {},
          "output_type": "execute_result"
        }
      ],
      "source": [
        "rtp_table = rtp_table.sort_values(by='RTP Count').reset_index()\n",
        "rtp_table"
      ]
    },
    {
      "cell_type": "code",
      "execution_count": 65,
      "metadata": {
        "id": "t77rHbvjikKv"
      },
      "outputs": [
        {
          "data": {
            "text/plain": [
              "Name           Debra\n",
              "RTP Count    0.00126\n",
              "Name: 0, dtype: object"
            ]
          },
          "execution_count": 65,
          "metadata": {},
          "output_type": "execute_result"
        }
      ],
      "source": [
        "# What name has fallen the most in popularity?\n",
        "# OR    rtp_table[rtp_table['RTP Count'] == rtp_table['RTP Count'].min()]\n",
        "fallen_name = rtp_table.iloc[0]\n",
        "fallen_name"
      ]
    },
    {
      "cell_type": "markdown",
      "metadata": {
        "id": "59cPrjlJikKw"
      },
      "source": [
        "We can visualize the decrease in the popularity of the name \"?:\""
      ]
    },
    {
      "cell_type": "code",
      "execution_count": 66,
      "metadata": {
        "id": "QjkUqYecikKw"
      },
      "outputs": [
        {
          "data": {
            "application/vnd.plotly.v1+json": {
              "config": {
                "plotlyServerURL": "https://plot.ly"
              },
              "data": [
                {
                  "hovertemplate": "Name=Debra<br>Year=%{x}<br>Count=%{y}<extra></extra>",
                  "legendgroup": "Debra",
                  "line": {
                    "color": "#636efa",
                    "dash": "solid"
                  },
                  "marker": {
                    "symbol": "circle"
                  },
                  "mode": "lines",
                  "name": "Debra",
                  "orientation": "v",
                  "showlegend": true,
                  "type": "scatter",
                  "x": [
                    1940,
                    1942,
                    1943,
                    1944,
                    1945,
                    1946,
                    1947,
                    1948,
                    1949,
                    1950,
                    1951,
                    1952,
                    1953,
                    1954,
                    1955,
                    1956,
                    1957,
                    1958,
                    1959,
                    1960,
                    1961,
                    1962,
                    1963,
                    1964,
                    1965,
                    1966,
                    1967,
                    1968,
                    1969,
                    1970,
                    1971,
                    1972,
                    1973,
                    1974,
                    1975,
                    1976,
                    1977,
                    1978,
                    1979,
                    1980,
                    1981,
                    1982,
                    1983,
                    1984,
                    1985,
                    1986,
                    1987,
                    1988,
                    1989,
                    1990,
                    1991,
                    1992,
                    1993,
                    1994,
                    1995,
                    1996,
                    1997,
                    1998,
                    1999,
                    2000,
                    2001,
                    2002,
                    2003,
                    2004,
                    2005,
                    2006,
                    2007,
                    2008,
                    2009,
                    2012,
                    2013,
                    2016
                  ],
                  "xaxis": "x",
                  "y": [
                    7,
                    7,
                    8,
                    15,
                    19,
                    20,
                    56,
                    92,
                    199,
                    601,
                    1510,
                    2351,
                    3295,
                    3784,
                    3969,
                    3755,
                    3318,
                    2660,
                    2290,
                    2014,
                    1647,
                    1592,
                    1430,
                    1287,
                    1154,
                    958,
                    818,
                    748,
                    647,
                    547,
                    463,
                    318,
                    242,
                    236,
                    159,
                    151,
                    151,
                    164,
                    130,
                    141,
                    97,
                    114,
                    97,
                    95,
                    93,
                    64,
                    78,
                    69,
                    71,
                    51,
                    62,
                    41,
                    34,
                    28,
                    28,
                    12,
                    14,
                    16,
                    10,
                    13,
                    14,
                    10,
                    7,
                    12,
                    13,
                    12,
                    13,
                    6,
                    7,
                    5,
                    8,
                    5
                  ],
                  "yaxis": "y"
                }
              ],
              "layout": {
                "autosize": false,
                "font": {
                  "size": 18
                },
                "height": 400,
                "legend": {
                  "title": {
                    "text": "Name"
                  },
                  "tracegroupgap": 0
                },
                "template": {
                  "data": {
                    "bar": [
                      {
                        "error_x": {
                          "color": "#2a3f5f"
                        },
                        "error_y": {
                          "color": "#2a3f5f"
                        },
                        "marker": {
                          "line": {
                            "color": "#E5ECF6",
                            "width": 0.5
                          },
                          "pattern": {
                            "fillmode": "overlay",
                            "size": 10,
                            "solidity": 0.2
                          }
                        },
                        "type": "bar"
                      }
                    ],
                    "barpolar": [
                      {
                        "marker": {
                          "line": {
                            "color": "#E5ECF6",
                            "width": 0.5
                          },
                          "pattern": {
                            "fillmode": "overlay",
                            "size": 10,
                            "solidity": 0.2
                          }
                        },
                        "type": "barpolar"
                      }
                    ],
                    "carpet": [
                      {
                        "aaxis": {
                          "endlinecolor": "#2a3f5f",
                          "gridcolor": "white",
                          "linecolor": "white",
                          "minorgridcolor": "white",
                          "startlinecolor": "#2a3f5f"
                        },
                        "baxis": {
                          "endlinecolor": "#2a3f5f",
                          "gridcolor": "white",
                          "linecolor": "white",
                          "minorgridcolor": "white",
                          "startlinecolor": "#2a3f5f"
                        },
                        "type": "carpet"
                      }
                    ],
                    "choropleth": [
                      {
                        "colorbar": {
                          "outlinewidth": 0,
                          "ticks": ""
                        },
                        "type": "choropleth"
                      }
                    ],
                    "contour": [
                      {
                        "colorbar": {
                          "outlinewidth": 0,
                          "ticks": ""
                        },
                        "colorscale": [
                          [
                            0,
                            "#0d0887"
                          ],
                          [
                            0.1111111111111111,
                            "#46039f"
                          ],
                          [
                            0.2222222222222222,
                            "#7201a8"
                          ],
                          [
                            0.3333333333333333,
                            "#9c179e"
                          ],
                          [
                            0.4444444444444444,
                            "#bd3786"
                          ],
                          [
                            0.5555555555555556,
                            "#d8576b"
                          ],
                          [
                            0.6666666666666666,
                            "#ed7953"
                          ],
                          [
                            0.7777777777777778,
                            "#fb9f3a"
                          ],
                          [
                            0.8888888888888888,
                            "#fdca26"
                          ],
                          [
                            1,
                            "#f0f921"
                          ]
                        ],
                        "type": "contour"
                      }
                    ],
                    "contourcarpet": [
                      {
                        "colorbar": {
                          "outlinewidth": 0,
                          "ticks": ""
                        },
                        "type": "contourcarpet"
                      }
                    ],
                    "heatmap": [
                      {
                        "colorbar": {
                          "outlinewidth": 0,
                          "ticks": ""
                        },
                        "colorscale": [
                          [
                            0,
                            "#0d0887"
                          ],
                          [
                            0.1111111111111111,
                            "#46039f"
                          ],
                          [
                            0.2222222222222222,
                            "#7201a8"
                          ],
                          [
                            0.3333333333333333,
                            "#9c179e"
                          ],
                          [
                            0.4444444444444444,
                            "#bd3786"
                          ],
                          [
                            0.5555555555555556,
                            "#d8576b"
                          ],
                          [
                            0.6666666666666666,
                            "#ed7953"
                          ],
                          [
                            0.7777777777777778,
                            "#fb9f3a"
                          ],
                          [
                            0.8888888888888888,
                            "#fdca26"
                          ],
                          [
                            1,
                            "#f0f921"
                          ]
                        ],
                        "type": "heatmap"
                      }
                    ],
                    "heatmapgl": [
                      {
                        "colorbar": {
                          "outlinewidth": 0,
                          "ticks": ""
                        },
                        "colorscale": [
                          [
                            0,
                            "#0d0887"
                          ],
                          [
                            0.1111111111111111,
                            "#46039f"
                          ],
                          [
                            0.2222222222222222,
                            "#7201a8"
                          ],
                          [
                            0.3333333333333333,
                            "#9c179e"
                          ],
                          [
                            0.4444444444444444,
                            "#bd3786"
                          ],
                          [
                            0.5555555555555556,
                            "#d8576b"
                          ],
                          [
                            0.6666666666666666,
                            "#ed7953"
                          ],
                          [
                            0.7777777777777778,
                            "#fb9f3a"
                          ],
                          [
                            0.8888888888888888,
                            "#fdca26"
                          ],
                          [
                            1,
                            "#f0f921"
                          ]
                        ],
                        "type": "heatmapgl"
                      }
                    ],
                    "histogram": [
                      {
                        "marker": {
                          "pattern": {
                            "fillmode": "overlay",
                            "size": 10,
                            "solidity": 0.2
                          }
                        },
                        "type": "histogram"
                      }
                    ],
                    "histogram2d": [
                      {
                        "colorbar": {
                          "outlinewidth": 0,
                          "ticks": ""
                        },
                        "colorscale": [
                          [
                            0,
                            "#0d0887"
                          ],
                          [
                            0.1111111111111111,
                            "#46039f"
                          ],
                          [
                            0.2222222222222222,
                            "#7201a8"
                          ],
                          [
                            0.3333333333333333,
                            "#9c179e"
                          ],
                          [
                            0.4444444444444444,
                            "#bd3786"
                          ],
                          [
                            0.5555555555555556,
                            "#d8576b"
                          ],
                          [
                            0.6666666666666666,
                            "#ed7953"
                          ],
                          [
                            0.7777777777777778,
                            "#fb9f3a"
                          ],
                          [
                            0.8888888888888888,
                            "#fdca26"
                          ],
                          [
                            1,
                            "#f0f921"
                          ]
                        ],
                        "type": "histogram2d"
                      }
                    ],
                    "histogram2dcontour": [
                      {
                        "colorbar": {
                          "outlinewidth": 0,
                          "ticks": ""
                        },
                        "colorscale": [
                          [
                            0,
                            "#0d0887"
                          ],
                          [
                            0.1111111111111111,
                            "#46039f"
                          ],
                          [
                            0.2222222222222222,
                            "#7201a8"
                          ],
                          [
                            0.3333333333333333,
                            "#9c179e"
                          ],
                          [
                            0.4444444444444444,
                            "#bd3786"
                          ],
                          [
                            0.5555555555555556,
                            "#d8576b"
                          ],
                          [
                            0.6666666666666666,
                            "#ed7953"
                          ],
                          [
                            0.7777777777777778,
                            "#fb9f3a"
                          ],
                          [
                            0.8888888888888888,
                            "#fdca26"
                          ],
                          [
                            1,
                            "#f0f921"
                          ]
                        ],
                        "type": "histogram2dcontour"
                      }
                    ],
                    "mesh3d": [
                      {
                        "colorbar": {
                          "outlinewidth": 0,
                          "ticks": ""
                        },
                        "type": "mesh3d"
                      }
                    ],
                    "parcoords": [
                      {
                        "line": {
                          "colorbar": {
                            "outlinewidth": 0,
                            "ticks": ""
                          }
                        },
                        "type": "parcoords"
                      }
                    ],
                    "pie": [
                      {
                        "automargin": true,
                        "type": "pie"
                      }
                    ],
                    "scatter": [
                      {
                        "fillpattern": {
                          "fillmode": "overlay",
                          "size": 10,
                          "solidity": 0.2
                        },
                        "type": "scatter"
                      }
                    ],
                    "scatter3d": [
                      {
                        "line": {
                          "colorbar": {
                            "outlinewidth": 0,
                            "ticks": ""
                          }
                        },
                        "marker": {
                          "colorbar": {
                            "outlinewidth": 0,
                            "ticks": ""
                          }
                        },
                        "type": "scatter3d"
                      }
                    ],
                    "scattercarpet": [
                      {
                        "marker": {
                          "colorbar": {
                            "outlinewidth": 0,
                            "ticks": ""
                          }
                        },
                        "type": "scattercarpet"
                      }
                    ],
                    "scattergeo": [
                      {
                        "marker": {
                          "colorbar": {
                            "outlinewidth": 0,
                            "ticks": ""
                          }
                        },
                        "type": "scattergeo"
                      }
                    ],
                    "scattergl": [
                      {
                        "marker": {
                          "colorbar": {
                            "outlinewidth": 0,
                            "ticks": ""
                          }
                        },
                        "type": "scattergl"
                      }
                    ],
                    "scattermapbox": [
                      {
                        "marker": {
                          "colorbar": {
                            "outlinewidth": 0,
                            "ticks": ""
                          }
                        },
                        "type": "scattermapbox"
                      }
                    ],
                    "scatterpolar": [
                      {
                        "marker": {
                          "colorbar": {
                            "outlinewidth": 0,
                            "ticks": ""
                          }
                        },
                        "type": "scatterpolar"
                      }
                    ],
                    "scatterpolargl": [
                      {
                        "marker": {
                          "colorbar": {
                            "outlinewidth": 0,
                            "ticks": ""
                          }
                        },
                        "type": "scatterpolargl"
                      }
                    ],
                    "scatterternary": [
                      {
                        "marker": {
                          "colorbar": {
                            "outlinewidth": 0,
                            "ticks": ""
                          }
                        },
                        "type": "scatterternary"
                      }
                    ],
                    "surface": [
                      {
                        "colorbar": {
                          "outlinewidth": 0,
                          "ticks": ""
                        },
                        "colorscale": [
                          [
                            0,
                            "#0d0887"
                          ],
                          [
                            0.1111111111111111,
                            "#46039f"
                          ],
                          [
                            0.2222222222222222,
                            "#7201a8"
                          ],
                          [
                            0.3333333333333333,
                            "#9c179e"
                          ],
                          [
                            0.4444444444444444,
                            "#bd3786"
                          ],
                          [
                            0.5555555555555556,
                            "#d8576b"
                          ],
                          [
                            0.6666666666666666,
                            "#ed7953"
                          ],
                          [
                            0.7777777777777778,
                            "#fb9f3a"
                          ],
                          [
                            0.8888888888888888,
                            "#fdca26"
                          ],
                          [
                            1,
                            "#f0f921"
                          ]
                        ],
                        "type": "surface"
                      }
                    ],
                    "table": [
                      {
                        "cells": {
                          "fill": {
                            "color": "#EBF0F8"
                          },
                          "line": {
                            "color": "white"
                          }
                        },
                        "header": {
                          "fill": {
                            "color": "#C8D4E3"
                          },
                          "line": {
                            "color": "white"
                          }
                        },
                        "type": "table"
                      }
                    ]
                  },
                  "layout": {
                    "annotationdefaults": {
                      "arrowcolor": "#2a3f5f",
                      "arrowhead": 0,
                      "arrowwidth": 1
                    },
                    "autotypenumbers": "strict",
                    "coloraxis": {
                      "colorbar": {
                        "outlinewidth": 0,
                        "ticks": ""
                      }
                    },
                    "colorscale": {
                      "diverging": [
                        [
                          0,
                          "#8e0152"
                        ],
                        [
                          0.1,
                          "#c51b7d"
                        ],
                        [
                          0.2,
                          "#de77ae"
                        ],
                        [
                          0.3,
                          "#f1b6da"
                        ],
                        [
                          0.4,
                          "#fde0ef"
                        ],
                        [
                          0.5,
                          "#f7f7f7"
                        ],
                        [
                          0.6,
                          "#e6f5d0"
                        ],
                        [
                          0.7,
                          "#b8e186"
                        ],
                        [
                          0.8,
                          "#7fbc41"
                        ],
                        [
                          0.9,
                          "#4d9221"
                        ],
                        [
                          1,
                          "#276419"
                        ]
                      ],
                      "sequential": [
                        [
                          0,
                          "#0d0887"
                        ],
                        [
                          0.1111111111111111,
                          "#46039f"
                        ],
                        [
                          0.2222222222222222,
                          "#7201a8"
                        ],
                        [
                          0.3333333333333333,
                          "#9c179e"
                        ],
                        [
                          0.4444444444444444,
                          "#bd3786"
                        ],
                        [
                          0.5555555555555556,
                          "#d8576b"
                        ],
                        [
                          0.6666666666666666,
                          "#ed7953"
                        ],
                        [
                          0.7777777777777778,
                          "#fb9f3a"
                        ],
                        [
                          0.8888888888888888,
                          "#fdca26"
                        ],
                        [
                          1,
                          "#f0f921"
                        ]
                      ],
                      "sequentialminus": [
                        [
                          0,
                          "#0d0887"
                        ],
                        [
                          0.1111111111111111,
                          "#46039f"
                        ],
                        [
                          0.2222222222222222,
                          "#7201a8"
                        ],
                        [
                          0.3333333333333333,
                          "#9c179e"
                        ],
                        [
                          0.4444444444444444,
                          "#bd3786"
                        ],
                        [
                          0.5555555555555556,
                          "#d8576b"
                        ],
                        [
                          0.6666666666666666,
                          "#ed7953"
                        ],
                        [
                          0.7777777777777778,
                          "#fb9f3a"
                        ],
                        [
                          0.8888888888888888,
                          "#fdca26"
                        ],
                        [
                          1,
                          "#f0f921"
                        ]
                      ]
                    },
                    "colorway": [
                      "#636efa",
                      "#EF553B",
                      "#00cc96",
                      "#ab63fa",
                      "#FFA15A",
                      "#19d3f3",
                      "#FF6692",
                      "#B6E880",
                      "#FF97FF",
                      "#FECB52"
                    ],
                    "font": {
                      "color": "#2a3f5f"
                    },
                    "geo": {
                      "bgcolor": "white",
                      "lakecolor": "white",
                      "landcolor": "#E5ECF6",
                      "showlakes": true,
                      "showland": true,
                      "subunitcolor": "white"
                    },
                    "hoverlabel": {
                      "align": "left"
                    },
                    "hovermode": "closest",
                    "mapbox": {
                      "style": "light"
                    },
                    "paper_bgcolor": "white",
                    "plot_bgcolor": "#E5ECF6",
                    "polar": {
                      "angularaxis": {
                        "gridcolor": "white",
                        "linecolor": "white",
                        "ticks": ""
                      },
                      "bgcolor": "#E5ECF6",
                      "radialaxis": {
                        "gridcolor": "white",
                        "linecolor": "white",
                        "ticks": ""
                      }
                    },
                    "scene": {
                      "xaxis": {
                        "backgroundcolor": "#E5ECF6",
                        "gridcolor": "white",
                        "gridwidth": 2,
                        "linecolor": "white",
                        "showbackground": true,
                        "ticks": "",
                        "zerolinecolor": "white"
                      },
                      "yaxis": {
                        "backgroundcolor": "#E5ECF6",
                        "gridcolor": "white",
                        "gridwidth": 2,
                        "linecolor": "white",
                        "showbackground": true,
                        "ticks": "",
                        "zerolinecolor": "white"
                      },
                      "zaxis": {
                        "backgroundcolor": "#E5ECF6",
                        "gridcolor": "white",
                        "gridwidth": 2,
                        "linecolor": "white",
                        "showbackground": true,
                        "ticks": "",
                        "zerolinecolor": "white"
                      }
                    },
                    "shapedefaults": {
                      "line": {
                        "color": "#2a3f5f"
                      }
                    },
                    "ternary": {
                      "aaxis": {
                        "gridcolor": "white",
                        "linecolor": "white",
                        "ticks": ""
                      },
                      "baxis": {
                        "gridcolor": "white",
                        "linecolor": "white",
                        "ticks": ""
                      },
                      "bgcolor": "#E5ECF6",
                      "caxis": {
                        "gridcolor": "white",
                        "linecolor": "white",
                        "ticks": ""
                      }
                    },
                    "title": {
                      "x": 0.05
                    },
                    "xaxis": {
                      "automargin": true,
                      "gridcolor": "white",
                      "linecolor": "white",
                      "ticks": "",
                      "title": {
                        "standoff": 15
                      },
                      "zerolinecolor": "white",
                      "zerolinewidth": 2
                    },
                    "yaxis": {
                      "automargin": true,
                      "gridcolor": "white",
                      "linecolor": "white",
                      "ticks": "",
                      "title": {
                        "standoff": 15
                      },
                      "zerolinecolor": "white",
                      "zerolinewidth": 2
                    }
                  }
                },
                "title": {
                  "text": "Popularity for: Name           Debra\nRTP Count    0.00126\nName: 0, dtype: object"
                },
                "width": 1000,
                "xaxis": {
                  "anchor": "y",
                  "domain": [
                    0,
                    1
                  ],
                  "title": {
                    "text": "Year"
                  }
                },
                "yaxis": {
                  "anchor": "x",
                  "domain": [
                    0,
                    1
                  ],
                  "title": {
                    "text": "Count"
                  }
                }
              }
            }
          },
          "metadata": {},
          "output_type": "display_data"
        }
      ],
      "source": [
        "def plot_name(names):\n",
        "    fig = px.line(f_babynames[f_babynames[\"Name\"].isin(names)],\n",
        "                  x = \"Year\", y = \"Count\", color=\"Name\",\n",
        "                  title=f\"Popularity for: {names}\")\n",
        "    fig.update_layout(font_size = 18,\n",
        "                  autosize=False,\n",
        "                  width=1000,\n",
        "                  height=400)\n",
        "    return fig\n",
        "\n",
        "# pass the name into plot_name\n",
        "plot_name(fallen_name)"
      ]
    },
    {
      "cell_type": "code",
      "execution_count": 67,
      "metadata": {
        "id": "xlCnd6ZRikKw"
      },
      "outputs": [
        {
          "data": {
            "text/plain": [
              "0      Debra\n",
              "1     Debbie\n",
              "2      Carol\n",
              "3      Tammy\n",
              "4      Susan\n",
              "5     Cheryl\n",
              "6    Shannon\n",
              "7       Tina\n",
              "8    Michele\n",
              "9      Terri\n",
              "Name: Name, dtype: object"
            ]
          },
          "execution_count": 67,
          "metadata": {},
          "output_type": "execute_result"
        }
      ],
      "source": [
        "# Find the 10 names that have decreased the most in popularity\n",
        "top10 = rtp_table.head(10)\n",
        "top10 = top10['Name']\n",
        "top10"
      ]
    },
    {
      "cell_type": "code",
      "execution_count": 68,
      "metadata": {
        "id": "JGpQ_fpLikKw"
      },
      "outputs": [
        {
          "data": {
            "application/vnd.plotly.v1+json": {
              "config": {
                "plotlyServerURL": "https://plot.ly"
              },
              "data": [
                {
                  "hovertemplate": "Name=Carol<br>Year=%{x}<br>Count=%{y}<extra></extra>",
                  "legendgroup": "Carol",
                  "line": {
                    "color": "#636efa",
                    "dash": "solid"
                  },
                  "marker": {
                    "symbol": "circle"
                  },
                  "mode": "lines",
                  "name": "Carol",
                  "orientation": "v",
                  "showlegend": true,
                  "type": "scatter",
                  "x": [
                    1910,
                    1911,
                    1912,
                    1913,
                    1914,
                    1915,
                    1916,
                    1917,
                    1918,
                    1919,
                    1920,
                    1921,
                    1922,
                    1923,
                    1924,
                    1925,
                    1926,
                    1927,
                    1928,
                    1929,
                    1930,
                    1931,
                    1932,
                    1933,
                    1934,
                    1935,
                    1936,
                    1937,
                    1938,
                    1939,
                    1940,
                    1941,
                    1942,
                    1943,
                    1944,
                    1945,
                    1946,
                    1947,
                    1948,
                    1949,
                    1950,
                    1951,
                    1952,
                    1953,
                    1954,
                    1955,
                    1956,
                    1957,
                    1958,
                    1959,
                    1960,
                    1961,
                    1962,
                    1963,
                    1964,
                    1965,
                    1966,
                    1967,
                    1968,
                    1969,
                    1970,
                    1971,
                    1972,
                    1973,
                    1974,
                    1975,
                    1976,
                    1977,
                    1978,
                    1979,
                    1980,
                    1981,
                    1982,
                    1983,
                    1984,
                    1985,
                    1986,
                    1987,
                    1988,
                    1989,
                    1990,
                    1991,
                    1992,
                    1993,
                    1994,
                    1995,
                    1996,
                    1997,
                    1998,
                    1999,
                    2000,
                    2001,
                    2002,
                    2003,
                    2004,
                    2005,
                    2006,
                    2007,
                    2008,
                    2009,
                    2010,
                    2011,
                    2012,
                    2013,
                    2014,
                    2015,
                    2016,
                    2017,
                    2018,
                    2019,
                    2020,
                    2021,
                    2022
                  ],
                  "xaxis": "x",
                  "y": [
                    8,
                    13,
                    17,
                    16,
                    26,
                    38,
                    59,
                    47,
                    55,
                    48,
                    64,
                    67,
                    74,
                    94,
                    138,
                    153,
                    151,
                    148,
                    193,
                    279,
                    270,
                    297,
                    367,
                    453,
                    559,
                    669,
                    873,
                    1015,
                    1050,
                    1109,
                    1079,
                    1339,
                    1672,
                    1937,
                    2089,
                    2138,
                    2152,
                    2201,
                    1954,
                    1779,
                    1737,
                    1734,
                    1727,
                    1597,
                    1684,
                    1651,
                    1704,
                    1703,
                    1545,
                    1480,
                    1359,
                    1283,
                    1191,
                    993,
                    1034,
                    815,
                    622,
                    577,
                    543,
                    468,
                    366,
                    267,
                    223,
                    187,
                    173,
                    146,
                    145,
                    145,
                    121,
                    132,
                    123,
                    128,
                    106,
                    114,
                    111,
                    101,
                    120,
                    107,
                    108,
                    134,
                    150,
                    136,
                    129,
                    89,
                    92,
                    75,
                    87,
                    64,
                    61,
                    46,
                    64,
                    33,
                    43,
                    47,
                    52,
                    76,
                    62,
                    38,
                    44,
                    26,
                    17,
                    47,
                    31,
                    36,
                    24,
                    13,
                    25,
                    18,
                    29,
                    20,
                    17,
                    8,
                    7
                  ],
                  "yaxis": "y"
                },
                {
                  "hovertemplate": "Name=Susan<br>Year=%{x}<br>Count=%{y}<extra></extra>",
                  "legendgroup": "Susan",
                  "line": {
                    "color": "#EF553B",
                    "dash": "solid"
                  },
                  "marker": {
                    "symbol": "circle"
                  },
                  "mode": "lines",
                  "name": "Susan",
                  "orientation": "v",
                  "showlegend": true,
                  "type": "scatter",
                  "x": [
                    1911,
                    1912,
                    1913,
                    1914,
                    1915,
                    1916,
                    1917,
                    1918,
                    1919,
                    1920,
                    1921,
                    1922,
                    1923,
                    1924,
                    1925,
                    1926,
                    1927,
                    1928,
                    1929,
                    1930,
                    1931,
                    1932,
                    1933,
                    1934,
                    1935,
                    1936,
                    1937,
                    1938,
                    1939,
                    1940,
                    1941,
                    1942,
                    1943,
                    1944,
                    1945,
                    1946,
                    1947,
                    1948,
                    1949,
                    1950,
                    1951,
                    1952,
                    1953,
                    1954,
                    1955,
                    1956,
                    1957,
                    1958,
                    1959,
                    1960,
                    1961,
                    1962,
                    1963,
                    1964,
                    1965,
                    1966,
                    1967,
                    1968,
                    1969,
                    1970,
                    1971,
                    1972,
                    1973,
                    1974,
                    1975,
                    1976,
                    1977,
                    1978,
                    1979,
                    1980,
                    1981,
                    1982,
                    1983,
                    1984,
                    1985,
                    1986,
                    1987,
                    1988,
                    1989,
                    1990,
                    1991,
                    1992,
                    1993,
                    1994,
                    1995,
                    1996,
                    1997,
                    1998,
                    1999,
                    2000,
                    2001,
                    2002,
                    2003,
                    2004,
                    2005,
                    2006,
                    2007,
                    2008,
                    2009,
                    2010,
                    2011,
                    2012,
                    2013,
                    2014,
                    2015,
                    2016,
                    2017,
                    2018,
                    2019,
                    2020,
                    2021,
                    2022
                  ],
                  "xaxis": "x",
                  "y": [
                    6,
                    8,
                    8,
                    10,
                    16,
                    17,
                    15,
                    20,
                    22,
                    21,
                    19,
                    15,
                    22,
                    26,
                    32,
                    29,
                    43,
                    25,
                    37,
                    63,
                    47,
                    63,
                    74,
                    101,
                    118,
                    138,
                    183,
                    271,
                    433,
                    630,
                    795,
                    1058,
                    1380,
                    1596,
                    1991,
                    2689,
                    2831,
                    3338,
                    3180,
                    3260,
                    3346,
                    3424,
                    3753,
                    3934,
                    3900,
                    3771,
                    3631,
                    3504,
                    3123,
                    3145,
                    3135,
                    2952,
                    2839,
                    2535,
                    2008,
                    1825,
                    1644,
                    1367,
                    1232,
                    1070,
                    861,
                    651,
                    530,
                    552,
                    496,
                    456,
                    437,
                    424,
                    409,
                    420,
                    361,
                    391,
                    352,
                    338,
                    273,
                    280,
                    272,
                    286,
                    267,
                    272,
                    260,
                    196,
                    202,
                    172,
                    152,
                    152,
                    114,
                    116,
                    103,
                    100,
                    104,
                    85,
                    76,
                    70,
                    71,
                    74,
                    53,
                    56,
                    41,
                    39,
                    43,
                    28,
                    44,
                    26,
                    45,
                    22,
                    26,
                    22,
                    19,
                    17,
                    8,
                    13
                  ],
                  "yaxis": "y"
                },
                {
                  "hovertemplate": "Name=Tina<br>Year=%{x}<br>Count=%{y}<extra></extra>",
                  "legendgroup": "Tina",
                  "line": {
                    "color": "#00cc96",
                    "dash": "solid"
                  },
                  "marker": {
                    "symbol": "circle"
                  },
                  "mode": "lines",
                  "name": "Tina",
                  "orientation": "v",
                  "showlegend": true,
                  "type": "scatter",
                  "x": [
                    1915,
                    1916,
                    1917,
                    1918,
                    1920,
                    1921,
                    1922,
                    1924,
                    1925,
                    1927,
                    1928,
                    1929,
                    1930,
                    1937,
                    1938,
                    1939,
                    1940,
                    1941,
                    1942,
                    1943,
                    1944,
                    1945,
                    1946,
                    1947,
                    1948,
                    1949,
                    1950,
                    1951,
                    1952,
                    1953,
                    1954,
                    1955,
                    1956,
                    1957,
                    1958,
                    1959,
                    1960,
                    1961,
                    1962,
                    1963,
                    1964,
                    1965,
                    1966,
                    1967,
                    1968,
                    1969,
                    1970,
                    1971,
                    1972,
                    1973,
                    1974,
                    1975,
                    1976,
                    1977,
                    1978,
                    1979,
                    1980,
                    1981,
                    1982,
                    1983,
                    1984,
                    1985,
                    1986,
                    1987,
                    1988,
                    1989,
                    1990,
                    1991,
                    1992,
                    1993,
                    1994,
                    1995,
                    1996,
                    1997,
                    1998,
                    1999,
                    2000,
                    2001,
                    2002,
                    2003,
                    2004,
                    2005,
                    2006,
                    2007,
                    2008,
                    2009,
                    2010,
                    2011,
                    2012,
                    2013,
                    2014,
                    2015,
                    2016,
                    2017,
                    2018,
                    2019,
                    2020,
                    2021,
                    2022
                  ],
                  "xaxis": "x",
                  "y": [
                    5,
                    6,
                    5,
                    5,
                    5,
                    7,
                    5,
                    9,
                    5,
                    8,
                    8,
                    5,
                    10,
                    10,
                    7,
                    8,
                    12,
                    9,
                    28,
                    45,
                    43,
                    53,
                    64,
                    80,
                    80,
                    88,
                    92,
                    128,
                    168,
                    163,
                    177,
                    366,
                    569,
                    569,
                    700,
                    753,
                    889,
                    1045,
                    1228,
                    1212,
                    1129,
                    1202,
                    1282,
                    1342,
                    1402,
                    1302,
                    1248,
                    1091,
                    941,
                    634,
                    642,
                    546,
                    450,
                    370,
                    414,
                    363,
                    335,
                    371,
                    310,
                    268,
                    271,
                    310,
                    238,
                    252,
                    252,
                    208,
                    180,
                    196,
                    163,
                    171,
                    147,
                    121,
                    111,
                    91,
                    80,
                    83,
                    90,
                    80,
                    67,
                    64,
                    63,
                    69,
                    36,
                    37,
                    47,
                    39,
                    39,
                    27,
                    39,
                    28,
                    46,
                    38,
                    33,
                    36,
                    26,
                    21,
                    15,
                    13,
                    6
                  ],
                  "yaxis": "y"
                },
                {
                  "hovertemplate": "Name=Cheryl<br>Year=%{x}<br>Count=%{y}<extra></extra>",
                  "legendgroup": "Cheryl",
                  "line": {
                    "color": "#ab63fa",
                    "dash": "solid"
                  },
                  "marker": {
                    "symbol": "circle"
                  },
                  "mode": "lines",
                  "name": "Cheryl",
                  "orientation": "v",
                  "showlegend": true,
                  "type": "scatter",
                  "x": [
                    1930,
                    1934,
                    1935,
                    1936,
                    1937,
                    1938,
                    1939,
                    1940,
                    1941,
                    1942,
                    1943,
                    1944,
                    1945,
                    1946,
                    1947,
                    1948,
                    1949,
                    1950,
                    1951,
                    1952,
                    1953,
                    1954,
                    1955,
                    1956,
                    1957,
                    1958,
                    1959,
                    1960,
                    1961,
                    1962,
                    1963,
                    1964,
                    1965,
                    1966,
                    1967,
                    1968,
                    1969,
                    1970,
                    1971,
                    1972,
                    1973,
                    1974,
                    1975,
                    1976,
                    1977,
                    1978,
                    1979,
                    1980,
                    1981,
                    1982,
                    1983,
                    1984,
                    1985,
                    1986,
                    1987,
                    1988,
                    1989,
                    1990,
                    1991,
                    1992,
                    1993,
                    1994,
                    1995,
                    1996,
                    1997,
                    1998,
                    1999,
                    2000,
                    2001,
                    2002,
                    2003,
                    2004,
                    2005,
                    2006,
                    2007,
                    2008,
                    2011,
                    2012,
                    2013,
                    2014,
                    2015,
                    2016,
                    2017,
                    2018,
                    2019,
                    2021,
                    2022
                  ],
                  "xaxis": "x",
                  "y": [
                    6,
                    8,
                    12,
                    10,
                    16,
                    76,
                    49,
                    42,
                    48,
                    87,
                    377,
                    759,
                    801,
                    1063,
                    1093,
                    1021,
                    916,
                    903,
                    993,
                    955,
                    1058,
                    1465,
                    1639,
                    1715,
                    1833,
                    1832,
                    1639,
                    1624,
                    1565,
                    1420,
                    1295,
                    1207,
                    1051,
                    950,
                    899,
                    751,
                    635,
                    550,
                    428,
                    371,
                    293,
                    271,
                    236,
                    199,
                    178,
                    303,
                    299,
                    272,
                    204,
                    229,
                    164,
                    135,
                    129,
                    130,
                    98,
                    106,
                    88,
                    90,
                    65,
                    55,
                    39,
                    47,
                    38,
                    30,
                    30,
                    19,
                    22,
                    24,
                    14,
                    11,
                    16,
                    17,
                    16,
                    13,
                    21,
                    14,
                    11,
                    15,
                    12,
                    10,
                    12,
                    15,
                    8,
                    10,
                    9,
                    6,
                    7
                  ],
                  "yaxis": "y"
                },
                {
                  "hovertemplate": "Name=Debbie<br>Year=%{x}<br>Count=%{y}<extra></extra>",
                  "legendgroup": "Debbie",
                  "line": {
                    "color": "#FFA15A",
                    "dash": "solid"
                  },
                  "marker": {
                    "symbol": "circle"
                  },
                  "mode": "lines",
                  "name": "Debbie",
                  "orientation": "v",
                  "showlegend": true,
                  "type": "scatter",
                  "x": [
                    1936,
                    1941,
                    1942,
                    1943,
                    1944,
                    1945,
                    1946,
                    1947,
                    1948,
                    1949,
                    1950,
                    1951,
                    1952,
                    1953,
                    1954,
                    1955,
                    1956,
                    1957,
                    1958,
                    1959,
                    1960,
                    1961,
                    1962,
                    1963,
                    1964,
                    1965,
                    1966,
                    1967,
                    1968,
                    1969,
                    1970,
                    1971,
                    1972,
                    1973,
                    1974,
                    1975,
                    1976,
                    1977,
                    1978,
                    1979,
                    1980,
                    1981,
                    1982,
                    1983,
                    1984,
                    1985,
                    1986,
                    1987,
                    1988,
                    1989,
                    1990,
                    1991,
                    1992,
                    1993,
                    1994,
                    1995,
                    1996,
                    1997,
                    1998,
                    1999,
                    2000,
                    2001,
                    2002,
                    2003,
                    2004,
                    2005,
                    2006,
                    2007,
                    2008,
                    2009,
                    2010,
                    2011,
                    2014,
                    2015,
                    2016,
                    2017,
                    2021
                  ],
                  "xaxis": "x",
                  "y": [
                    5,
                    9,
                    9,
                    10,
                    16,
                    11,
                    32,
                    74,
                    91,
                    115,
                    120,
                    191,
                    233,
                    300,
                    427,
                    697,
                    902,
                    1313,
                    1656,
                    1776,
                    1675,
                    1547,
                    1458,
                    1215,
                    1004,
                    648,
                    504,
                    415,
                    338,
                    279,
                    243,
                    192,
                    145,
                    108,
                    108,
                    92,
                    72,
                    64,
                    87,
                    91,
                    81,
                    65,
                    79,
                    67,
                    74,
                    64,
                    56,
                    71,
                    78,
                    93,
                    85,
                    78,
                    50,
                    61,
                    70,
                    53,
                    46,
                    39,
                    22,
                    28,
                    19,
                    11,
                    16,
                    14,
                    13,
                    8,
                    21,
                    10,
                    11,
                    10,
                    12,
                    8,
                    9,
                    6,
                    5,
                    5,
                    5
                  ],
                  "yaxis": "y"
                },
                {
                  "hovertemplate": "Name=Michele<br>Year=%{x}<br>Count=%{y}<extra></extra>",
                  "legendgroup": "Michele",
                  "line": {
                    "color": "#19d3f3",
                    "dash": "solid"
                  },
                  "marker": {
                    "symbol": "circle"
                  },
                  "mode": "lines",
                  "name": "Michele",
                  "orientation": "v",
                  "showlegend": true,
                  "type": "scatter",
                  "x": [
                    1936,
                    1937,
                    1938,
                    1939,
                    1940,
                    1941,
                    1942,
                    1943,
                    1944,
                    1945,
                    1946,
                    1947,
                    1948,
                    1949,
                    1950,
                    1951,
                    1952,
                    1953,
                    1954,
                    1955,
                    1956,
                    1957,
                    1958,
                    1959,
                    1960,
                    1961,
                    1962,
                    1963,
                    1964,
                    1965,
                    1966,
                    1967,
                    1968,
                    1969,
                    1970,
                    1971,
                    1972,
                    1973,
                    1974,
                    1975,
                    1976,
                    1977,
                    1978,
                    1979,
                    1980,
                    1981,
                    1982,
                    1983,
                    1984,
                    1985,
                    1986,
                    1987,
                    1988,
                    1989,
                    1990,
                    1991,
                    1992,
                    1993,
                    1994,
                    1995,
                    1996,
                    1997,
                    1998,
                    1999,
                    2000,
                    2001,
                    2002,
                    2003,
                    2004,
                    2005,
                    2006,
                    2007,
                    2008,
                    2009,
                    2010,
                    2011,
                    2012,
                    2013,
                    2014,
                    2015,
                    2022
                  ],
                  "xaxis": "x",
                  "y": [
                    7,
                    8,
                    5,
                    8,
                    18,
                    34,
                    113,
                    132,
                    166,
                    171,
                    172,
                    253,
                    213,
                    335,
                    295,
                    306,
                    401,
                    421,
                    500,
                    498,
                    464,
                    454,
                    470,
                    506,
                    576,
                    763,
                    766,
                    775,
                    768,
                    796,
                    1037,
                    1033,
                    1111,
                    1016,
                    973,
                    700,
                    702,
                    571,
                    494,
                    484,
                    437,
                    390,
                    381,
                    305,
                    281,
                    223,
                    230,
                    227,
                    200,
                    162,
                    206,
                    146,
                    143,
                    164,
                    137,
                    142,
                    125,
                    104,
                    82,
                    65,
                    52,
                    47,
                    45,
                    38,
                    28,
                    37,
                    27,
                    22,
                    28,
                    16,
                    21,
                    15,
                    15,
                    11,
                    14,
                    7,
                    5,
                    10,
                    6,
                    11,
                    5
                  ],
                  "yaxis": "y"
                },
                {
                  "hovertemplate": "Name=Shannon<br>Year=%{x}<br>Count=%{y}<extra></extra>",
                  "legendgroup": "Shannon",
                  "line": {
                    "color": "#FF6692",
                    "dash": "solid"
                  },
                  "marker": {
                    "symbol": "circle"
                  },
                  "mode": "lines",
                  "name": "Shannon",
                  "orientation": "v",
                  "showlegend": true,
                  "type": "scatter",
                  "x": [
                    1938,
                    1939,
                    1940,
                    1942,
                    1943,
                    1944,
                    1945,
                    1946,
                    1947,
                    1948,
                    1949,
                    1950,
                    1951,
                    1952,
                    1953,
                    1954,
                    1955,
                    1956,
                    1957,
                    1958,
                    1959,
                    1960,
                    1961,
                    1962,
                    1963,
                    1964,
                    1965,
                    1966,
                    1967,
                    1968,
                    1969,
                    1970,
                    1971,
                    1972,
                    1973,
                    1974,
                    1975,
                    1976,
                    1977,
                    1978,
                    1979,
                    1980,
                    1981,
                    1982,
                    1983,
                    1984,
                    1985,
                    1986,
                    1987,
                    1988,
                    1989,
                    1990,
                    1991,
                    1992,
                    1993,
                    1994,
                    1995,
                    1996,
                    1997,
                    1998,
                    1999,
                    2000,
                    2001,
                    2002,
                    2003,
                    2004,
                    2005,
                    2006,
                    2007,
                    2008,
                    2009,
                    2010,
                    2011,
                    2012,
                    2013,
                    2014,
                    2015,
                    2016,
                    2017,
                    2018,
                    2019,
                    2020,
                    2021,
                    2022
                  ],
                  "xaxis": "x",
                  "y": [
                    6,
                    9,
                    6,
                    10,
                    14,
                    19,
                    25,
                    16,
                    34,
                    23,
                    34,
                    43,
                    51,
                    59,
                    73,
                    83,
                    111,
                    106,
                    126,
                    129,
                    161,
                    145,
                    206,
                    216,
                    305,
                    409,
                    441,
                    516,
                    587,
                    932,
                    1419,
                    1650,
                    1436,
                    1198,
                    1090,
                    1127,
                    982,
                    1218,
                    1136,
                    1052,
                    991,
                    923,
                    968,
                    969,
                    971,
                    945,
                    872,
                    803,
                    699,
                    642,
                    597,
                    527,
                    493,
                    594,
                    615,
                    531,
                    438,
                    428,
                    366,
                    303,
                    217,
                    199,
                    200,
                    165,
                    133,
                    133,
                    110,
                    90,
                    88,
                    63,
                    42,
                    43,
                    37,
                    41,
                    32,
                    19,
                    31,
                    22,
                    17,
                    14,
                    21,
                    8,
                    8,
                    7
                  ],
                  "yaxis": "y"
                },
                {
                  "hovertemplate": "Name=Terri<br>Year=%{x}<br>Count=%{y}<extra></extra>",
                  "legendgroup": "Terri",
                  "line": {
                    "color": "#B6E880",
                    "dash": "solid"
                  },
                  "marker": {
                    "symbol": "circle"
                  },
                  "mode": "lines",
                  "name": "Terri",
                  "orientation": "v",
                  "showlegend": true,
                  "type": "scatter",
                  "x": [
                    1938,
                    1940,
                    1941,
                    1942,
                    1943,
                    1944,
                    1945,
                    1946,
                    1947,
                    1948,
                    1949,
                    1950,
                    1951,
                    1952,
                    1953,
                    1954,
                    1955,
                    1956,
                    1957,
                    1958,
                    1959,
                    1960,
                    1961,
                    1962,
                    1963,
                    1964,
                    1965,
                    1966,
                    1967,
                    1968,
                    1969,
                    1970,
                    1971,
                    1972,
                    1973,
                    1974,
                    1975,
                    1976,
                    1977,
                    1978,
                    1979,
                    1980,
                    1981,
                    1982,
                    1983,
                    1984,
                    1985,
                    1986,
                    1987,
                    1988,
                    1989,
                    1990,
                    1991,
                    1992,
                    1993,
                    1994,
                    1995,
                    1996,
                    1997,
                    1998,
                    1999,
                    2000,
                    2001,
                    2002,
                    2004,
                    2005,
                    2006,
                    2016,
                    2021,
                    2022
                  ],
                  "xaxis": "x",
                  "y": [
                    6,
                    8,
                    12,
                    26,
                    32,
                    38,
                    65,
                    99,
                    130,
                    132,
                    168,
                    154,
                    236,
                    306,
                    379,
                    542,
                    604,
                    685,
                    839,
                    875,
                    1052,
                    964,
                    937,
                    902,
                    826,
                    737,
                    486,
                    448,
                    398,
                    323,
                    312,
                    263,
                    191,
                    153,
                    120,
                    106,
                    81,
                    59,
                    84,
                    57,
                    44,
                    49,
                    47,
                    53,
                    44,
                    36,
                    37,
                    35,
                    32,
                    34,
                    20,
                    26,
                    29,
                    15,
                    19,
                    22,
                    11,
                    15,
                    12,
                    13,
                    11,
                    14,
                    9,
                    7,
                    6,
                    7,
                    5,
                    5,
                    5,
                    5
                  ],
                  "yaxis": "y"
                },
                {
                  "hovertemplate": "Name=Debra<br>Year=%{x}<br>Count=%{y}<extra></extra>",
                  "legendgroup": "Debra",
                  "line": {
                    "color": "#FF97FF",
                    "dash": "solid"
                  },
                  "marker": {
                    "symbol": "circle"
                  },
                  "mode": "lines",
                  "name": "Debra",
                  "orientation": "v",
                  "showlegend": true,
                  "type": "scatter",
                  "x": [
                    1940,
                    1942,
                    1943,
                    1944,
                    1945,
                    1946,
                    1947,
                    1948,
                    1949,
                    1950,
                    1951,
                    1952,
                    1953,
                    1954,
                    1955,
                    1956,
                    1957,
                    1958,
                    1959,
                    1960,
                    1961,
                    1962,
                    1963,
                    1964,
                    1965,
                    1966,
                    1967,
                    1968,
                    1969,
                    1970,
                    1971,
                    1972,
                    1973,
                    1974,
                    1975,
                    1976,
                    1977,
                    1978,
                    1979,
                    1980,
                    1981,
                    1982,
                    1983,
                    1984,
                    1985,
                    1986,
                    1987,
                    1988,
                    1989,
                    1990,
                    1991,
                    1992,
                    1993,
                    1994,
                    1995,
                    1996,
                    1997,
                    1998,
                    1999,
                    2000,
                    2001,
                    2002,
                    2003,
                    2004,
                    2005,
                    2006,
                    2007,
                    2008,
                    2009,
                    2012,
                    2013,
                    2016
                  ],
                  "xaxis": "x",
                  "y": [
                    7,
                    7,
                    8,
                    15,
                    19,
                    20,
                    56,
                    92,
                    199,
                    601,
                    1510,
                    2351,
                    3295,
                    3784,
                    3969,
                    3755,
                    3318,
                    2660,
                    2290,
                    2014,
                    1647,
                    1592,
                    1430,
                    1287,
                    1154,
                    958,
                    818,
                    748,
                    647,
                    547,
                    463,
                    318,
                    242,
                    236,
                    159,
                    151,
                    151,
                    164,
                    130,
                    141,
                    97,
                    114,
                    97,
                    95,
                    93,
                    64,
                    78,
                    69,
                    71,
                    51,
                    62,
                    41,
                    34,
                    28,
                    28,
                    12,
                    14,
                    16,
                    10,
                    13,
                    14,
                    10,
                    7,
                    12,
                    13,
                    12,
                    13,
                    6,
                    7,
                    5,
                    8,
                    5
                  ],
                  "yaxis": "y"
                },
                {
                  "hovertemplate": "Name=Tammy<br>Year=%{x}<br>Count=%{y}<extra></extra>",
                  "legendgroup": "Tammy",
                  "line": {
                    "color": "#FECB52",
                    "dash": "solid"
                  },
                  "marker": {
                    "symbol": "circle"
                  },
                  "mode": "lines",
                  "name": "Tammy",
                  "orientation": "v",
                  "showlegend": true,
                  "type": "scatter",
                  "x": [
                    1943,
                    1944,
                    1945,
                    1946,
                    1947,
                    1948,
                    1949,
                    1950,
                    1951,
                    1952,
                    1953,
                    1954,
                    1955,
                    1956,
                    1957,
                    1958,
                    1959,
                    1960,
                    1961,
                    1962,
                    1963,
                    1964,
                    1965,
                    1966,
                    1967,
                    1968,
                    1969,
                    1970,
                    1971,
                    1972,
                    1973,
                    1974,
                    1975,
                    1976,
                    1977,
                    1978,
                    1979,
                    1980,
                    1981,
                    1982,
                    1983,
                    1984,
                    1985,
                    1986,
                    1987,
                    1988,
                    1989,
                    1990,
                    1991,
                    1992,
                    1993,
                    1994,
                    1995,
                    1996,
                    1997,
                    1998,
                    1999,
                    2000,
                    2001,
                    2002,
                    2003,
                    2004,
                    2005,
                    2006,
                    2007,
                    2008,
                    2009,
                    2010,
                    2011,
                    2012,
                    2013,
                    2014,
                    2015,
                    2016,
                    2017,
                    2019,
                    2022
                  ],
                  "xaxis": "x",
                  "y": [
                    7,
                    5,
                    10,
                    9,
                    12,
                    13,
                    10,
                    9,
                    9,
                    13,
                    28,
                    14,
                    26,
                    37,
                    368,
                    746,
                    990,
                    1038,
                    1136,
                    1223,
                    1539,
                    1273,
                    1219,
                    1168,
                    1143,
                    1099,
                    977,
                    1013,
                    859,
                    704,
                    544,
                    421,
                    392,
                    328,
                    275,
                    229,
                    227,
                    181,
                    168,
                    157,
                    96,
                    120,
                    102,
                    85,
                    120,
                    88,
                    85,
                    94,
                    77,
                    82,
                    74,
                    61,
                    49,
                    45,
                    45,
                    54,
                    50,
                    47,
                    49,
                    45,
                    44,
                    36,
                    30,
                    24,
                    29,
                    14,
                    16,
                    12,
                    11,
                    9,
                    5,
                    13,
                    9,
                    15,
                    11,
                    7,
                    5
                  ],
                  "yaxis": "y"
                }
              ],
              "layout": {
                "autosize": false,
                "font": {
                  "size": 18
                },
                "height": 400,
                "legend": {
                  "title": {
                    "text": "Name"
                  },
                  "tracegroupgap": 0
                },
                "template": {
                  "data": {
                    "bar": [
                      {
                        "error_x": {
                          "color": "#2a3f5f"
                        },
                        "error_y": {
                          "color": "#2a3f5f"
                        },
                        "marker": {
                          "line": {
                            "color": "#E5ECF6",
                            "width": 0.5
                          },
                          "pattern": {
                            "fillmode": "overlay",
                            "size": 10,
                            "solidity": 0.2
                          }
                        },
                        "type": "bar"
                      }
                    ],
                    "barpolar": [
                      {
                        "marker": {
                          "line": {
                            "color": "#E5ECF6",
                            "width": 0.5
                          },
                          "pattern": {
                            "fillmode": "overlay",
                            "size": 10,
                            "solidity": 0.2
                          }
                        },
                        "type": "barpolar"
                      }
                    ],
                    "carpet": [
                      {
                        "aaxis": {
                          "endlinecolor": "#2a3f5f",
                          "gridcolor": "white",
                          "linecolor": "white",
                          "minorgridcolor": "white",
                          "startlinecolor": "#2a3f5f"
                        },
                        "baxis": {
                          "endlinecolor": "#2a3f5f",
                          "gridcolor": "white",
                          "linecolor": "white",
                          "minorgridcolor": "white",
                          "startlinecolor": "#2a3f5f"
                        },
                        "type": "carpet"
                      }
                    ],
                    "choropleth": [
                      {
                        "colorbar": {
                          "outlinewidth": 0,
                          "ticks": ""
                        },
                        "type": "choropleth"
                      }
                    ],
                    "contour": [
                      {
                        "colorbar": {
                          "outlinewidth": 0,
                          "ticks": ""
                        },
                        "colorscale": [
                          [
                            0,
                            "#0d0887"
                          ],
                          [
                            0.1111111111111111,
                            "#46039f"
                          ],
                          [
                            0.2222222222222222,
                            "#7201a8"
                          ],
                          [
                            0.3333333333333333,
                            "#9c179e"
                          ],
                          [
                            0.4444444444444444,
                            "#bd3786"
                          ],
                          [
                            0.5555555555555556,
                            "#d8576b"
                          ],
                          [
                            0.6666666666666666,
                            "#ed7953"
                          ],
                          [
                            0.7777777777777778,
                            "#fb9f3a"
                          ],
                          [
                            0.8888888888888888,
                            "#fdca26"
                          ],
                          [
                            1,
                            "#f0f921"
                          ]
                        ],
                        "type": "contour"
                      }
                    ],
                    "contourcarpet": [
                      {
                        "colorbar": {
                          "outlinewidth": 0,
                          "ticks": ""
                        },
                        "type": "contourcarpet"
                      }
                    ],
                    "heatmap": [
                      {
                        "colorbar": {
                          "outlinewidth": 0,
                          "ticks": ""
                        },
                        "colorscale": [
                          [
                            0,
                            "#0d0887"
                          ],
                          [
                            0.1111111111111111,
                            "#46039f"
                          ],
                          [
                            0.2222222222222222,
                            "#7201a8"
                          ],
                          [
                            0.3333333333333333,
                            "#9c179e"
                          ],
                          [
                            0.4444444444444444,
                            "#bd3786"
                          ],
                          [
                            0.5555555555555556,
                            "#d8576b"
                          ],
                          [
                            0.6666666666666666,
                            "#ed7953"
                          ],
                          [
                            0.7777777777777778,
                            "#fb9f3a"
                          ],
                          [
                            0.8888888888888888,
                            "#fdca26"
                          ],
                          [
                            1,
                            "#f0f921"
                          ]
                        ],
                        "type": "heatmap"
                      }
                    ],
                    "heatmapgl": [
                      {
                        "colorbar": {
                          "outlinewidth": 0,
                          "ticks": ""
                        },
                        "colorscale": [
                          [
                            0,
                            "#0d0887"
                          ],
                          [
                            0.1111111111111111,
                            "#46039f"
                          ],
                          [
                            0.2222222222222222,
                            "#7201a8"
                          ],
                          [
                            0.3333333333333333,
                            "#9c179e"
                          ],
                          [
                            0.4444444444444444,
                            "#bd3786"
                          ],
                          [
                            0.5555555555555556,
                            "#d8576b"
                          ],
                          [
                            0.6666666666666666,
                            "#ed7953"
                          ],
                          [
                            0.7777777777777778,
                            "#fb9f3a"
                          ],
                          [
                            0.8888888888888888,
                            "#fdca26"
                          ],
                          [
                            1,
                            "#f0f921"
                          ]
                        ],
                        "type": "heatmapgl"
                      }
                    ],
                    "histogram": [
                      {
                        "marker": {
                          "pattern": {
                            "fillmode": "overlay",
                            "size": 10,
                            "solidity": 0.2
                          }
                        },
                        "type": "histogram"
                      }
                    ],
                    "histogram2d": [
                      {
                        "colorbar": {
                          "outlinewidth": 0,
                          "ticks": ""
                        },
                        "colorscale": [
                          [
                            0,
                            "#0d0887"
                          ],
                          [
                            0.1111111111111111,
                            "#46039f"
                          ],
                          [
                            0.2222222222222222,
                            "#7201a8"
                          ],
                          [
                            0.3333333333333333,
                            "#9c179e"
                          ],
                          [
                            0.4444444444444444,
                            "#bd3786"
                          ],
                          [
                            0.5555555555555556,
                            "#d8576b"
                          ],
                          [
                            0.6666666666666666,
                            "#ed7953"
                          ],
                          [
                            0.7777777777777778,
                            "#fb9f3a"
                          ],
                          [
                            0.8888888888888888,
                            "#fdca26"
                          ],
                          [
                            1,
                            "#f0f921"
                          ]
                        ],
                        "type": "histogram2d"
                      }
                    ],
                    "histogram2dcontour": [
                      {
                        "colorbar": {
                          "outlinewidth": 0,
                          "ticks": ""
                        },
                        "colorscale": [
                          [
                            0,
                            "#0d0887"
                          ],
                          [
                            0.1111111111111111,
                            "#46039f"
                          ],
                          [
                            0.2222222222222222,
                            "#7201a8"
                          ],
                          [
                            0.3333333333333333,
                            "#9c179e"
                          ],
                          [
                            0.4444444444444444,
                            "#bd3786"
                          ],
                          [
                            0.5555555555555556,
                            "#d8576b"
                          ],
                          [
                            0.6666666666666666,
                            "#ed7953"
                          ],
                          [
                            0.7777777777777778,
                            "#fb9f3a"
                          ],
                          [
                            0.8888888888888888,
                            "#fdca26"
                          ],
                          [
                            1,
                            "#f0f921"
                          ]
                        ],
                        "type": "histogram2dcontour"
                      }
                    ],
                    "mesh3d": [
                      {
                        "colorbar": {
                          "outlinewidth": 0,
                          "ticks": ""
                        },
                        "type": "mesh3d"
                      }
                    ],
                    "parcoords": [
                      {
                        "line": {
                          "colorbar": {
                            "outlinewidth": 0,
                            "ticks": ""
                          }
                        },
                        "type": "parcoords"
                      }
                    ],
                    "pie": [
                      {
                        "automargin": true,
                        "type": "pie"
                      }
                    ],
                    "scatter": [
                      {
                        "fillpattern": {
                          "fillmode": "overlay",
                          "size": 10,
                          "solidity": 0.2
                        },
                        "type": "scatter"
                      }
                    ],
                    "scatter3d": [
                      {
                        "line": {
                          "colorbar": {
                            "outlinewidth": 0,
                            "ticks": ""
                          }
                        },
                        "marker": {
                          "colorbar": {
                            "outlinewidth": 0,
                            "ticks": ""
                          }
                        },
                        "type": "scatter3d"
                      }
                    ],
                    "scattercarpet": [
                      {
                        "marker": {
                          "colorbar": {
                            "outlinewidth": 0,
                            "ticks": ""
                          }
                        },
                        "type": "scattercarpet"
                      }
                    ],
                    "scattergeo": [
                      {
                        "marker": {
                          "colorbar": {
                            "outlinewidth": 0,
                            "ticks": ""
                          }
                        },
                        "type": "scattergeo"
                      }
                    ],
                    "scattergl": [
                      {
                        "marker": {
                          "colorbar": {
                            "outlinewidth": 0,
                            "ticks": ""
                          }
                        },
                        "type": "scattergl"
                      }
                    ],
                    "scattermapbox": [
                      {
                        "marker": {
                          "colorbar": {
                            "outlinewidth": 0,
                            "ticks": ""
                          }
                        },
                        "type": "scattermapbox"
                      }
                    ],
                    "scatterpolar": [
                      {
                        "marker": {
                          "colorbar": {
                            "outlinewidth": 0,
                            "ticks": ""
                          }
                        },
                        "type": "scatterpolar"
                      }
                    ],
                    "scatterpolargl": [
                      {
                        "marker": {
                          "colorbar": {
                            "outlinewidth": 0,
                            "ticks": ""
                          }
                        },
                        "type": "scatterpolargl"
                      }
                    ],
                    "scatterternary": [
                      {
                        "marker": {
                          "colorbar": {
                            "outlinewidth": 0,
                            "ticks": ""
                          }
                        },
                        "type": "scatterternary"
                      }
                    ],
                    "surface": [
                      {
                        "colorbar": {
                          "outlinewidth": 0,
                          "ticks": ""
                        },
                        "colorscale": [
                          [
                            0,
                            "#0d0887"
                          ],
                          [
                            0.1111111111111111,
                            "#46039f"
                          ],
                          [
                            0.2222222222222222,
                            "#7201a8"
                          ],
                          [
                            0.3333333333333333,
                            "#9c179e"
                          ],
                          [
                            0.4444444444444444,
                            "#bd3786"
                          ],
                          [
                            0.5555555555555556,
                            "#d8576b"
                          ],
                          [
                            0.6666666666666666,
                            "#ed7953"
                          ],
                          [
                            0.7777777777777778,
                            "#fb9f3a"
                          ],
                          [
                            0.8888888888888888,
                            "#fdca26"
                          ],
                          [
                            1,
                            "#f0f921"
                          ]
                        ],
                        "type": "surface"
                      }
                    ],
                    "table": [
                      {
                        "cells": {
                          "fill": {
                            "color": "#EBF0F8"
                          },
                          "line": {
                            "color": "white"
                          }
                        },
                        "header": {
                          "fill": {
                            "color": "#C8D4E3"
                          },
                          "line": {
                            "color": "white"
                          }
                        },
                        "type": "table"
                      }
                    ]
                  },
                  "layout": {
                    "annotationdefaults": {
                      "arrowcolor": "#2a3f5f",
                      "arrowhead": 0,
                      "arrowwidth": 1
                    },
                    "autotypenumbers": "strict",
                    "coloraxis": {
                      "colorbar": {
                        "outlinewidth": 0,
                        "ticks": ""
                      }
                    },
                    "colorscale": {
                      "diverging": [
                        [
                          0,
                          "#8e0152"
                        ],
                        [
                          0.1,
                          "#c51b7d"
                        ],
                        [
                          0.2,
                          "#de77ae"
                        ],
                        [
                          0.3,
                          "#f1b6da"
                        ],
                        [
                          0.4,
                          "#fde0ef"
                        ],
                        [
                          0.5,
                          "#f7f7f7"
                        ],
                        [
                          0.6,
                          "#e6f5d0"
                        ],
                        [
                          0.7,
                          "#b8e186"
                        ],
                        [
                          0.8,
                          "#7fbc41"
                        ],
                        [
                          0.9,
                          "#4d9221"
                        ],
                        [
                          1,
                          "#276419"
                        ]
                      ],
                      "sequential": [
                        [
                          0,
                          "#0d0887"
                        ],
                        [
                          0.1111111111111111,
                          "#46039f"
                        ],
                        [
                          0.2222222222222222,
                          "#7201a8"
                        ],
                        [
                          0.3333333333333333,
                          "#9c179e"
                        ],
                        [
                          0.4444444444444444,
                          "#bd3786"
                        ],
                        [
                          0.5555555555555556,
                          "#d8576b"
                        ],
                        [
                          0.6666666666666666,
                          "#ed7953"
                        ],
                        [
                          0.7777777777777778,
                          "#fb9f3a"
                        ],
                        [
                          0.8888888888888888,
                          "#fdca26"
                        ],
                        [
                          1,
                          "#f0f921"
                        ]
                      ],
                      "sequentialminus": [
                        [
                          0,
                          "#0d0887"
                        ],
                        [
                          0.1111111111111111,
                          "#46039f"
                        ],
                        [
                          0.2222222222222222,
                          "#7201a8"
                        ],
                        [
                          0.3333333333333333,
                          "#9c179e"
                        ],
                        [
                          0.4444444444444444,
                          "#bd3786"
                        ],
                        [
                          0.5555555555555556,
                          "#d8576b"
                        ],
                        [
                          0.6666666666666666,
                          "#ed7953"
                        ],
                        [
                          0.7777777777777778,
                          "#fb9f3a"
                        ],
                        [
                          0.8888888888888888,
                          "#fdca26"
                        ],
                        [
                          1,
                          "#f0f921"
                        ]
                      ]
                    },
                    "colorway": [
                      "#636efa",
                      "#EF553B",
                      "#00cc96",
                      "#ab63fa",
                      "#FFA15A",
                      "#19d3f3",
                      "#FF6692",
                      "#B6E880",
                      "#FF97FF",
                      "#FECB52"
                    ],
                    "font": {
                      "color": "#2a3f5f"
                    },
                    "geo": {
                      "bgcolor": "white",
                      "lakecolor": "white",
                      "landcolor": "#E5ECF6",
                      "showlakes": true,
                      "showland": true,
                      "subunitcolor": "white"
                    },
                    "hoverlabel": {
                      "align": "left"
                    },
                    "hovermode": "closest",
                    "mapbox": {
                      "style": "light"
                    },
                    "paper_bgcolor": "white",
                    "plot_bgcolor": "#E5ECF6",
                    "polar": {
                      "angularaxis": {
                        "gridcolor": "white",
                        "linecolor": "white",
                        "ticks": ""
                      },
                      "bgcolor": "#E5ECF6",
                      "radialaxis": {
                        "gridcolor": "white",
                        "linecolor": "white",
                        "ticks": ""
                      }
                    },
                    "scene": {
                      "xaxis": {
                        "backgroundcolor": "#E5ECF6",
                        "gridcolor": "white",
                        "gridwidth": 2,
                        "linecolor": "white",
                        "showbackground": true,
                        "ticks": "",
                        "zerolinecolor": "white"
                      },
                      "yaxis": {
                        "backgroundcolor": "#E5ECF6",
                        "gridcolor": "white",
                        "gridwidth": 2,
                        "linecolor": "white",
                        "showbackground": true,
                        "ticks": "",
                        "zerolinecolor": "white"
                      },
                      "zaxis": {
                        "backgroundcolor": "#E5ECF6",
                        "gridcolor": "white",
                        "gridwidth": 2,
                        "linecolor": "white",
                        "showbackground": true,
                        "ticks": "",
                        "zerolinecolor": "white"
                      }
                    },
                    "shapedefaults": {
                      "line": {
                        "color": "#2a3f5f"
                      }
                    },
                    "ternary": {
                      "aaxis": {
                        "gridcolor": "white",
                        "linecolor": "white",
                        "ticks": ""
                      },
                      "baxis": {
                        "gridcolor": "white",
                        "linecolor": "white",
                        "ticks": ""
                      },
                      "bgcolor": "#E5ECF6",
                      "caxis": {
                        "gridcolor": "white",
                        "linecolor": "white",
                        "ticks": ""
                      }
                    },
                    "title": {
                      "x": 0.05
                    },
                    "xaxis": {
                      "automargin": true,
                      "gridcolor": "white",
                      "linecolor": "white",
                      "ticks": "",
                      "title": {
                        "standoff": 15
                      },
                      "zerolinecolor": "white",
                      "zerolinewidth": 2
                    },
                    "yaxis": {
                      "automargin": true,
                      "gridcolor": "white",
                      "linecolor": "white",
                      "ticks": "",
                      "title": {
                        "standoff": 15
                      },
                      "zerolinecolor": "white",
                      "zerolinewidth": 2
                    }
                  }
                },
                "title": {
                  "text": "Popularity for: 0      Debra\n1     Debbie\n2      Carol\n3      Tammy\n4      Susan\n5     Cheryl\n6    Shannon\n7       Tina\n8    Michele\n9      Terri\nName: Name, dtype: object"
                },
                "width": 1000,
                "xaxis": {
                  "anchor": "y",
                  "domain": [
                    0,
                    1
                  ],
                  "title": {
                    "text": "Year"
                  }
                },
                "yaxis": {
                  "anchor": "x",
                  "domain": [
                    0,
                    1
                  ],
                  "title": {
                    "text": "Count"
                  }
                }
              }
            }
          },
          "metadata": {},
          "output_type": "display_data"
        }
      ],
      "source": [
        "plot_name(top10)"
      ]
    },
    {
      "cell_type": "markdown",
      "metadata": {
        "id": "xpTKbYENikKw"
      },
      "source": [
        "For fun, try plotting your name or your friends' names."
      ]
    }
  ],
  "metadata": {
    "colab": {
      "provenance": []
    },
    "kernelspec": {
      "display_name": "Python 3 (ipykernel)",
      "language": "python",
      "name": "python3"
    },
    "language_info": {
      "codemirror_mode": {
        "name": "ipython",
        "version": 3
      },
      "file_extension": ".py",
      "mimetype": "text/x-python",
      "name": "python",
      "nbconvert_exporter": "python",
      "pygments_lexer": "ipython3",
      "version": "3.12.1"
    }
  },
  "nbformat": 4,
  "nbformat_minor": 0
}

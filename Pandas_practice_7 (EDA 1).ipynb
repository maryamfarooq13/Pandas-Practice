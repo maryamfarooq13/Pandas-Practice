{
  "cells": [
    {
      "cell_type": "markdown",
      "metadata": {
        "id": "2PtM2eH8DZiX"
      },
      "source": [
        "# Lecture 07\n",
        "\n",
        "Your are provided data of a company and its employess in Json formate.\n",
        "You need to perform EDA and solve the problems listed down."
      ]
    },
    {
      "cell_type": "code",
      "execution_count": 264,
      "metadata": {
        "id": "5ywZGhGIDxBt"
      },
      "outputs": [],
      "source": [
        "# Load Libraries\n",
        "import pandas as pd\n",
        "import json"
      ]
    },
    {
      "cell_type": "markdown",
      "metadata": {
        "id": "5b1RG3I5D1cE"
      },
      "source": [
        "**Question 1:**\n",
        "\n",
        "Retrieve and display the company's name and location from the JSON data."
      ]
    },
    {
      "cell_type": "code",
      "execution_count": 265,
      "metadata": {
        "id": "d0fHGFRCD-Kq"
      },
      "outputs": [
        {
          "data": {
            "text/plain": [
              "dict_keys(['metadata', 'employees', 'departments', 'company_info', 'office_locations', 'benefits'])"
            ]
          },
          "execution_count": 265,
          "metadata": {},
          "output_type": "execute_result"
        }
      ],
      "source": [
        "with open('datafiles/employee_company_data.json') as file:\n",
        "    employee_company_data = json.load(file)\n",
        "\n",
        "employee_company_data.keys()"
      ]
    },
    {
      "cell_type": "code",
      "execution_count": 266,
      "metadata": {},
      "outputs": [
        {
          "data": {
            "text/plain": [
              "'Comapany name is TechCorp and location is San Francisco, CA'"
            ]
          },
          "execution_count": 266,
          "metadata": {},
          "output_type": "execute_result"
        }
      ],
      "source": [
        "employee_company_data['company_info'].keys()\n",
        "company_name = employee_company_data['company_info']['name']\n",
        "company_location = employee_company_data['company_info']['location']\n",
        "\n",
        "f'Comapany name is {company_name} and location is {company_location}'"
      ]
    },
    {
      "cell_type": "markdown",
      "metadata": {
        "id": "yypx_Ds5J7kt"
      },
      "source": [
        "Convert given employees data into a dataframe."
      ]
    },
    {
      "cell_type": "code",
      "execution_count": 267,
      "metadata": {},
      "outputs": [
        {
          "data": {
            "text/html": [
              "<div>\n",
              "<style scoped>\n",
              "    .dataframe tbody tr th:only-of-type {\n",
              "        vertical-align: middle;\n",
              "    }\n",
              "\n",
              "    .dataframe tbody tr th {\n",
              "        vertical-align: top;\n",
              "    }\n",
              "\n",
              "    .dataframe thead th {\n",
              "        text-align: right;\n",
              "    }\n",
              "</style>\n",
              "<table border=\"1\" class=\"dataframe\">\n",
              "  <thead>\n",
              "    <tr style=\"text-align: right;\">\n",
              "      <th></th>\n",
              "      <th>id</th>\n",
              "      <th>firstName</th>\n",
              "      <th>lastName</th>\n",
              "      <th>position</th>\n",
              "      <th>salary</th>\n",
              "      <th>email</th>\n",
              "      <th>hireDate</th>\n",
              "      <th>manager</th>\n",
              "      <th>address</th>\n",
              "    </tr>\n",
              "  </thead>\n",
              "  <tbody>\n",
              "    <tr>\n",
              "      <th>0</th>\n",
              "      <td>1</td>\n",
              "      <td>John</td>\n",
              "      <td>Doe</td>\n",
              "      <td>Software Engineer</td>\n",
              "      <td>75000</td>\n",
              "      <td>john.doe@techcorp.com</td>\n",
              "      <td>2020-05-15</td>\n",
              "      <td>Michael Brown</td>\n",
              "      <td>{'street': '123 Main St', 'city': 'San Francis...</td>\n",
              "    </tr>\n",
              "    <tr>\n",
              "      <th>1</th>\n",
              "      <td>2</td>\n",
              "      <td>Alice</td>\n",
              "      <td>Smith</td>\n",
              "      <td>Data Analyst</td>\n",
              "      <td>60000</td>\n",
              "      <td>alice.smith@techcorp.com</td>\n",
              "      <td>2019-08-22</td>\n",
              "      <td>Michael Brown</td>\n",
              "      <td>{'street': '456 Elm St', 'city': 'San Francisc...</td>\n",
              "    </tr>\n",
              "    <tr>\n",
              "      <th>2</th>\n",
              "      <td>3</td>\n",
              "      <td>Bob</td>\n",
              "      <td>Johnson</td>\n",
              "      <td>Product Manager</td>\n",
              "      <td>85000</td>\n",
              "      <td>bob.johnson@techcorp.com</td>\n",
              "      <td>2018-03-10</td>\n",
              "      <td>Sarah Williams</td>\n",
              "      <td>{'street': '789 Oak St', 'city': 'San Francisc...</td>\n",
              "    </tr>\n",
              "    <tr>\n",
              "      <th>3</th>\n",
              "      <td>4</td>\n",
              "      <td>Emily</td>\n",
              "      <td>Wilson</td>\n",
              "      <td>UX Designer</td>\n",
              "      <td>70000</td>\n",
              "      <td>emily.wilson@techcorp.com</td>\n",
              "      <td>2021-02-28</td>\n",
              "      <td>Sarah Williams</td>\n",
              "      <td>{'street': '101 Pine St', 'city': 'San Francis...</td>\n",
              "    </tr>\n",
              "  </tbody>\n",
              "</table>\n",
              "</div>"
            ],
            "text/plain": [
              "   id firstName lastName           position  salary  \\\n",
              "0   1      John      Doe  Software Engineer   75000   \n",
              "1   2     Alice    Smith       Data Analyst   60000   \n",
              "2   3       Bob  Johnson    Product Manager   85000   \n",
              "3   4     Emily   Wilson        UX Designer   70000   \n",
              "\n",
              "                       email    hireDate         manager  \\\n",
              "0      john.doe@techcorp.com  2020-05-15   Michael Brown   \n",
              "1   alice.smith@techcorp.com  2019-08-22   Michael Brown   \n",
              "2   bob.johnson@techcorp.com  2018-03-10  Sarah Williams   \n",
              "3  emily.wilson@techcorp.com  2021-02-28  Sarah Williams   \n",
              "\n",
              "                                             address  \n",
              "0  {'street': '123 Main St', 'city': 'San Francis...  \n",
              "1  {'street': '456 Elm St', 'city': 'San Francisc...  \n",
              "2  {'street': '789 Oak St', 'city': 'San Francisc...  \n",
              "3  {'street': '101 Pine St', 'city': 'San Francis...  "
            ]
          },
          "execution_count": 267,
          "metadata": {},
          "output_type": "execute_result"
        }
      ],
      "source": [
        "employees_df = pd.DataFrame(employee_company_data['employees'])\n",
        "employees_df"
      ]
    },
    {
      "cell_type": "markdown",
      "metadata": {
        "id": "XVDdCE9oD_lJ"
      },
      "source": [
        "**Question 2:**\n",
        "\n",
        " Find and display the first name, last name, and email address of the employee with ID 3.\n"
      ]
    },
    {
      "cell_type": "code",
      "execution_count": 268,
      "metadata": {},
      "outputs": [
        {
          "name": "stdout",
          "output_type": "stream",
          "text": [
            "<class 'pandas.core.frame.DataFrame'>\n",
            "RangeIndex: 4 entries, 0 to 3\n",
            "Data columns (total 9 columns):\n",
            " #   Column     Non-Null Count  Dtype \n",
            "---  ------     --------------  ----- \n",
            " 0   id         4 non-null      int64 \n",
            " 1   firstName  4 non-null      object\n",
            " 2   lastName   4 non-null      object\n",
            " 3   position   4 non-null      object\n",
            " 4   salary     4 non-null      int64 \n",
            " 5   email      4 non-null      object\n",
            " 6   hireDate   4 non-null      object\n",
            " 7   manager    4 non-null      object\n",
            " 8   address    4 non-null      object\n",
            "dtypes: int64(2), object(7)\n",
            "memory usage: 420.0+ bytes\n"
          ]
        }
      ],
      "source": [
        "employees_df.info()"
      ]
    },
    {
      "cell_type": "code",
      "execution_count": 269,
      "metadata": {
        "id": "yDo74tyYEIlx"
      },
      "outputs": [
        {
          "data": {
            "text/html": [
              "<div>\n",
              "<style scoped>\n",
              "    .dataframe tbody tr th:only-of-type {\n",
              "        vertical-align: middle;\n",
              "    }\n",
              "\n",
              "    .dataframe tbody tr th {\n",
              "        vertical-align: top;\n",
              "    }\n",
              "\n",
              "    .dataframe thead th {\n",
              "        text-align: right;\n",
              "    }\n",
              "</style>\n",
              "<table border=\"1\" class=\"dataframe\">\n",
              "  <thead>\n",
              "    <tr style=\"text-align: right;\">\n",
              "      <th></th>\n",
              "      <th>id</th>\n",
              "      <th>firstName</th>\n",
              "      <th>lastName</th>\n",
              "      <th>email</th>\n",
              "    </tr>\n",
              "  </thead>\n",
              "  <tbody>\n",
              "    <tr>\n",
              "      <th>2</th>\n",
              "      <td>3</td>\n",
              "      <td>Bob</td>\n",
              "      <td>Johnson</td>\n",
              "      <td>bob.johnson@techcorp.com</td>\n",
              "    </tr>\n",
              "  </tbody>\n",
              "</table>\n",
              "</div>"
            ],
            "text/plain": [
              "   id firstName lastName                     email\n",
              "2   3       Bob  Johnson  bob.johnson@techcorp.com"
            ]
          },
          "execution_count": 269,
          "metadata": {},
          "output_type": "execute_result"
        }
      ],
      "source": [
        "employees_df[(employees_df['id']== 3)].iloc[:,[0,1,2,5]]"
      ]
    },
    {
      "cell_type": "markdown",
      "metadata": {
        "id": "Jui5-2CsEK4B"
      },
      "source": [
        "**Question 3:**\n",
        "\n",
        "Find the department with the most employees, and display its name along with the number of employees it has."
      ]
    },
    {
      "cell_type": "code",
      "execution_count": 270,
      "metadata": {},
      "outputs": [
        {
          "name": "stdout",
          "output_type": "stream",
          "text": [
            "Engineering and Product management departments have maximum employees\n"
          ]
        }
      ],
      "source": [
        "employee_company_data['departments']\n",
        "print('Engineering and Product management departments have maximum employees')"
      ]
    },
    {
      "cell_type": "code",
      "execution_count": 271,
      "metadata": {},
      "outputs": [
        {
          "data": {
            "text/plain": [
              "'both of departments have 2 number of employees'"
            ]
          },
          "execution_count": 271,
          "metadata": {},
          "output_type": "execute_result"
        }
      ],
      "source": [
        "engg = employee_company_data['departments']['engineering']\n",
        "prod_mang = employee_company_data['departments']['product_management']\n",
        "f'both of departments have {len(engg)} number of employees'"
      ]
    },
    {
      "cell_type": "markdown",
      "metadata": {
        "id": "E90nhwtTF9Ng"
      },
      "source": [
        "**Question 4:**\n",
        "\n",
        "Retrieve and display the street addresses of the \"san_francisco_hq\" and \"new_york_branch\" office locations."
      ]
    },
    {
      "cell_type": "code",
      "execution_count": 272,
      "metadata": {
        "id": "oGesYRSuHCM1"
      },
      "outputs": [
        {
          "data": {
            "text/plain": [
              "dict_keys(['san_francisco_hq', 'new_york_branch'])"
            ]
          },
          "execution_count": 272,
          "metadata": {},
          "output_type": "execute_result"
        }
      ],
      "source": [
        "employee_company_data['office_locations'].keys()"
      ]
    },
    {
      "cell_type": "code",
      "execution_count": 273,
      "metadata": {},
      "outputs": [
        {
          "data": {
            "text/plain": [
              "'Street adress of San Francisco HQ is \"500 Tech Plaza\" and New York branch is \"123 Wall St\"'"
            ]
          },
          "execution_count": 273,
          "metadata": {},
          "output_type": "execute_result"
        }
      ],
      "source": [
        "street_SF = employee_company_data['office_locations']['san_francisco_hq']['street']\n",
        "street_NY = employee_company_data['office_locations']['new_york_branch']['street']\n",
        "\n",
        "f'Street adress of San Francisco HQ is \"{street_SF}\" and New York branch is \"{street_NY}\"'"
      ]
    },
    {
      "cell_type": "markdown",
      "metadata": {
        "id": "csJGVy5_HDy9"
      },
      "source": [
        "**Question 5:**\n",
        "\n",
        "Determine whether the company offers health insurance and a retirement plan. Provide the results as \"Yes\" or \"No.\""
      ]
    },
    {
      "cell_type": "code",
      "execution_count": 274,
      "metadata": {},
      "outputs": [
        {
          "data": {
            "text/plain": [
              "dict_keys(['health_insurance', 'retirement_plan', 'vacation_days'])"
            ]
          },
          "execution_count": 274,
          "metadata": {},
          "output_type": "execute_result"
        }
      ],
      "source": [
        "employee_company_data['benefits'].keys()"
      ]
    },
    {
      "cell_type": "code",
      "execution_count": 275,
      "metadata": {},
      "outputs": [
        {
          "name": "stdout",
          "output_type": "stream",
          "text": [
            "Health Insurance:  True\n",
            "Retirment Plan:  True\n"
          ]
        }
      ],
      "source": [
        "health_insurance = employee_company_data['benefits']['health_insurance']\n",
        "retirment_plan = employee_company_data['benefits']['retirement_plan']\n",
        "\n",
        "print('Health Insurance: ',health_insurance)\n",
        "print('Retirment Plan: ',health_insurance)\n"
      ]
    },
    {
      "cell_type": "markdown",
      "metadata": {
        "id": "A_odL01bIeW9"
      },
      "source": [
        "**Question 6:**\n",
        "\n",
        "Display the version and last updated date from the metadata section of the JSON data."
      ]
    },
    {
      "cell_type": "code",
      "execution_count": 276,
      "metadata": {
        "id": "pb9Xy3m2Iytd"
      },
      "outputs": [
        {
          "data": {
            "text/plain": [
              "{'version': '1.0',\n",
              " 'description': 'Employee and Company Data',\n",
              " 'last_updated': '2023-09-30'}"
            ]
          },
          "execution_count": 276,
          "metadata": {},
          "output_type": "execute_result"
        }
      ],
      "source": [
        "employee_company_data['metadata']"
      ]
    },
    {
      "cell_type": "markdown",
      "metadata": {
        "id": "uP7uTQUsJDKQ"
      },
      "source": [
        "**Question 7:**\n",
        "\n",
        " Sort the employees by their hire date in ascending order and display the first five employees in the sorted list."
      ]
    },
    {
      "cell_type": "code",
      "execution_count": 277,
      "metadata": {
        "id": "_uHzAfPnJh4n"
      },
      "outputs": [
        {
          "data": {
            "text/html": [
              "<div>\n",
              "<style scoped>\n",
              "    .dataframe tbody tr th:only-of-type {\n",
              "        vertical-align: middle;\n",
              "    }\n",
              "\n",
              "    .dataframe tbody tr th {\n",
              "        vertical-align: top;\n",
              "    }\n",
              "\n",
              "    .dataframe thead th {\n",
              "        text-align: right;\n",
              "    }\n",
              "</style>\n",
              "<table border=\"1\" class=\"dataframe\">\n",
              "  <thead>\n",
              "    <tr style=\"text-align: right;\">\n",
              "      <th></th>\n",
              "      <th>id</th>\n",
              "      <th>firstName</th>\n",
              "      <th>lastName</th>\n",
              "      <th>position</th>\n",
              "      <th>salary</th>\n",
              "      <th>email</th>\n",
              "      <th>hireDate</th>\n",
              "      <th>manager</th>\n",
              "      <th>address</th>\n",
              "    </tr>\n",
              "  </thead>\n",
              "  <tbody>\n",
              "    <tr>\n",
              "      <th>2</th>\n",
              "      <td>3</td>\n",
              "      <td>Bob</td>\n",
              "      <td>Johnson</td>\n",
              "      <td>Product Manager</td>\n",
              "      <td>85000</td>\n",
              "      <td>bob.johnson@techcorp.com</td>\n",
              "      <td>2018-03-10</td>\n",
              "      <td>Sarah Williams</td>\n",
              "      <td>{'street': '789 Oak St', 'city': 'San Francisc...</td>\n",
              "    </tr>\n",
              "    <tr>\n",
              "      <th>1</th>\n",
              "      <td>2</td>\n",
              "      <td>Alice</td>\n",
              "      <td>Smith</td>\n",
              "      <td>Data Analyst</td>\n",
              "      <td>60000</td>\n",
              "      <td>alice.smith@techcorp.com</td>\n",
              "      <td>2019-08-22</td>\n",
              "      <td>Michael Brown</td>\n",
              "      <td>{'street': '456 Elm St', 'city': 'San Francisc...</td>\n",
              "    </tr>\n",
              "    <tr>\n",
              "      <th>0</th>\n",
              "      <td>1</td>\n",
              "      <td>John</td>\n",
              "      <td>Doe</td>\n",
              "      <td>Software Engineer</td>\n",
              "      <td>75000</td>\n",
              "      <td>john.doe@techcorp.com</td>\n",
              "      <td>2020-05-15</td>\n",
              "      <td>Michael Brown</td>\n",
              "      <td>{'street': '123 Main St', 'city': 'San Francis...</td>\n",
              "    </tr>\n",
              "    <tr>\n",
              "      <th>3</th>\n",
              "      <td>4</td>\n",
              "      <td>Emily</td>\n",
              "      <td>Wilson</td>\n",
              "      <td>UX Designer</td>\n",
              "      <td>70000</td>\n",
              "      <td>emily.wilson@techcorp.com</td>\n",
              "      <td>2021-02-28</td>\n",
              "      <td>Sarah Williams</td>\n",
              "      <td>{'street': '101 Pine St', 'city': 'San Francis...</td>\n",
              "    </tr>\n",
              "  </tbody>\n",
              "</table>\n",
              "</div>"
            ],
            "text/plain": [
              "   id firstName lastName           position  salary  \\\n",
              "2   3       Bob  Johnson    Product Manager   85000   \n",
              "1   2     Alice    Smith       Data Analyst   60000   \n",
              "0   1      John      Doe  Software Engineer   75000   \n",
              "3   4     Emily   Wilson        UX Designer   70000   \n",
              "\n",
              "                       email    hireDate         manager  \\\n",
              "2   bob.johnson@techcorp.com  2018-03-10  Sarah Williams   \n",
              "1   alice.smith@techcorp.com  2019-08-22   Michael Brown   \n",
              "0      john.doe@techcorp.com  2020-05-15   Michael Brown   \n",
              "3  emily.wilson@techcorp.com  2021-02-28  Sarah Williams   \n",
              "\n",
              "                                             address  \n",
              "2  {'street': '789 Oak St', 'city': 'San Francisc...  \n",
              "1  {'street': '456 Elm St', 'city': 'San Francisc...  \n",
              "0  {'street': '123 Main St', 'city': 'San Francis...  \n",
              "3  {'street': '101 Pine St', 'city': 'San Francis...  "
            ]
          },
          "execution_count": 277,
          "metadata": {},
          "output_type": "execute_result"
        }
      ],
      "source": [
        "employees_df.sort_values(by='hireDate')"
      ]
    },
    {
      "cell_type": "markdown",
      "metadata": {
        "id": "n7XmTMjjJqOM"
      },
      "source": [
        "**Question 8:**\n",
        "\n",
        "Count the number of employees in the dataset and display the result."
      ]
    },
    {
      "cell_type": "code",
      "execution_count": 278,
      "metadata": {
        "id": "-cVlWdRLJ1zP"
      },
      "outputs": [
        {
          "data": {
            "text/plain": [
              "4"
            ]
          },
          "execution_count": 278,
          "metadata": {},
          "output_type": "execute_result"
        }
      ],
      "source": [
        "employees_df['firstName'].count()"
      ]
    },
    {
      "cell_type": "markdown",
      "metadata": {
        "id": "fuOvAHNQKQPG"
      },
      "source": [
        "**Question 9:**\n",
        "\n",
        "Identify employees who do not have a manager (i.e., manager field is empty), and display their names and positions."
      ]
    },
    {
      "cell_type": "code",
      "execution_count": 279,
      "metadata": {
        "id": "KlEY1SANKVc4"
      },
      "outputs": [
        {
          "name": "stdout",
          "output_type": "stream",
          "text": [
            "None of the employ is without a manager\n"
          ]
        }
      ],
      "source": [
        "employees_df['manager'].isnull()\n",
        "\n",
        "print('None of the employ is without a manager')"
      ]
    },
    {
      "cell_type": "markdown",
      "metadata": {
        "id": "tYV7TQDMKX-o"
      },
      "source": [
        "**Question 10: Bonus Part**\n",
        "\n",
        "Using a geocoding service or library of your choice (e.g., geopy), convert the street addresses of all office locations into latitude and longitude coordinates. Then, provide the coordinates for each office location."
      ]
    },
    {
      "cell_type": "code",
      "execution_count": 280,
      "metadata": {},
      "outputs": [],
      "source": [
        "from geopy.geocoders import Nominatim"
      ]
    },
    {
      "cell_type": "code",
      "execution_count": 281,
      "metadata": {},
      "outputs": [
        {
          "data": {
            "text/plain": [
              "'123 Wall St'"
            ]
          },
          "execution_count": 281,
          "metadata": {},
          "output_type": "execute_result"
        }
      ],
      "source": [
        "street_SF\n",
        "street_NY"
      ]
    },
    {
      "cell_type": "code",
      "execution_count": 282,
      "metadata": {},
      "outputs": [],
      "source": [
        "# Initialize the geocoder\n",
        "geolocator = Nominatim(user_agent=\"my_geocoder\")"
      ]
    },
    {
      "cell_type": "code",
      "execution_count": 284,
      "metadata": {},
      "outputs": [],
      "source": [
        "# Geocode the address\n",
        "location_SF = geolocator.geocode(street_SF)\n",
        "location_NY = geolocator.geocode(street_NY)"
      ]
    },
    {
      "cell_type": "code",
      "execution_count": 285,
      "metadata": {},
      "outputs": [
        {
          "name": "stdout",
          "output_type": "stream",
          "text": [
            "Latitude of San Francisco HQ is 33.57840935 and longitude is -101.90263458857967\n",
            "Latitude of New York Branch is 37.9904799 and longitude is -120.38250281455683\n"
          ]
        }
      ],
      "source": [
        "print(f'Latitude of San Francisco HQ is {location_SF.latitude} and longitude is {location_SF.longitude}')\n",
        "print(f'Latitude of New York Branch is {location_NY.latitude} and longitude is {location_NY.longitude}')"
      ]
    }
  ],
  "metadata": {
    "colab": {
      "provenance": []
    },
    "kernelspec": {
      "display_name": "Python 3",
      "name": "python3"
    },
    "language_info": {
      "codemirror_mode": {
        "name": "ipython",
        "version": 3
      },
      "file_extension": ".py",
      "mimetype": "text/x-python",
      "name": "python",
      "nbconvert_exporter": "python",
      "pygments_lexer": "ipython3",
      "version": "3.12.1"
    }
  },
  "nbformat": 4,
  "nbformat_minor": 0
}
